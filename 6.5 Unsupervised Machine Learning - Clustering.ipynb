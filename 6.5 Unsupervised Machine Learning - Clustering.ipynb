{
 "cells": [
  {
   "cell_type": "markdown",
   "id": "debb78ff",
   "metadata": {},
   "source": [
    "## 6.5 Unsupervised Machine Learning - Clustering"
   ]
  },
  {
   "cell_type": "markdown",
   "id": "64c34b64",
   "metadata": {},
   "source": [
    "### This script contains the following:\n",
    "\n",
    "#### 1. Importing libraries and data and drop unneeded columns\n",
    "#### 2. The elbow technique\n",
    "#### 3. k-means clustering"
   ]
  },
  {
   "cell_type": "markdown",
   "id": "fa26a1be",
   "metadata": {},
   "source": [
    "### 1. Importing libraries and data and renaming columns"
   ]
  },
  {
   "cell_type": "code",
   "execution_count": 1,
   "id": "5accb2bc",
   "metadata": {},
   "outputs": [],
   "source": [
    "import pandas as pd\n",
    "import numpy as np\n",
    "import seaborn as sns\n",
    "import matplotlib\n",
    "import matplotlib.pyplot as plt\n",
    "import os\n",
    "import sklearn\n",
    "from sklearn.cluster import KMeans # Here is where you import the k-means algorithm from scikit-learn.\n",
    "import pylab as pl # PyLab is a convenience module that bulk imports matplotlib."
   ]
  },
  {
   "cell_type": "code",
   "execution_count": 2,
   "id": "93125099",
   "metadata": {},
   "outputs": [],
   "source": [
    "# This option ensures the graphs you create are displayed in your notebook without the need to \"call\" them specifically.\n",
    "\n",
    "%matplotlib inline"
   ]
  },
  {
   "cell_type": "code",
   "execution_count": 3,
   "id": "3431d7e8",
   "metadata": {},
   "outputs": [],
   "source": [
    "path = r'/Users/kristincpeterson/Desktop/DataAnalytics/Achievement_6/Final Project - Espaces Verts'"
   ]
  },
  {
   "cell_type": "code",
   "execution_count": 4,
   "id": "f9230c10",
   "metadata": {},
   "outputs": [],
   "source": [
    "df = pd.read_csv(os.path.join(path, '02 Data', 'Prepared_Data', 'espaces_verts_75_updated.csv'))"
   ]
  },
  {
   "cell_type": "code",
   "execution_count": 5,
   "id": "c0562e93",
   "metadata": {},
   "outputs": [
    {
     "data": {
      "text/html": [
       "<div>\n",
       "<style scoped>\n",
       "    .dataframe tbody tr th:only-of-type {\n",
       "        vertical-align: middle;\n",
       "    }\n",
       "\n",
       "    .dataframe tbody tr th {\n",
       "        vertical-align: top;\n",
       "    }\n",
       "\n",
       "    .dataframe thead th {\n",
       "        text-align: right;\n",
       "    }\n",
       "</style>\n",
       "<table border=\"1\" class=\"dataframe\">\n",
       "  <thead>\n",
       "    <tr style=\"text-align: right;\">\n",
       "      <th></th>\n",
       "      <th>Unnamed: 0.1</th>\n",
       "      <th>Unnamed: 0</th>\n",
       "      <th>ID</th>\n",
       "      <th>Name</th>\n",
       "      <th>Type</th>\n",
       "      <th>Category</th>\n",
       "      <th>Street Number</th>\n",
       "      <th>Street Number Suffix</th>\n",
       "      <th>Street Type</th>\n",
       "      <th>Street Name</th>\n",
       "      <th>...</th>\n",
       "      <th>Perimeter</th>\n",
       "      <th>Year opened</th>\n",
       "      <th>Year renovated</th>\n",
       "      <th>Former name</th>\n",
       "      <th>Year name changed</th>\n",
       "      <th>Number of entities</th>\n",
       "      <th>Open 24hrs</th>\n",
       "      <th>Geo Shape</th>\n",
       "      <th>URL_PLAN</th>\n",
       "      <th>Area category</th>\n",
       "    </tr>\n",
       "  </thead>\n",
       "  <tbody>\n",
       "    <tr>\n",
       "      <th>0</th>\n",
       "      <td>0</td>\n",
       "      <td>0</td>\n",
       "      <td>11255.0</td>\n",
       "      <td>JARDINIERES DU 39 QUAI DE LA SEINE</td>\n",
       "      <td>Décorations sur la voie publique</td>\n",
       "      <td>Jardiniere</td>\n",
       "      <td>39.0</td>\n",
       "      <td>NaN</td>\n",
       "      <td>QUAI DE LA</td>\n",
       "      <td>SEINE</td>\n",
       "      <td>...</td>\n",
       "      <td>30.737389</td>\n",
       "      <td>2011.0</td>\n",
       "      <td>NaN</td>\n",
       "      <td>NaN</td>\n",
       "      <td>NaN</td>\n",
       "      <td>2.0</td>\n",
       "      <td>NaN</td>\n",
       "      <td>{\"coordinates\": [[[[2.3733184661747395, 48.886...</td>\n",
       "      <td>http://p70-planet.apps.paris.mdp/Advitium/Appe...</td>\n",
       "      <td>Small size</td>\n",
       "    </tr>\n",
       "    <tr>\n",
       "      <th>1</th>\n",
       "      <td>1</td>\n",
       "      <td>1</td>\n",
       "      <td>10804.0</td>\n",
       "      <td>JARDINIERES DU PARVIS DE LA PLACE RAOUL DAUTRY</td>\n",
       "      <td>Décorations sur la voie publique</td>\n",
       "      <td>Jardiniere</td>\n",
       "      <td>6.0</td>\n",
       "      <td>S</td>\n",
       "      <td>PLACE</td>\n",
       "      <td>RAOUL DAUTRY</td>\n",
       "      <td>...</td>\n",
       "      <td>312.718568</td>\n",
       "      <td>NaN</td>\n",
       "      <td>NaN</td>\n",
       "      <td>NaN</td>\n",
       "      <td>NaN</td>\n",
       "      <td>4.0</td>\n",
       "      <td>NaN</td>\n",
       "      <td>{\"coordinates\": [[[[2.3216385869638, 48.841417...</td>\n",
       "      <td>http://p70-planet.apps.paris.mdp/Advitium/Appe...</td>\n",
       "      <td>Large size</td>\n",
       "    </tr>\n",
       "    <tr>\n",
       "      <th>2</th>\n",
       "      <td>2</td>\n",
       "      <td>2</td>\n",
       "      <td>10937.0</td>\n",
       "      <td>JARDINIERES ANGLE DES RUES DE TOLBIAC - BAUDRI...</td>\n",
       "      <td>Décorations sur la voie publique</td>\n",
       "      <td>Jardiniere</td>\n",
       "      <td>47.0</td>\n",
       "      <td>NaN</td>\n",
       "      <td>RUE</td>\n",
       "      <td>BAUDRICOURT</td>\n",
       "      <td>...</td>\n",
       "      <td>80.353023</td>\n",
       "      <td>2005.0</td>\n",
       "      <td>NaN</td>\n",
       "      <td>NaN</td>\n",
       "      <td>NaN</td>\n",
       "      <td>2.0</td>\n",
       "      <td>NaN</td>\n",
       "      <td>{\"coordinates\": [[[[2.363882470474931, 48.8265...</td>\n",
       "      <td>http://p70-planet.apps.paris.mdp/Advitium/Appe...</td>\n",
       "      <td>Small size</td>\n",
       "    </tr>\n",
       "    <tr>\n",
       "      <th>3</th>\n",
       "      <td>3</td>\n",
       "      <td>3</td>\n",
       "      <td>219.0</td>\n",
       "      <td>JARDIN FRANCOISE GIROUD</td>\n",
       "      <td>Promenades ouvertes</td>\n",
       "      <td>Jardin</td>\n",
       "      <td>4.0</td>\n",
       "      <td>V</td>\n",
       "      <td>PLACE D</td>\n",
       "      <td>ITALIE</td>\n",
       "      <td>...</td>\n",
       "      <td>245.468867</td>\n",
       "      <td>1878.0</td>\n",
       "      <td>2019.0</td>\n",
       "      <td>SQUARE DE LA PLACE D'ITALIE</td>\n",
       "      <td>2013.0</td>\n",
       "      <td>1.0</td>\n",
       "      <td>Oui</td>\n",
       "      <td>{\"coordinates\": [[[2.356129760906164, 48.83152...</td>\n",
       "      <td>http://p70-planet.apps.paris.mdp/Advitium/Appe...</td>\n",
       "      <td>Very large size</td>\n",
       "    </tr>\n",
       "    <tr>\n",
       "      <th>4</th>\n",
       "      <td>4</td>\n",
       "      <td>4</td>\n",
       "      <td>10303.0</td>\n",
       "      <td>JARDINIERE DE LA PLACE FRANZ LISZT</td>\n",
       "      <td>Décorations sur la voie publique</td>\n",
       "      <td>Jardiniere</td>\n",
       "      <td>2.0</td>\n",
       "      <td>BIS V</td>\n",
       "      <td>PLACE</td>\n",
       "      <td>FRANZ LISTZ</td>\n",
       "      <td>...</td>\n",
       "      <td>52.677758</td>\n",
       "      <td>NaN</td>\n",
       "      <td>NaN</td>\n",
       "      <td>NaN</td>\n",
       "      <td>NaN</td>\n",
       "      <td>1.0</td>\n",
       "      <td>NaN</td>\n",
       "      <td>{\"coordinates\": [[[2.351449405515269, 48.87773...</td>\n",
       "      <td>http://p70-planet.apps.paris.mdp/Advitium/Appe...</td>\n",
       "      <td>Small size</td>\n",
       "    </tr>\n",
       "  </tbody>\n",
       "</table>\n",
       "<p>5 rows × 25 columns</p>\n",
       "</div>"
      ],
      "text/plain": [
       "   Unnamed: 0.1  Unnamed: 0       ID  \\\n",
       "0             0           0  11255.0   \n",
       "1             1           1  10804.0   \n",
       "2             2           2  10937.0   \n",
       "3             3           3    219.0   \n",
       "4             4           4  10303.0   \n",
       "\n",
       "                                                Name  \\\n",
       "0                 JARDINIERES DU 39 QUAI DE LA SEINE   \n",
       "1     JARDINIERES DU PARVIS DE LA PLACE RAOUL DAUTRY   \n",
       "2  JARDINIERES ANGLE DES RUES DE TOLBIAC - BAUDRI...   \n",
       "3                            JARDIN FRANCOISE GIROUD   \n",
       "4                 JARDINIERE DE LA PLACE FRANZ LISZT   \n",
       "\n",
       "                               Type    Category  Street Number  \\\n",
       "0  Décorations sur la voie publique  Jardiniere           39.0   \n",
       "1  Décorations sur la voie publique  Jardiniere            6.0   \n",
       "2  Décorations sur la voie publique  Jardiniere           47.0   \n",
       "3               Promenades ouvertes      Jardin            4.0   \n",
       "4  Décorations sur la voie publique  Jardiniere            2.0   \n",
       "\n",
       "  Street Number Suffix Street Type   Street Name  ...   Perimeter  \\\n",
       "0                  NaN  QUAI DE LA         SEINE  ...   30.737389   \n",
       "1                    S       PLACE  RAOUL DAUTRY  ...  312.718568   \n",
       "2                  NaN         RUE   BAUDRICOURT  ...   80.353023   \n",
       "3                    V     PLACE D        ITALIE  ...  245.468867   \n",
       "4                BIS V       PLACE   FRANZ LISTZ  ...   52.677758   \n",
       "\n",
       "   Year opened  Year renovated                  Former name Year name changed  \\\n",
       "0       2011.0             NaN                          NaN               NaN   \n",
       "1          NaN             NaN                          NaN               NaN   \n",
       "2       2005.0             NaN                          NaN               NaN   \n",
       "3       1878.0          2019.0  SQUARE DE LA PLACE D'ITALIE            2013.0   \n",
       "4          NaN             NaN                          NaN               NaN   \n",
       "\n",
       "   Number of entities  Open 24hrs  \\\n",
       "0                 2.0         NaN   \n",
       "1                 4.0         NaN   \n",
       "2                 2.0         NaN   \n",
       "3                 1.0         Oui   \n",
       "4                 1.0         NaN   \n",
       "\n",
       "                                           Geo Shape  \\\n",
       "0  {\"coordinates\": [[[[2.3733184661747395, 48.886...   \n",
       "1  {\"coordinates\": [[[[2.3216385869638, 48.841417...   \n",
       "2  {\"coordinates\": [[[[2.363882470474931, 48.8265...   \n",
       "3  {\"coordinates\": [[[2.356129760906164, 48.83152...   \n",
       "4  {\"coordinates\": [[[2.351449405515269, 48.87773...   \n",
       "\n",
       "                                            URL_PLAN    Area category  \n",
       "0  http://p70-planet.apps.paris.mdp/Advitium/Appe...       Small size  \n",
       "1  http://p70-planet.apps.paris.mdp/Advitium/Appe...       Large size  \n",
       "2  http://p70-planet.apps.paris.mdp/Advitium/Appe...       Small size  \n",
       "3  http://p70-planet.apps.paris.mdp/Advitium/Appe...  Very large size  \n",
       "4  http://p70-planet.apps.paris.mdp/Advitium/Appe...       Small size  \n",
       "\n",
       "[5 rows x 25 columns]"
      ]
     },
     "execution_count": 5,
     "metadata": {},
     "output_type": "execute_result"
    }
   ],
   "source": [
    "df.head()"
   ]
  },
  {
   "cell_type": "code",
   "execution_count": 6,
   "id": "9a2eec5c",
   "metadata": {},
   "outputs": [
    {
     "data": {
      "text/plain": [
       "(2286, 25)"
      ]
     },
     "execution_count": 6,
     "metadata": {},
     "output_type": "execute_result"
    }
   ],
   "source": [
    "df.shape"
   ]
  },
  {
   "cell_type": "code",
   "execution_count": 7,
   "id": "a3d66704",
   "metadata": {},
   "outputs": [],
   "source": [
    "# Remove Unnamed columns\n",
    "\n",
    "df.drop(columns=['Unnamed: 0', 'Unnamed: 0.1'], inplace=True)"
   ]
  },
  {
   "cell_type": "code",
   "execution_count": 8,
   "id": "0455ef1c",
   "metadata": {},
   "outputs": [
    {
     "data": {
      "text/plain": [
       "Index(['ID', 'Name', 'Type', 'Category', 'Street Number',\n",
       "       'Street Number Suffix', 'Street Type', 'Street Name', 'Zip code',\n",
       "       'Calculated area', 'Actual total area', 'Horticultural area',\n",
       "       'Enclosure', 'Perimeter', 'Year opened', 'Year renovated',\n",
       "       'Former name', 'Year name changed', 'Number of entities', 'Open 24hrs',\n",
       "       'Geo Shape', 'URL_PLAN', 'Area category'],\n",
       "      dtype='object')"
      ]
     },
     "execution_count": 8,
     "metadata": {},
     "output_type": "execute_result"
    }
   ],
   "source": [
    "df.columns"
   ]
  },
  {
   "cell_type": "markdown",
   "id": "94fdb5c9",
   "metadata": {},
   "source": [
    "#### Remove categorical variables because they cannot be included in k-means tasks."
   ]
  },
  {
   "cell_type": "code",
   "execution_count": 9,
   "id": "8a4d8ed3",
   "metadata": {},
   "outputs": [],
   "source": [
    "# Remove categorical variables\n",
    "\n",
    "df.drop(columns=['ID', \n",
    "                 'Name', \n",
    "                 'Type', \n",
    "                 'Category', \n",
    "                 'Street Number', \n",
    "                 'Street Number Suffix', \n",
    "                 'Street Type', \n",
    "                 'Street Name', \n",
    "                 'Enclosure', \n",
    "                 'Former name', \n",
    "                 'Open 24hrs', \n",
    "                 'URL_PLAN', \n",
    "                 'Area category'\n",
    "                ], inplace=True)"
   ]
  },
  {
   "cell_type": "code",
   "execution_count": 10,
   "id": "16b3d557",
   "metadata": {},
   "outputs": [
    {
     "data": {
      "text/plain": [
       "Index(['Zip code', 'Calculated area', 'Actual total area',\n",
       "       'Horticultural area', 'Perimeter', 'Year opened', 'Year renovated',\n",
       "       'Year name changed', 'Number of entities', 'Geo Shape'],\n",
       "      dtype='object')"
      ]
     },
     "execution_count": 10,
     "metadata": {},
     "output_type": "execute_result"
    }
   ],
   "source": [
    "df.columns"
   ]
  },
  {
   "cell_type": "markdown",
   "id": "c5c76823",
   "metadata": {},
   "source": [
    "#### Consider scaling the data so that the difference between two variables' scale isn't too large."
   ]
  },
  {
   "cell_type": "code",
   "execution_count": 11,
   "id": "37d51bd2",
   "metadata": {},
   "outputs": [
    {
     "data": {
      "text/html": [
       "<div>\n",
       "<style scoped>\n",
       "    .dataframe tbody tr th:only-of-type {\n",
       "        vertical-align: middle;\n",
       "    }\n",
       "\n",
       "    .dataframe tbody tr th {\n",
       "        vertical-align: top;\n",
       "    }\n",
       "\n",
       "    .dataframe thead th {\n",
       "        text-align: right;\n",
       "    }\n",
       "</style>\n",
       "<table border=\"1\" class=\"dataframe\">\n",
       "  <thead>\n",
       "    <tr style=\"text-align: right;\">\n",
       "      <th></th>\n",
       "      <th>Zip code</th>\n",
       "      <th>Calculated area</th>\n",
       "      <th>Actual total area</th>\n",
       "      <th>Horticultural area</th>\n",
       "      <th>Perimeter</th>\n",
       "      <th>Year opened</th>\n",
       "      <th>Year renovated</th>\n",
       "      <th>Year name changed</th>\n",
       "      <th>Number of entities</th>\n",
       "    </tr>\n",
       "  </thead>\n",
       "  <tbody>\n",
       "    <tr>\n",
       "      <th>count</th>\n",
       "      <td>2286.000000</td>\n",
       "      <td>1.975000e+03</td>\n",
       "      <td>1738.000000</td>\n",
       "      <td>1693.000000</td>\n",
       "      <td>1717.000000</td>\n",
       "      <td>1560.000000</td>\n",
       "      <td>97.000000</td>\n",
       "      <td>283.000000</td>\n",
       "      <td>2208.000000</td>\n",
       "    </tr>\n",
       "    <tr>\n",
       "      <th>mean</th>\n",
       "      <td>75013.715661</td>\n",
       "      <td>1.266710e+04</td>\n",
       "      <td>3891.250288</td>\n",
       "      <td>1719.078559</td>\n",
       "      <td>339.665895</td>\n",
       "      <td>2586.005769</td>\n",
       "      <td>2003.670103</td>\n",
       "      <td>1995.314488</td>\n",
       "      <td>2.528986</td>\n",
       "    </tr>\n",
       "    <tr>\n",
       "      <th>std</th>\n",
       "      <td>4.827219</td>\n",
       "      <td>2.770511e+05</td>\n",
       "      <td>19587.202995</td>\n",
       "      <td>7677.145167</td>\n",
       "      <td>834.370044</td>\n",
       "      <td>2102.131188</td>\n",
       "      <td>25.362259</td>\n",
       "      <td>28.199958</td>\n",
       "      <td>5.173043</td>\n",
       "    </tr>\n",
       "    <tr>\n",
       "      <th>min</th>\n",
       "      <td>75001.000000</td>\n",
       "      <td>0.000000e+00</td>\n",
       "      <td>0.000000</td>\n",
       "      <td>0.000000</td>\n",
       "      <td>0.000000</td>\n",
       "      <td>1688.000000</td>\n",
       "      <td>1801.000000</td>\n",
       "      <td>1907.000000</td>\n",
       "      <td>0.000000</td>\n",
       "    </tr>\n",
       "    <tr>\n",
       "      <th>25%</th>\n",
       "      <td>75011.000000</td>\n",
       "      <td>9.200000e+01</td>\n",
       "      <td>92.000000</td>\n",
       "      <td>85.000000</td>\n",
       "      <td>69.008122</td>\n",
       "      <td>1985.000000</td>\n",
       "      <td>2001.000000</td>\n",
       "      <td>1990.000000</td>\n",
       "      <td>1.000000</td>\n",
       "    </tr>\n",
       "    <tr>\n",
       "      <th>50%</th>\n",
       "      <td>75014.000000</td>\n",
       "      <td>4.800000e+02</td>\n",
       "      <td>365.500000</td>\n",
       "      <td>292.000000</td>\n",
       "      <td>179.200207</td>\n",
       "      <td>2010.000000</td>\n",
       "      <td>2010.000000</td>\n",
       "      <td>2007.000000</td>\n",
       "      <td>1.000000</td>\n",
       "    </tr>\n",
       "    <tr>\n",
       "      <th>75%</th>\n",
       "      <td>75018.000000</td>\n",
       "      <td>2.106500e+03</td>\n",
       "      <td>1925.000000</td>\n",
       "      <td>1103.000000</td>\n",
       "      <td>354.028685</td>\n",
       "      <td>2018.000000</td>\n",
       "      <td>2018.000000</td>\n",
       "      <td>2016.000000</td>\n",
       "      <td>2.000000</td>\n",
       "    </tr>\n",
       "    <tr>\n",
       "      <th>max</th>\n",
       "      <td>75020.000000</td>\n",
       "      <td>9.284926e+06</td>\n",
       "      <td>432000.000000</td>\n",
       "      <td>205911.000000</td>\n",
       "      <td>21983.980185</td>\n",
       "      <td>9999.000000</td>\n",
       "      <td>2023.000000</td>\n",
       "      <td>2023.000000</td>\n",
       "      <td>132.000000</td>\n",
       "    </tr>\n",
       "  </tbody>\n",
       "</table>\n",
       "</div>"
      ],
      "text/plain": [
       "           Zip code  Calculated area  Actual total area  Horticultural area  \\\n",
       "count   2286.000000     1.975000e+03        1738.000000         1693.000000   \n",
       "mean   75013.715661     1.266710e+04        3891.250288         1719.078559   \n",
       "std        4.827219     2.770511e+05       19587.202995         7677.145167   \n",
       "min    75001.000000     0.000000e+00           0.000000            0.000000   \n",
       "25%    75011.000000     9.200000e+01          92.000000           85.000000   \n",
       "50%    75014.000000     4.800000e+02         365.500000          292.000000   \n",
       "75%    75018.000000     2.106500e+03        1925.000000         1103.000000   \n",
       "max    75020.000000     9.284926e+06      432000.000000       205911.000000   \n",
       "\n",
       "          Perimeter  Year opened  Year renovated  Year name changed  \\\n",
       "count   1717.000000  1560.000000       97.000000         283.000000   \n",
       "mean     339.665895  2586.005769     2003.670103        1995.314488   \n",
       "std      834.370044  2102.131188       25.362259          28.199958   \n",
       "min        0.000000  1688.000000     1801.000000        1907.000000   \n",
       "25%       69.008122  1985.000000     2001.000000        1990.000000   \n",
       "50%      179.200207  2010.000000     2010.000000        2007.000000   \n",
       "75%      354.028685  2018.000000     2018.000000        2016.000000   \n",
       "max    21983.980185  9999.000000     2023.000000        2023.000000   \n",
       "\n",
       "       Number of entities  \n",
       "count         2208.000000  \n",
       "mean             2.528986  \n",
       "std              5.173043  \n",
       "min              0.000000  \n",
       "25%              1.000000  \n",
       "50%              1.000000  \n",
       "75%              2.000000  \n",
       "max            132.000000  "
      ]
     },
     "execution_count": 11,
     "metadata": {},
     "output_type": "execute_result"
    }
   ],
   "source": [
    "df.describe()"
   ]
  },
  {
   "cell_type": "markdown",
   "id": "6cca4c8e",
   "metadata": {},
   "source": [
    "#### Max values\n",
    "    9,284,926 (Calculated area)\n",
    "    432,000 (Actual total area)\n",
    "    205,911 (Horticultural area)\n",
    "#### Dropping the Calculated area column elminates extreme outliers.\n",
    "##### I am interested in exploring: \n",
    "    1. Actual total area & Horticultural area\n",
    "    2. Actual total area & Zip code\n",
    "    3. Horticultural area & Zip code\n",
    "    4. Year opened & Zip code\n",
    "    5. Year opened & Actual total area\n",
    "    6. Year opened & Horticultural area\n",
    "    6. Year renovated & Zip code\n",
    "    7. Year renovated & Actual total area\n",
    "    8. Year renovated & Horticultural area\n",
    "##### However there are too many missing values in this dataset to use k-means clustering approach on all columns."
   ]
  },
  {
   "cell_type": "code",
   "execution_count": 12,
   "id": "56d13927",
   "metadata": {},
   "outputs": [
    {
     "data": {
      "text/plain": [
       "Year renovated        95.756780\n",
       "Year name changed     87.620297\n",
       "Year opened           31.758530\n",
       "Horticultural area    25.940507\n",
       "Perimeter             24.890639\n",
       "Actual total area     23.972003\n",
       "Calculated area       13.604549\n",
       "Number of entities     3.412073\n",
       "Geo Shape              0.087489\n",
       "Zip code               0.000000\n",
       "dtype: float64"
      ]
     },
     "execution_count": 12,
     "metadata": {},
     "output_type": "execute_result"
    }
   ],
   "source": [
    "# Missing values check\n",
    "missing_values = df.isnull().sum()\n",
    "\n",
    "# Calculate the percentage of missing values for each column\n",
    "missing_percentage = (missing_values / len(df)) * 100\n",
    "\n",
    "# Display the percentage of missing values for each column\n",
    "missing_percentage.sort_values(ascending=False)"
   ]
  },
  {
   "cell_type": "markdown",
   "id": "d45b9952",
   "metadata": {},
   "source": [
    "##### Year renovated, Year name changed, Year opened ---> too many missing values for for k-means clustering.\n",
    "##### Calculated area includes extreme outliers.\n",
    "##### Perimeter, Number of entities not of interest to this analysis.\n",
    "##### Geo Shape column produces value error (unable to score)"
   ]
  },
  {
   "cell_type": "code",
   "execution_count": 13,
   "id": "9d5e3d5c",
   "metadata": {},
   "outputs": [],
   "source": [
    "# Remove columns for reasons listed above\n",
    "\n",
    "df.drop(columns=['Year renovated', \n",
    "                 'Year name changed', \n",
    "                 'Year opened', \n",
    "                 'Perimeter',\n",
    "                 'Calculated area',\n",
    "                 'Number of entities', \n",
    "                 'Geo Shape',\n",
    "                ], inplace=True)"
   ]
  },
  {
   "cell_type": "code",
   "execution_count": 14,
   "id": "9981a865",
   "metadata": {},
   "outputs": [
    {
     "data": {
      "text/plain": [
       "Index(['Zip code', 'Actual total area', 'Horticultural area'], dtype='object')"
      ]
     },
     "execution_count": 14,
     "metadata": {},
     "output_type": "execute_result"
    }
   ],
   "source": [
    "df.columns"
   ]
  },
  {
   "cell_type": "code",
   "execution_count": 15,
   "id": "c80f97fe",
   "metadata": {},
   "outputs": [
    {
     "name": "stdout",
     "output_type": "stream",
     "text": [
      "Number of overlapping missing values: 548\n"
     ]
    }
   ],
   "source": [
    "# Check for missing values in the Actual total area and Horticultural area columns\n",
    "missing_actual = df['Actual total area'].isnull()\n",
    "missing_calculated = df['Horticultural area'].isnull()\n",
    "\n",
    "# Find the overlap where both are missing\n",
    "overlap_missing = missing_actual & missing_calculated\n",
    "\n",
    "# Count the number of overlapping missing values\n",
    "num_overlap_missing = overlap_missing.sum()\n",
    "\n",
    "print(f\"Number of overlapping missing values: {num_overlap_missing}\")"
   ]
  },
  {
   "cell_type": "code",
   "execution_count": 16,
   "id": "beb12da9",
   "metadata": {},
   "outputs": [
    {
     "name": "stdout",
     "output_type": "stream",
     "text": [
      "548\n"
     ]
    }
   ],
   "source": [
    "# Check missing values for Actual total area\n",
    "\n",
    "print(df['Actual total area'].isnull().sum())"
   ]
  },
  {
   "cell_type": "code",
   "execution_count": 17,
   "id": "1e5798e0",
   "metadata": {},
   "outputs": [
    {
     "name": "stdout",
     "output_type": "stream",
     "text": [
      "593\n"
     ]
    }
   ],
   "source": [
    "# Check missing values for Horticultural area\n",
    "\n",
    "print(df['Horticultural area'].isnull().sum())"
   ]
  },
  {
   "cell_type": "code",
   "execution_count": 18,
   "id": "20fe72ae",
   "metadata": {},
   "outputs": [],
   "source": [
    "# Creating a new dataset with all missing values removed\n",
    "df_cleaned = df.dropna()"
   ]
  },
  {
   "cell_type": "code",
   "execution_count": 19,
   "id": "8c5a3a94",
   "metadata": {},
   "outputs": [],
   "source": [
    "# Missing values check\n",
    "missing_values = df_cleaned.isnull().sum()"
   ]
  },
  {
   "cell_type": "code",
   "execution_count": 20,
   "id": "47984957",
   "metadata": {},
   "outputs": [
    {
     "data": {
      "text/plain": [
       "(1693, 3)"
      ]
     },
     "execution_count": 20,
     "metadata": {},
     "output_type": "execute_result"
    }
   ],
   "source": [
    "df_cleaned.shape"
   ]
  },
  {
   "cell_type": "markdown",
   "id": "2769ea49",
   "metadata": {},
   "source": [
    "### 2. The elbow technique"
   ]
  },
  {
   "cell_type": "code",
   "execution_count": 21,
   "id": "f6dae343",
   "metadata": {},
   "outputs": [],
   "source": [
    "num_cl = range(1, 10) # Defines the range of potential clusters in the data.\n",
    "kmeans = [KMeans(n_clusters=i) for i in num_cl] # Defines k-means clusters in the range assigned above."
   ]
  },
  {
   "cell_type": "code",
   "execution_count": 22,
   "id": "a6cdcb4e",
   "metadata": {},
   "outputs": [
    {
     "name": "stderr",
     "output_type": "stream",
     "text": [
      "/Users/kristincpeterson/anaconda3/lib/python3.11/site-packages/sklearn/cluster/_kmeans.py:1412: FutureWarning: The default value of `n_init` will change from 10 to 'auto' in 1.4. Set the value of `n_init` explicitly to suppress the warning\n",
      "  super()._check_params_vs_input(X, default_n_init=10)\n",
      "/Users/kristincpeterson/anaconda3/lib/python3.11/site-packages/sklearn/cluster/_kmeans.py:1412: FutureWarning: The default value of `n_init` will change from 10 to 'auto' in 1.4. Set the value of `n_init` explicitly to suppress the warning\n",
      "  super()._check_params_vs_input(X, default_n_init=10)\n",
      "/Users/kristincpeterson/anaconda3/lib/python3.11/site-packages/sklearn/cluster/_kmeans.py:1412: FutureWarning: The default value of `n_init` will change from 10 to 'auto' in 1.4. Set the value of `n_init` explicitly to suppress the warning\n",
      "  super()._check_params_vs_input(X, default_n_init=10)\n",
      "/Users/kristincpeterson/anaconda3/lib/python3.11/site-packages/sklearn/cluster/_kmeans.py:1412: FutureWarning: The default value of `n_init` will change from 10 to 'auto' in 1.4. Set the value of `n_init` explicitly to suppress the warning\n",
      "  super()._check_params_vs_input(X, default_n_init=10)\n",
      "/Users/kristincpeterson/anaconda3/lib/python3.11/site-packages/sklearn/cluster/_kmeans.py:1412: FutureWarning: The default value of `n_init` will change from 10 to 'auto' in 1.4. Set the value of `n_init` explicitly to suppress the warning\n",
      "  super()._check_params_vs_input(X, default_n_init=10)\n",
      "/Users/kristincpeterson/anaconda3/lib/python3.11/site-packages/sklearn/cluster/_kmeans.py:1412: FutureWarning: The default value of `n_init` will change from 10 to 'auto' in 1.4. Set the value of `n_init` explicitly to suppress the warning\n",
      "  super()._check_params_vs_input(X, default_n_init=10)\n",
      "/Users/kristincpeterson/anaconda3/lib/python3.11/site-packages/sklearn/cluster/_kmeans.py:1412: FutureWarning: The default value of `n_init` will change from 10 to 'auto' in 1.4. Set the value of `n_init` explicitly to suppress the warning\n",
      "  super()._check_params_vs_input(X, default_n_init=10)\n",
      "/Users/kristincpeterson/anaconda3/lib/python3.11/site-packages/sklearn/cluster/_kmeans.py:1412: FutureWarning: The default value of `n_init` will change from 10 to 'auto' in 1.4. Set the value of `n_init` explicitly to suppress the warning\n",
      "  super()._check_params_vs_input(X, default_n_init=10)\n",
      "/Users/kristincpeterson/anaconda3/lib/python3.11/site-packages/sklearn/cluster/_kmeans.py:1412: FutureWarning: The default value of `n_init` will change from 10 to 'auto' in 1.4. Set the value of `n_init` explicitly to suppress the warning\n",
      "  super()._check_params_vs_input(X, default_n_init=10)\n"
     ]
    },
    {
     "data": {
      "text/plain": [
       "[-367261031521.9321,\n",
       " -133733503237.21149,\n",
       " -74570881435.68652,\n",
       " -53789393693.63655,\n",
       " -36116895200.98535,\n",
       " -23126092044.23537,\n",
       " -13966556012.973248,\n",
       " -10330246000.56986,\n",
       " -8641739012.246553]"
      ]
     },
     "execution_count": 22,
     "metadata": {},
     "output_type": "execute_result"
    }
   ],
   "source": [
    "score = [kmeans[i].fit(df_cleaned).score(df_cleaned) for i in range(len(kmeans))] # Creates a score that represents \n",
    "# a rate of variation for the given cluster option.\n",
    "\n",
    "score"
   ]
  },
  {
   "cell_type": "code",
   "execution_count": 23,
   "id": "08174969",
   "metadata": {},
   "outputs": [
    {
     "data": {
      "image/png": "[encoded data removed]",
      "text/plain": [
       "<Figure size 640x480 with 1 Axes>"
      ]
     },
     "metadata": {},
     "output_type": "display_data"
    }
   ],
   "source": [
    "# Plot the elbow curve using PyLab.\n",
    "\n",
    "pl.plot(num_cl,score)\n",
    "pl.xlabel('Number of Clusters')\n",
    "pl.ylabel('Score')\n",
    "pl.title('Elbow Curve')\n",
    "pl.show()"
   ]
  },
  {
   "cell_type": "markdown",
   "id": "4347650d",
   "metadata": {},
   "source": [
    "##### There's a large jump from two to three on the x-axis, but after that, the curve straightens out. This means that the optimal count for our clusters is three."
   ]
  },
  {
   "cell_type": "markdown",
   "id": "cd8ea294",
   "metadata": {},
   "source": [
    "### 3. k-means clustering"
   ]
  },
  {
   "cell_type": "code",
   "execution_count": 24,
   "id": "cdb531f1",
   "metadata": {},
   "outputs": [],
   "source": [
    "# Create the k-means object.\n",
    "\n",
    "kmeans = KMeans(n_clusters = 3) \n"
   ]
  },
  {
   "cell_type": "code",
   "execution_count": 25,
   "id": "33c8557e",
   "metadata": {},
   "outputs": [
    {
     "name": "stderr",
     "output_type": "stream",
     "text": [
      "/Users/kristincpeterson/anaconda3/lib/python3.11/site-packages/sklearn/cluster/_kmeans.py:1412: FutureWarning: The default value of `n_init` will change from 10 to 'auto' in 1.4. Set the value of `n_init` explicitly to suppress the warning\n",
      "  super()._check_params_vs_input(X, default_n_init=10)\n"
     ]
    },
    {
     "data": {
      "text/html": [
       "<style>#sk-container-id-1 {color: black;}#sk-container-id-1 pre{padding: 0;}#sk-container-id-1 div.sk-toggleable {background-color: white;}#sk-container-id-1 label.sk-toggleable__label {cursor: pointer;display: block;width: 100%;margin-bottom: 0;padding: 0.3em;box-sizing: border-box;text-align: center;}#sk-container-id-1 label.sk-toggleable__label-arrow:before {content: \"▸\";float: left;margin-right: 0.25em;color: #696969;}#sk-container-id-1 label.sk-toggleable__label-arrow:hover:before {color: black;}#sk-container-id-1 div.sk-estimator:hover label.sk-toggleable__label-arrow:before {color: black;}#sk-container-id-1 div.sk-toggleable__content {max-height: 0;max-width: 0;overflow: hidden;text-align: left;background-color: #f0f8ff;}#sk-container-id-1 div.sk-toggleable__content pre {margin: 0.2em;color: black;border-radius: 0.25em;background-color: #f0f8ff;}#sk-container-id-1 input.sk-toggleable__control:checked~div.sk-toggleable__content {max-height: 200px;max-width: 100%;overflow: auto;}#sk-container-id-1 input.sk-toggleable__control:checked~label.sk-toggleable__label-arrow:before {content: \"▾\";}#sk-container-id-1 div.sk-estimator input.sk-toggleable__control:checked~label.sk-toggleable__label {background-color: #d4ebff;}#sk-container-id-1 div.sk-label input.sk-toggleable__control:checked~label.sk-toggleable__label {background-color: #d4ebff;}#sk-container-id-1 input.sk-hidden--visually {border: 0;clip: rect(1px 1px 1px 1px);clip: rect(1px, 1px, 1px, 1px);height: 1px;margin: -1px;overflow: hidden;padding: 0;position: absolute;width: 1px;}#sk-container-id-1 div.sk-estimator {font-family: monospace;background-color: #f0f8ff;border: 1px dotted black;border-radius: 0.25em;box-sizing: border-box;margin-bottom: 0.5em;}#sk-container-id-1 div.sk-estimator:hover {background-color: #d4ebff;}#sk-container-id-1 div.sk-parallel-item::after {content: \"\";width: 100%;border-bottom: 1px solid gray;flex-grow: 1;}#sk-container-id-1 div.sk-label:hover label.sk-toggleable__label {background-color: #d4ebff;}#sk-container-id-1 div.sk-serial::before {content: \"\";position: absolute;border-left: 1px solid gray;box-sizing: border-box;top: 0;bottom: 0;left: 50%;z-index: 0;}#sk-container-id-1 div.sk-serial {display: flex;flex-direction: column;align-items: center;background-color: white;padding-right: 0.2em;padding-left: 0.2em;position: relative;}#sk-container-id-1 div.sk-item {position: relative;z-index: 1;}#sk-container-id-1 div.sk-parallel {display: flex;align-items: stretch;justify-content: center;background-color: white;position: relative;}#sk-container-id-1 div.sk-item::before, #sk-container-id-1 div.sk-parallel-item::before {content: \"\";position: absolute;border-left: 1px solid gray;box-sizing: border-box;top: 0;bottom: 0;left: 50%;z-index: -1;}#sk-container-id-1 div.sk-parallel-item {display: flex;flex-direction: column;z-index: 1;position: relative;background-color: white;}#sk-container-id-1 div.sk-parallel-item:first-child::after {align-self: flex-end;width: 50%;}#sk-container-id-1 div.sk-parallel-item:last-child::after {align-self: flex-start;width: 50%;}#sk-container-id-1 div.sk-parallel-item:only-child::after {width: 0;}#sk-container-id-1 div.sk-dashed-wrapped {border: 1px dashed gray;margin: 0 0.4em 0.5em 0.4em;box-sizing: border-box;padding-bottom: 0.4em;background-color: white;}#sk-container-id-1 div.sk-label label {font-family: monospace;font-weight: bold;display: inline-block;line-height: 1.2em;}#sk-container-id-1 div.sk-label-container {text-align: center;}#sk-container-id-1 div.sk-container {/* jupyter's `normalize.less` sets `[hidden] { display: none; }` but bootstrap.min.css set `[hidden] { display: none !important; }` so we also need the `!important` here to be able to override the default hidden behavior on the sphinx rendered scikit-learn.org. See: https://github.com/scikit-learn/scikit-learn/issues/21755 */display: inline-block !important;position: relative;}#sk-container-id-1 div.sk-text-repr-fallback {display: none;}</style><div id=\"sk-container-id-1\" class=\"sk-top-container\"><div class=\"sk-text-repr-fallback\"><pre>KMeans(n_clusters=3)</pre><b>In a Jupyter environment, please rerun this cell to show the HTML representation or trust the notebook. <br />On GitHub, the HTML representation is unable to render, please try loading this page with nbviewer.org.</b></div><div class=\"sk-container\" hidden><div class=\"sk-item\"><div class=\"sk-estimator sk-toggleable\"><input class=\"sk-toggleable__control sk-hidden--visually\" id=\"sk-estimator-id-1\" type=\"checkbox\" checked><label for=\"sk-estimator-id-1\" class=\"sk-toggleable__label sk-toggleable__label-arrow\">KMeans</label><div class=\"sk-toggleable__content\"><pre>KMeans(n_clusters=3)</pre></div></div></div></div></div>"
      ],
      "text/plain": [
       "KMeans(n_clusters=3)"
      ]
     },
     "execution_count": 25,
     "metadata": {},
     "output_type": "execute_result"
    }
   ],
   "source": [
    "# Fit the k-means object to the data.\n",
    "\n",
    "kmeans.fit(df_cleaned)"
   ]
  },
  {
   "cell_type": "code",
   "execution_count": 26,
   "id": "cebf7f91",
   "metadata": {},
   "outputs": [
    {
     "name": "stderr",
     "output_type": "stream",
     "text": [
      "/Users/kristincpeterson/anaconda3/lib/python3.11/site-packages/sklearn/cluster/_kmeans.py:1412: FutureWarning: The default value of `n_init` will change from 10 to 'auto' in 1.4. Set the value of `n_init` explicitly to suppress the warning\n",
      "  super()._check_params_vs_input(X, default_n_init=10)\n",
      "/var/folders/vr/wfz6rp895dv8r1w0bh88q2vh0000gn/T/ipykernel_75273/3459620578.py:1: SettingWithCopyWarning: \n",
      "A value is trying to be set on a copy of a slice from a DataFrame.\n",
      "Try using .loc[row_indexer,col_indexer] = value instead\n",
      "\n",
      "See the caveats in the documentation: https://pandas.pydata.org/pandas-docs/stable/user_guide/indexing.html#returning-a-view-versus-a-copy\n",
      "  df_cleaned['clusters'] = kmeans.fit_predict(df_cleaned)\n"
     ]
    }
   ],
   "source": [
    "df_cleaned['clusters'] = kmeans.fit_predict(df_cleaned)"
   ]
  },
  {
   "cell_type": "code",
   "execution_count": 27,
   "id": "527fe289",
   "metadata": {},
   "outputs": [
    {
     "data": {
      "text/html": [
       "<div>\n",
       "<style scoped>\n",
       "    .dataframe tbody tr th:only-of-type {\n",
       "        vertical-align: middle;\n",
       "    }\n",
       "\n",
       "    .dataframe tbody tr th {\n",
       "        vertical-align: top;\n",
       "    }\n",
       "\n",
       "    .dataframe thead th {\n",
       "        text-align: right;\n",
       "    }\n",
       "</style>\n",
       "<table border=\"1\" class=\"dataframe\">\n",
       "  <thead>\n",
       "    <tr style=\"text-align: right;\">\n",
       "      <th></th>\n",
       "      <th>Zip code</th>\n",
       "      <th>Actual total area</th>\n",
       "      <th>Horticultural area</th>\n",
       "      <th>clusters</th>\n",
       "    </tr>\n",
       "  </thead>\n",
       "  <tbody>\n",
       "    <tr>\n",
       "      <th>0</th>\n",
       "      <td>75019.0</td>\n",
       "      <td>20.0</td>\n",
       "      <td>20.0</td>\n",
       "      <td>0</td>\n",
       "    </tr>\n",
       "    <tr>\n",
       "      <th>1</th>\n",
       "      <td>75015.0</td>\n",
       "      <td>1100.0</td>\n",
       "      <td>1100.0</td>\n",
       "      <td>0</td>\n",
       "    </tr>\n",
       "    <tr>\n",
       "      <th>2</th>\n",
       "      <td>75013.0</td>\n",
       "      <td>56.0</td>\n",
       "      <td>56.0</td>\n",
       "      <td>0</td>\n",
       "    </tr>\n",
       "    <tr>\n",
       "      <th>3</th>\n",
       "      <td>75013.0</td>\n",
       "      <td>5400.0</td>\n",
       "      <td>2796.0</td>\n",
       "      <td>0</td>\n",
       "    </tr>\n",
       "    <tr>\n",
       "      <th>4</th>\n",
       "      <td>75010.0</td>\n",
       "      <td>85.0</td>\n",
       "      <td>85.0</td>\n",
       "      <td>0</td>\n",
       "    </tr>\n",
       "  </tbody>\n",
       "</table>\n",
       "</div>"
      ],
      "text/plain": [
       "   Zip code  Actual total area  Horticultural area  clusters\n",
       "0   75019.0               20.0                20.0         0\n",
       "1   75015.0             1100.0              1100.0         0\n",
       "2   75013.0               56.0                56.0         0\n",
       "3   75013.0             5400.0              2796.0         0\n",
       "4   75010.0               85.0                85.0         0"
      ]
     },
     "execution_count": 27,
     "metadata": {},
     "output_type": "execute_result"
    }
   ],
   "source": [
    "df_cleaned.head()"
   ]
  },
  {
   "cell_type": "code",
   "execution_count": 28,
   "id": "8f6636a9",
   "metadata": {},
   "outputs": [
    {
     "data": {
      "text/plain": [
       "clusters\n",
       "0    1666\n",
       "1      22\n",
       "2       5\n",
       "Name: count, dtype: int64"
      ]
     },
     "execution_count": 28,
     "metadata": {},
     "output_type": "execute_result"
    }
   ],
   "source": [
    "df_cleaned['clusters'].value_counts()"
   ]
  },
  {
   "cell_type": "code",
   "execution_count": 29,
   "id": "22ab9a29",
   "metadata": {},
   "outputs": [
    {
     "data": {
      "image/png": "[encoded data removed]",
      "text/plain": [
       "<Figure size 1200x800 with 1 Axes>"
      ]
     },
     "metadata": {},
     "output_type": "display_data"
    }
   ],
   "source": [
    "# Plot the clusters for the \"Horticultural area\" and \"Zip code\" variables.\n",
    "\n",
    "plt.figure(figsize=(12,8))\n",
    "ax = sns.scatterplot(x=df_cleaned['Horticultural area'], y=df_cleaned['Zip code'], hue=kmeans.labels_, s=100) \n",
    "# Here, you're subsetting `X` for the x and y arguments to avoid using their labels. \n",
    "# `hue` takes the value of the attribute `kmeans.labels_`, which is the result of running the k-means algorithm.\n",
    "# `s` represents the size of the points you want to see in the plot.\n",
    "\n",
    "ax.grid(False) # This removes the grid from the background.\n",
    "plt.xlabel('Horticultural area') # Label x-axis.\n",
    "plt.ylabel('Zip code') # Label y-axis.\n",
    "plt.show()"
   ]
  },
  {
   "cell_type": "markdown",
   "id": "72c185c5",
   "metadata": {},
   "source": [
    "#### Across zip codes, the largest horticultural area cluster is pink (denoting small horticultural area sizes). The dark purple cluster shows the larger horticultural areas. The 4 dots of purple are the extremely large horticultural area cluster."
   ]
  },
  {
   "cell_type": "code",
   "execution_count": 30,
   "id": "8c55b113",
   "metadata": {},
   "outputs": [
    {
     "data": {
      "image/png": "[encoded data removed]",
      "text/plain": [
       "<Figure size 1200x800 with 1 Axes>"
      ]
     },
     "metadata": {},
     "output_type": "display_data"
    }
   ],
   "source": [
    "# Plot the clusters for the \"Actual total area\" and \"Zip code\" variables.\n",
    "\n",
    "plt.figure(figsize=(12,8))\n",
    "ax = sns.scatterplot(x=df_cleaned['Actual total area'], y=df_cleaned['Zip code'], hue=kmeans.labels_, s=100) \n",
    "# Here, you're subsetting `X` for the x and y arguments to avoid using their labels. \n",
    "# `hue` takes the value of the attribute `kmeans.labels_`, which is the result of running the k-means algorithm.\n",
    "# `s` represents the size of the points you want to see in the plot.\n",
    "\n",
    "ax.grid(False) # This removes the grid from the background.\n",
    "plt.xlabel('Actual total area') # Label x-axis.\n",
    "plt.ylabel('Zip code') # Label y-axis.\n",
    "plt.show()"
   ]
  },
  {
   "cell_type": "markdown",
   "id": "b0f570d4",
   "metadata": {},
   "source": [
    "#### Comparing Actual total area across Zip codes, we again see the predominantly pink cluster denoting smaller green spaces throughout Paris. A slightly different cluster appears for the dark purple (large green space) and purple (extremely large green space) clusters."
   ]
  },
  {
   "cell_type": "code",
   "execution_count": 31,
   "id": "e8234f16",
   "metadata": {},
   "outputs": [
    {
     "data": {
      "image/png": "[encoded data removed]",
      "text/plain": [
       "<Figure size 1200x800 with 1 Axes>"
      ]
     },
     "metadata": {},
     "output_type": "display_data"
    }
   ],
   "source": [
    "# Plot the clusters for the \"Actual total area\" and \"Horticultural area\" variables.\n",
    "\n",
    "plt.figure(figsize=(12,8))\n",
    "ax = sns.scatterplot(x=df_cleaned['Horticultural area'], y=df_cleaned['Actual total area'], hue=kmeans.labels_, s=100) \n",
    "# Here, you're subsetting `X` for the x and y arguments to avoid using their labels. \n",
    "# `hue` takes the value of the attribute `kmeans.labels_`, which is the result of running the k-means algorithm.\n",
    "# `s` represents the size of the points you want to see in the plot.\n",
    "\n",
    "ax.grid(False) # This removes the grid from the background.\n",
    "plt.xlabel('Horticultural area') # Label x-axis.\n",
    "plt.ylabel('Actual total area') # Label y-axis.\n",
    "plt.show()"
   ]
  },
  {
   "cell_type": "markdown",
   "id": "24bfc44e",
   "metadata": {},
   "source": [
    "#### The clusters show overlap between Actual total area and Horticultural area especially for smaller-sized green spaces."
   ]
  },
  {
   "cell_type": "code",
   "execution_count": 32,
   "id": "d40b7551",
   "metadata": {},
   "outputs": [
    {
     "name": "stderr",
     "output_type": "stream",
     "text": [
      "/var/folders/vr/wfz6rp895dv8r1w0bh88q2vh0000gn/T/ipykernel_75273/1668763773.py:1: SettingWithCopyWarning: \n",
      "A value is trying to be set on a copy of a slice from a DataFrame.\n",
      "Try using .loc[row_indexer,col_indexer] = value instead\n",
      "\n",
      "See the caveats in the documentation: https://pandas.pydata.org/pandas-docs/stable/user_guide/indexing.html#returning-a-view-versus-a-copy\n",
      "  df_cleaned.loc[df_cleaned['clusters'] == 2, 'cluster'] = 'dark purple'\n"
     ]
    }
   ],
   "source": [
    "df_cleaned.loc[df_cleaned['clusters'] == 2, 'cluster'] = 'dark purple'\n",
    "df_cleaned.loc[df_cleaned['clusters'] == 1, 'cluster'] = 'purple'\n",
    "df_cleaned.loc[df_cleaned['clusters'] == 0, 'cluster'] = 'pink'"
   ]
  },
  {
   "cell_type": "code",
   "execution_count": 33,
   "id": "79edd245",
   "metadata": {},
   "outputs": [
    {
     "data": {
      "text/html": [
       "<div>\n",
       "<style scoped>\n",
       "    .dataframe tbody tr th:only-of-type {\n",
       "        vertical-align: middle;\n",
       "    }\n",
       "\n",
       "    .dataframe tbody tr th {\n",
       "        vertical-align: top;\n",
       "    }\n",
       "\n",
       "    .dataframe thead tr th {\n",
       "        text-align: left;\n",
       "    }\n",
       "\n",
       "    .dataframe thead tr:last-of-type th {\n",
       "        text-align: right;\n",
       "    }\n",
       "</style>\n",
       "<table border=\"1\" class=\"dataframe\">\n",
       "  <thead>\n",
       "    <tr>\n",
       "      <th></th>\n",
       "      <th colspan=\"2\" halign=\"left\">Zip code</th>\n",
       "      <th colspan=\"2\" halign=\"left\">Horticultural area</th>\n",
       "      <th colspan=\"2\" halign=\"left\">Actual total area</th>\n",
       "    </tr>\n",
       "    <tr>\n",
       "      <th></th>\n",
       "      <th>mean</th>\n",
       "      <th>median</th>\n",
       "      <th>mean</th>\n",
       "      <th>median</th>\n",
       "      <th>mean</th>\n",
       "      <th>median</th>\n",
       "    </tr>\n",
       "    <tr>\n",
       "      <th>cluster</th>\n",
       "      <th></th>\n",
       "      <th></th>\n",
       "      <th></th>\n",
       "      <th></th>\n",
       "      <th></th>\n",
       "      <th></th>\n",
       "    </tr>\n",
       "  </thead>\n",
       "  <tbody>\n",
       "    <tr>\n",
       "      <th>dark purple</th>\n",
       "      <td>75012.600000</td>\n",
       "      <td>75014.0</td>\n",
       "      <td>93538.800000</td>\n",
       "      <td>81556.0</td>\n",
       "      <td>184088.800000</td>\n",
       "      <td>154640.0</td>\n",
       "    </tr>\n",
       "    <tr>\n",
       "      <th>pink</th>\n",
       "      <td>75013.549820</td>\n",
       "      <td>75014.0</td>\n",
       "      <td>1021.418367</td>\n",
       "      <td>280.0</td>\n",
       "      <td>1643.010804</td>\n",
       "      <td>327.0</td>\n",
       "    </tr>\n",
       "    <tr>\n",
       "      <th>purple</th>\n",
       "      <td>75013.545455</td>\n",
       "      <td>75015.0</td>\n",
       "      <td>33682.863636</td>\n",
       "      <td>29825.0</td>\n",
       "      <td>55327.181818</td>\n",
       "      <td>49490.0</td>\n",
       "    </tr>\n",
       "  </tbody>\n",
       "</table>\n",
       "</div>"
      ],
      "text/plain": [
       "                 Zip code          Horticultural area           \\\n",
       "                     mean   median               mean   median   \n",
       "cluster                                                          \n",
       "dark purple  75012.600000  75014.0       93538.800000  81556.0   \n",
       "pink         75013.549820  75014.0        1021.418367    280.0   \n",
       "purple       75013.545455  75015.0       33682.863636  29825.0   \n",
       "\n",
       "            Actual total area            \n",
       "                         mean    median  \n",
       "cluster                                  \n",
       "dark purple     184088.800000  154640.0  \n",
       "pink              1643.010804     327.0  \n",
       "purple           55327.181818   49490.0  "
      ]
     },
     "execution_count": 33,
     "metadata": {},
     "output_type": "execute_result"
    }
   ],
   "source": [
    "df_cleaned.groupby('cluster').agg({'Zip code':['mean', 'median'], \n",
    "                         'Horticultural area':['mean', 'median'], \n",
    "                         'Actual total area':['mean', 'median']})"
   ]
  },
  {
   "cell_type": "markdown",
   "id": "33ec7932",
   "metadata": {},
   "source": [
    "#### The clusters are consistent with previous findings. \n",
    "#### Descriptive statistics for the clusters are not especially useful for this particular project. \n",
    "#### As noted in exercise 6.4, we have too few observations (less than 5,000), and removing extreme outliers may be producing unreliable results."
   ]
  }
 ],
 "metadata": {
  "kernelspec": {
   "display_name": "Python 3 (ipykernel)",
   "language": "python",
   "name": "python3"
  },
  "language_info": {
   "codemirror_mode": {
    "name": "ipython",
    "version": 3
   },
   "file_extension": ".py",
   "mimetype": "text/x-python",
   "name": "python",
   "nbconvert_exporter": "python",
   "pygments_lexer": "ipython3",
   "version": "3.11.4"
  }
 },
 "nbformat": 4,
 "nbformat_minor": 5
}
