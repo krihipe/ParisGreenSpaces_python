{
 "cells": [
  {
   "cell_type": "markdown",
   "id": "6fddfeb4",
   "metadata": {},
   "source": [
    "# 6.8 Preprocessing Data for Tableau Dashboard: Type & Category"
   ]
  },
  {
   "cell_type": "markdown",
   "id": "96600a73",
   "metadata": {},
   "source": [
    "### This script contains the following:\n",
    "#### 1. Import data and libraries\n",
    "#### 2. Data Cleaning\n",
    "    Zip code\n",
    "    Type\n",
    "    Category\n",
    "#### 3. Geo Shape - Centroid\n",
    "#### 4. Year opened\n",
    "#### 5. Year renovated"
   ]
  },
  {
   "cell_type": "markdown",
   "id": "2d4adfd1",
   "metadata": {},
   "source": [
    "### 1. Import data and libraries"
   ]
  },
  {
   "cell_type": "code",
   "execution_count": 1,
   "id": "083b2a8a",
   "metadata": {},
   "outputs": [],
   "source": [
    "import pandas as pd\n",
    "import numpy as np\n",
    "import seaborn as sns\n",
    "import matplotlib\n",
    "import matplotlib.pyplot as plt\n",
    "import os\n",
    "import folium\n",
    "import json\n",
    "from shapely.geometry import shape, Point"
   ]
  },
  {
   "cell_type": "code",
   "execution_count": 2,
   "id": "b780cd7c",
   "metadata": {},
   "outputs": [],
   "source": [
    "# This command propts matplotlib visuals to appear in the notebook \n",
    "\n",
    "%matplotlib inline"
   ]
  },
  {
   "cell_type": "code",
   "execution_count": 3,
   "id": "fc39ca5c",
   "metadata": {},
   "outputs": [],
   "source": [
    "path = r'/Users/kristincpeterson/Desktop/DataAnalytics/Achievement_6/Final Project - Espaces Verts'"
   ]
  },
  {
   "cell_type": "code",
   "execution_count": 4,
   "id": "651dba54",
   "metadata": {},
   "outputs": [],
   "source": [
    "df = pd.read_csv(os.path.join(path, '02 Data', 'Prepared_Data', 'espaces_verts_75_updated.csv'))"
   ]
  },
  {
   "cell_type": "code",
   "execution_count": 5,
   "id": "0cb46c85",
   "metadata": {},
   "outputs": [
    {
     "data": {
      "text/plain": [
       "(2286, 25)"
      ]
     },
     "execution_count": 5,
     "metadata": {},
     "output_type": "execute_result"
    }
   ],
   "source": [
    "df.shape"
   ]
  },
  {
   "cell_type": "code",
   "execution_count": 6,
   "id": "f68600a6",
   "metadata": {},
   "outputs": [
    {
     "data": {
      "text/html": [
       "<div>\n",
       "<style scoped>\n",
       "    .dataframe tbody tr th:only-of-type {\n",
       "        vertical-align: middle;\n",
       "    }\n",
       "\n",
       "    .dataframe tbody tr th {\n",
       "        vertical-align: top;\n",
       "    }\n",
       "\n",
       "    .dataframe thead th {\n",
       "        text-align: right;\n",
       "    }\n",
       "</style>\n",
       "<table border=\"1\" class=\"dataframe\">\n",
       "  <thead>\n",
       "    <tr style=\"text-align: right;\">\n",
       "      <th></th>\n",
       "      <th>Unnamed: 0.1</th>\n",
       "      <th>Unnamed: 0</th>\n",
       "      <th>ID</th>\n",
       "      <th>Name</th>\n",
       "      <th>Type</th>\n",
       "      <th>Category</th>\n",
       "      <th>Street Number</th>\n",
       "      <th>Street Number Suffix</th>\n",
       "      <th>Street Type</th>\n",
       "      <th>Street Name</th>\n",
       "      <th>...</th>\n",
       "      <th>Perimeter</th>\n",
       "      <th>Year opened</th>\n",
       "      <th>Year renovated</th>\n",
       "      <th>Former name</th>\n",
       "      <th>Year name changed</th>\n",
       "      <th>Number of entities</th>\n",
       "      <th>Open 24hrs</th>\n",
       "      <th>Geo Shape</th>\n",
       "      <th>URL_PLAN</th>\n",
       "      <th>Area category</th>\n",
       "    </tr>\n",
       "  </thead>\n",
       "  <tbody>\n",
       "    <tr>\n",
       "      <th>0</th>\n",
       "      <td>0</td>\n",
       "      <td>0</td>\n",
       "      <td>11255.0</td>\n",
       "      <td>JARDINIERES DU 39 QUAI DE LA SEINE</td>\n",
       "      <td>Décorations sur la voie publique</td>\n",
       "      <td>Jardiniere</td>\n",
       "      <td>39.0</td>\n",
       "      <td>NaN</td>\n",
       "      <td>QUAI DE LA</td>\n",
       "      <td>SEINE</td>\n",
       "      <td>...</td>\n",
       "      <td>30.737389</td>\n",
       "      <td>2011.0</td>\n",
       "      <td>NaN</td>\n",
       "      <td>NaN</td>\n",
       "      <td>NaN</td>\n",
       "      <td>2.0</td>\n",
       "      <td>NaN</td>\n",
       "      <td>{\"coordinates\": [[[[2.3733184661747395, 48.886...</td>\n",
       "      <td>http://p70-planet.apps.paris.mdp/Advitium/Appe...</td>\n",
       "      <td>Small size</td>\n",
       "    </tr>\n",
       "    <tr>\n",
       "      <th>1</th>\n",
       "      <td>1</td>\n",
       "      <td>1</td>\n",
       "      <td>10804.0</td>\n",
       "      <td>JARDINIERES DU PARVIS DE LA PLACE RAOUL DAUTRY</td>\n",
       "      <td>Décorations sur la voie publique</td>\n",
       "      <td>Jardiniere</td>\n",
       "      <td>6.0</td>\n",
       "      <td>S</td>\n",
       "      <td>PLACE</td>\n",
       "      <td>RAOUL DAUTRY</td>\n",
       "      <td>...</td>\n",
       "      <td>312.718568</td>\n",
       "      <td>NaN</td>\n",
       "      <td>NaN</td>\n",
       "      <td>NaN</td>\n",
       "      <td>NaN</td>\n",
       "      <td>4.0</td>\n",
       "      <td>NaN</td>\n",
       "      <td>{\"coordinates\": [[[[2.3216385869638, 48.841417...</td>\n",
       "      <td>http://p70-planet.apps.paris.mdp/Advitium/Appe...</td>\n",
       "      <td>Large size</td>\n",
       "    </tr>\n",
       "    <tr>\n",
       "      <th>2</th>\n",
       "      <td>2</td>\n",
       "      <td>2</td>\n",
       "      <td>10937.0</td>\n",
       "      <td>JARDINIERES ANGLE DES RUES DE TOLBIAC - BAUDRI...</td>\n",
       "      <td>Décorations sur la voie publique</td>\n",
       "      <td>Jardiniere</td>\n",
       "      <td>47.0</td>\n",
       "      <td>NaN</td>\n",
       "      <td>RUE</td>\n",
       "      <td>BAUDRICOURT</td>\n",
       "      <td>...</td>\n",
       "      <td>80.353023</td>\n",
       "      <td>2005.0</td>\n",
       "      <td>NaN</td>\n",
       "      <td>NaN</td>\n",
       "      <td>NaN</td>\n",
       "      <td>2.0</td>\n",
       "      <td>NaN</td>\n",
       "      <td>{\"coordinates\": [[[[2.363882470474931, 48.8265...</td>\n",
       "      <td>http://p70-planet.apps.paris.mdp/Advitium/Appe...</td>\n",
       "      <td>Small size</td>\n",
       "    </tr>\n",
       "    <tr>\n",
       "      <th>3</th>\n",
       "      <td>3</td>\n",
       "      <td>3</td>\n",
       "      <td>219.0</td>\n",
       "      <td>JARDIN FRANCOISE GIROUD</td>\n",
       "      <td>Promenades ouvertes</td>\n",
       "      <td>Jardin</td>\n",
       "      <td>4.0</td>\n",
       "      <td>V</td>\n",
       "      <td>PLACE D</td>\n",
       "      <td>ITALIE</td>\n",
       "      <td>...</td>\n",
       "      <td>245.468867</td>\n",
       "      <td>1878.0</td>\n",
       "      <td>2019.0</td>\n",
       "      <td>SQUARE DE LA PLACE D'ITALIE</td>\n",
       "      <td>2013.0</td>\n",
       "      <td>1.0</td>\n",
       "      <td>Oui</td>\n",
       "      <td>{\"coordinates\": [[[2.356129760906164, 48.83152...</td>\n",
       "      <td>http://p70-planet.apps.paris.mdp/Advitium/Appe...</td>\n",
       "      <td>Very large size</td>\n",
       "    </tr>\n",
       "    <tr>\n",
       "      <th>4</th>\n",
       "      <td>4</td>\n",
       "      <td>4</td>\n",
       "      <td>10303.0</td>\n",
       "      <td>JARDINIERE DE LA PLACE FRANZ LISZT</td>\n",
       "      <td>Décorations sur la voie publique</td>\n",
       "      <td>Jardiniere</td>\n",
       "      <td>2.0</td>\n",
       "      <td>BIS V</td>\n",
       "      <td>PLACE</td>\n",
       "      <td>FRANZ LISTZ</td>\n",
       "      <td>...</td>\n",
       "      <td>52.677758</td>\n",
       "      <td>NaN</td>\n",
       "      <td>NaN</td>\n",
       "      <td>NaN</td>\n",
       "      <td>NaN</td>\n",
       "      <td>1.0</td>\n",
       "      <td>NaN</td>\n",
       "      <td>{\"coordinates\": [[[2.351449405515269, 48.87773...</td>\n",
       "      <td>http://p70-planet.apps.paris.mdp/Advitium/Appe...</td>\n",
       "      <td>Small size</td>\n",
       "    </tr>\n",
       "  </tbody>\n",
       "</table>\n",
       "<p>5 rows × 25 columns</p>\n",
       "</div>"
      ],
      "text/plain": [
       "   Unnamed: 0.1  Unnamed: 0       ID  \\\n",
       "0             0           0  11255.0   \n",
       "1             1           1  10804.0   \n",
       "2             2           2  10937.0   \n",
       "3             3           3    219.0   \n",
       "4             4           4  10303.0   \n",
       "\n",
       "                                                Name  \\\n",
       "0                 JARDINIERES DU 39 QUAI DE LA SEINE   \n",
       "1     JARDINIERES DU PARVIS DE LA PLACE RAOUL DAUTRY   \n",
       "2  JARDINIERES ANGLE DES RUES DE TOLBIAC - BAUDRI...   \n",
       "3                            JARDIN FRANCOISE GIROUD   \n",
       "4                 JARDINIERE DE LA PLACE FRANZ LISZT   \n",
       "\n",
       "                               Type    Category  Street Number  \\\n",
       "0  Décorations sur la voie publique  Jardiniere           39.0   \n",
       "1  Décorations sur la voie publique  Jardiniere            6.0   \n",
       "2  Décorations sur la voie publique  Jardiniere           47.0   \n",
       "3               Promenades ouvertes      Jardin            4.0   \n",
       "4  Décorations sur la voie publique  Jardiniere            2.0   \n",
       "\n",
       "  Street Number Suffix Street Type   Street Name  ...   Perimeter  \\\n",
       "0                  NaN  QUAI DE LA         SEINE  ...   30.737389   \n",
       "1                    S       PLACE  RAOUL DAUTRY  ...  312.718568   \n",
       "2                  NaN         RUE   BAUDRICOURT  ...   80.353023   \n",
       "3                    V     PLACE D        ITALIE  ...  245.468867   \n",
       "4                BIS V       PLACE   FRANZ LISTZ  ...   52.677758   \n",
       "\n",
       "   Year opened  Year renovated                  Former name Year name changed  \\\n",
       "0       2011.0             NaN                          NaN               NaN   \n",
       "1          NaN             NaN                          NaN               NaN   \n",
       "2       2005.0             NaN                          NaN               NaN   \n",
       "3       1878.0          2019.0  SQUARE DE LA PLACE D'ITALIE            2013.0   \n",
       "4          NaN             NaN                          NaN               NaN   \n",
       "\n",
       "   Number of entities  Open 24hrs  \\\n",
       "0                 2.0         NaN   \n",
       "1                 4.0         NaN   \n",
       "2                 2.0         NaN   \n",
       "3                 1.0         Oui   \n",
       "4                 1.0         NaN   \n",
       "\n",
       "                                           Geo Shape  \\\n",
       "0  {\"coordinates\": [[[[2.3733184661747395, 48.886...   \n",
       "1  {\"coordinates\": [[[[2.3216385869638, 48.841417...   \n",
       "2  {\"coordinates\": [[[[2.363882470474931, 48.8265...   \n",
       "3  {\"coordinates\": [[[2.356129760906164, 48.83152...   \n",
       "4  {\"coordinates\": [[[2.351449405515269, 48.87773...   \n",
       "\n",
       "                                            URL_PLAN    Area category  \n",
       "0  http://p70-planet.apps.paris.mdp/Advitium/Appe...       Small size  \n",
       "1  http://p70-planet.apps.paris.mdp/Advitium/Appe...       Large size  \n",
       "2  http://p70-planet.apps.paris.mdp/Advitium/Appe...       Small size  \n",
       "3  http://p70-planet.apps.paris.mdp/Advitium/Appe...  Very large size  \n",
       "4  http://p70-planet.apps.paris.mdp/Advitium/Appe...       Small size  \n",
       "\n",
       "[5 rows x 25 columns]"
      ]
     },
     "execution_count": 6,
     "metadata": {},
     "output_type": "execute_result"
    }
   ],
   "source": [
    "df.head()"
   ]
  },
  {
   "cell_type": "markdown",
   "id": "399f0df1",
   "metadata": {},
   "source": [
    "### 2. Data Cleaning"
   ]
  },
  {
   "cell_type": "code",
   "execution_count": 7,
   "id": "c6511dfd",
   "metadata": {},
   "outputs": [],
   "source": [
    "# Removing unneeded columns\n",
    "\n",
    "df.drop(columns=['Unnamed: 0',\n",
    "                 'Unnamed: 0.1',\n",
    "                 'Street Number', \n",
    "                 'Street Number Suffix', \n",
    "                 'Street Type', \n",
    "                 'Street Name', \n",
    "                 'Enclosure', \n",
    "                 'Former name', \n",
    "                 'Perimeter', \n",
    "                 'Year name changed',\n",
    "                 'Number of entities',\n",
    "                 'Open 24hrs', \n",
    "                 'URL_PLAN', \n",
    "                ], inplace=True)"
   ]
  },
  {
   "cell_type": "code",
   "execution_count": 8,
   "id": "5ece5df7",
   "metadata": {},
   "outputs": [
    {
     "data": {
      "text/html": [
       "<div>\n",
       "<style scoped>\n",
       "    .dataframe tbody tr th:only-of-type {\n",
       "        vertical-align: middle;\n",
       "    }\n",
       "\n",
       "    .dataframe tbody tr th {\n",
       "        vertical-align: top;\n",
       "    }\n",
       "\n",
       "    .dataframe thead th {\n",
       "        text-align: right;\n",
       "    }\n",
       "</style>\n",
       "<table border=\"1\" class=\"dataframe\">\n",
       "  <thead>\n",
       "    <tr style=\"text-align: right;\">\n",
       "      <th></th>\n",
       "      <th>ID</th>\n",
       "      <th>Name</th>\n",
       "      <th>Type</th>\n",
       "      <th>Category</th>\n",
       "      <th>Zip code</th>\n",
       "      <th>Calculated area</th>\n",
       "      <th>Actual total area</th>\n",
       "      <th>Horticultural area</th>\n",
       "      <th>Year opened</th>\n",
       "      <th>Year renovated</th>\n",
       "      <th>Geo Shape</th>\n",
       "      <th>Area category</th>\n",
       "    </tr>\n",
       "  </thead>\n",
       "  <tbody>\n",
       "    <tr>\n",
       "      <th>0</th>\n",
       "      <td>11255.0</td>\n",
       "      <td>JARDINIERES DU 39 QUAI DE LA SEINE</td>\n",
       "      <td>Décorations sur la voie publique</td>\n",
       "      <td>Jardiniere</td>\n",
       "      <td>75019.0</td>\n",
       "      <td>19.0</td>\n",
       "      <td>20.0</td>\n",
       "      <td>20.0</td>\n",
       "      <td>2011.0</td>\n",
       "      <td>NaN</td>\n",
       "      <td>{\"coordinates\": [[[[2.3733184661747395, 48.886...</td>\n",
       "      <td>Small size</td>\n",
       "    </tr>\n",
       "    <tr>\n",
       "      <th>1</th>\n",
       "      <td>10804.0</td>\n",
       "      <td>JARDINIERES DU PARVIS DE LA PLACE RAOUL DAUTRY</td>\n",
       "      <td>Décorations sur la voie publique</td>\n",
       "      <td>Jardiniere</td>\n",
       "      <td>75015.0</td>\n",
       "      <td>1312.0</td>\n",
       "      <td>1100.0</td>\n",
       "      <td>1100.0</td>\n",
       "      <td>NaN</td>\n",
       "      <td>NaN</td>\n",
       "      <td>{\"coordinates\": [[[[2.3216385869638, 48.841417...</td>\n",
       "      <td>Large size</td>\n",
       "    </tr>\n",
       "    <tr>\n",
       "      <th>2</th>\n",
       "      <td>10937.0</td>\n",
       "      <td>JARDINIERES ANGLE DES RUES DE TOLBIAC - BAUDRI...</td>\n",
       "      <td>Décorations sur la voie publique</td>\n",
       "      <td>Jardiniere</td>\n",
       "      <td>75013.0</td>\n",
       "      <td>58.0</td>\n",
       "      <td>56.0</td>\n",
       "      <td>56.0</td>\n",
       "      <td>2005.0</td>\n",
       "      <td>NaN</td>\n",
       "      <td>{\"coordinates\": [[[[2.363882470474931, 48.8265...</td>\n",
       "      <td>Small size</td>\n",
       "    </tr>\n",
       "    <tr>\n",
       "      <th>3</th>\n",
       "      <td>219.0</td>\n",
       "      <td>JARDIN FRANCOISE GIROUD</td>\n",
       "      <td>Promenades ouvertes</td>\n",
       "      <td>Jardin</td>\n",
       "      <td>75013.0</td>\n",
       "      <td>5386.0</td>\n",
       "      <td>5400.0</td>\n",
       "      <td>2796.0</td>\n",
       "      <td>1878.0</td>\n",
       "      <td>2019.0</td>\n",
       "      <td>{\"coordinates\": [[[2.356129760906164, 48.83152...</td>\n",
       "      <td>Very large size</td>\n",
       "    </tr>\n",
       "    <tr>\n",
       "      <th>4</th>\n",
       "      <td>10303.0</td>\n",
       "      <td>JARDINIERE DE LA PLACE FRANZ LISZT</td>\n",
       "      <td>Décorations sur la voie publique</td>\n",
       "      <td>Jardiniere</td>\n",
       "      <td>75010.0</td>\n",
       "      <td>172.0</td>\n",
       "      <td>85.0</td>\n",
       "      <td>85.0</td>\n",
       "      <td>NaN</td>\n",
       "      <td>NaN</td>\n",
       "      <td>{\"coordinates\": [[[2.351449405515269, 48.87773...</td>\n",
       "      <td>Small size</td>\n",
       "    </tr>\n",
       "  </tbody>\n",
       "</table>\n",
       "</div>"
      ],
      "text/plain": [
       "        ID                                               Name  \\\n",
       "0  11255.0                 JARDINIERES DU 39 QUAI DE LA SEINE   \n",
       "1  10804.0     JARDINIERES DU PARVIS DE LA PLACE RAOUL DAUTRY   \n",
       "2  10937.0  JARDINIERES ANGLE DES RUES DE TOLBIAC - BAUDRI...   \n",
       "3    219.0                            JARDIN FRANCOISE GIROUD   \n",
       "4  10303.0                 JARDINIERE DE LA PLACE FRANZ LISZT   \n",
       "\n",
       "                               Type    Category  Zip code  Calculated area  \\\n",
       "0  Décorations sur la voie publique  Jardiniere   75019.0             19.0   \n",
       "1  Décorations sur la voie publique  Jardiniere   75015.0           1312.0   \n",
       "2  Décorations sur la voie publique  Jardiniere   75013.0             58.0   \n",
       "3               Promenades ouvertes      Jardin   75013.0           5386.0   \n",
       "4  Décorations sur la voie publique  Jardiniere   75010.0            172.0   \n",
       "\n",
       "   Actual total area  Horticultural area  Year opened  Year renovated  \\\n",
       "0               20.0                20.0       2011.0             NaN   \n",
       "1             1100.0              1100.0          NaN             NaN   \n",
       "2               56.0                56.0       2005.0             NaN   \n",
       "3             5400.0              2796.0       1878.0          2019.0   \n",
       "4               85.0                85.0          NaN             NaN   \n",
       "\n",
       "                                           Geo Shape    Area category  \n",
       "0  {\"coordinates\": [[[[2.3733184661747395, 48.886...       Small size  \n",
       "1  {\"coordinates\": [[[[2.3216385869638, 48.841417...       Large size  \n",
       "2  {\"coordinates\": [[[[2.363882470474931, 48.8265...       Small size  \n",
       "3  {\"coordinates\": [[[2.356129760906164, 48.83152...  Very large size  \n",
       "4  {\"coordinates\": [[[2.351449405515269, 48.87773...       Small size  "
      ]
     },
     "execution_count": 8,
     "metadata": {},
     "output_type": "execute_result"
    }
   ],
   "source": [
    "df.head()"
   ]
  },
  {
   "cell_type": "code",
   "execution_count": 9,
   "id": "2c3c14e7",
   "metadata": {},
   "outputs": [
    {
     "data": {
      "text/plain": [
       "Year renovated        95.756780\n",
       "Year opened           31.758530\n",
       "Horticultural area    25.940507\n",
       "Actual total area     23.972003\n",
       "Area category         23.972003\n",
       "Calculated area       13.604549\n",
       "ID                     2.755906\n",
       "Geo Shape              0.087489\n",
       "Type                   0.043745\n",
       "Name                   0.000000\n",
       "Category               0.000000\n",
       "Zip code               0.000000\n",
       "dtype: float64"
      ]
     },
     "execution_count": 9,
     "metadata": {},
     "output_type": "execute_result"
    }
   ],
   "source": [
    "# Check missing values \n",
    "missing_values = df.isnull().sum()\n",
    "\n",
    "# Calculate the percentage of missing values for each column\n",
    "missing_percentage = (missing_values / len(df)) * 100\n",
    "\n",
    "# Display the percentage of missing values for each column\n",
    "missing_percentage.sort_values(ascending=False)"
   ]
  },
  {
   "cell_type": "code",
   "execution_count": 10,
   "id": "07c996f2",
   "metadata": {},
   "outputs": [
    {
     "data": {
      "text/plain": [
       "ID                    float64\n",
       "Name                   object\n",
       "Type                   object\n",
       "Category               object\n",
       "Zip code              float64\n",
       "Calculated area       float64\n",
       "Actual total area     float64\n",
       "Horticultural area    float64\n",
       "Year opened           float64\n",
       "Year renovated        float64\n",
       "Geo Shape              object\n",
       "Area category          object\n",
       "dtype: object"
      ]
     },
     "execution_count": 10,
     "metadata": {},
     "output_type": "execute_result"
    }
   ],
   "source": [
    "df.dtypes"
   ]
  },
  {
   "cell_type": "markdown",
   "id": "bbebec81",
   "metadata": {},
   "source": [
    "#### Zip code"
   ]
  },
  {
   "cell_type": "code",
   "execution_count": 11,
   "id": "ae84b33a",
   "metadata": {},
   "outputs": [],
   "source": [
    "# Convert Zip code to string, remove the last character\n",
    "\n",
    "df['Zip code'] = df['Zip code'].astype(str).str[:-2]"
   ]
  },
  {
   "cell_type": "code",
   "execution_count": 12,
   "id": "3bacd0f3",
   "metadata": {},
   "outputs": [
    {
     "name": "stdout",
     "output_type": "stream",
     "text": [
      "0    75019\n",
      "1    75015\n",
      "2    75013\n",
      "3    75013\n",
      "4    75010\n",
      "Name: Zip code, dtype: object\n"
     ]
    }
   ],
   "source": [
    "print(df['Zip code'].head())"
   ]
  },
  {
   "cell_type": "markdown",
   "id": "df4a80ba",
   "metadata": {},
   "source": [
    "#### Type"
   ]
  },
  {
   "cell_type": "code",
   "execution_count": 13,
   "id": "48f5eb75",
   "metadata": {},
   "outputs": [],
   "source": [
    "# View unique values in Type column\n",
    "\n",
    "unique_values = df['Type'].unique()"
   ]
  },
  {
   "cell_type": "code",
   "execution_count": 14,
   "id": "1f98a931",
   "metadata": {},
   "outputs": [
    {
     "name": "stdout",
     "output_type": "stream",
     "text": [
      "['Décorations sur la voie publique' 'Promenades ouvertes'\n",
      " 'Murs végétalisés' 'Jardins privatifs' 'Etablissements sportifs'\n",
      " 'Jardinets décoratifs' 'Ephémères, partagés, pédagogiques' 'Périphérique'\n",
      " 'Cimetières' nan 'Bois']\n"
     ]
    }
   ],
   "source": [
    "print(unique_values)"
   ]
  },
  {
   "cell_type": "code",
   "execution_count": 15,
   "id": "f70dc04c",
   "metadata": {},
   "outputs": [
    {
     "name": "stdout",
     "output_type": "stream",
     "text": [
      "1\n"
     ]
    }
   ],
   "source": [
    "print(df['Type'].isnull().sum())"
   ]
  },
  {
   "cell_type": "code",
   "execution_count": 16,
   "id": "c3183afc",
   "metadata": {},
   "outputs": [],
   "source": [
    "# Renaming unique values in Type column\n",
    "\n",
    "df['Type'] = df['Type'].replace({\n",
    "    'Décorations sur la voie publique': 'Decorations on public roads',\n",
    "    'Promenades ouvertes': 'Open walks: parks, gardens, squares',\n",
    "    'Murs végétalisés': 'Green walls',\n",
    "    'Jardins privatifs': 'Gardens',\n",
    "    'Etablissements sportifs': 'Sports establishments',\n",
    "    'Jardinets décoratifs': 'Gardens',\n",
    "    'Ephémères, partagés, pédagogiques': 'Gardens',\n",
    "    'Périphérique': 'Ring road',\n",
    "    'Cimetières': 'Cemeteries',\n",
    "    'Bois': 'Woods'\n",
    "})"
   ]
  },
  {
   "cell_type": "code",
   "execution_count": 17,
   "id": "99587480",
   "metadata": {},
   "outputs": [
    {
     "data": {
      "image/png": "[encoded data removed]",
      "text/plain": [
       "<Figure size 1200x800 with 1 Axes>"
      ]
     },
     "metadata": {},
     "output_type": "display_data"
    }
   ],
   "source": [
    "# Creating a bar plot for the frequency of 'Type' with formatted names and arranged in ascending order\n",
    "\n",
    "formatted_cat_freq = df['Type'].value_counts().sort_values()\n",
    "plt.figure(figsize=(12, 8))\n",
    "sns.barplot(x=formatted_cat_freq.values, y=formatted_cat_freq.index)\n",
    "\n",
    "plt.title(\"Bar Plot of Frequency of Type (Formatted and Ascending Order)\")\n",
    "plt.xlabel('Frequency')\n",
    "plt.ylabel('Type')\n",
    "plt.show()\n"
   ]
  },
  {
   "cell_type": "markdown",
   "id": "83b8b28e",
   "metadata": {},
   "source": [
    "#### Category"
   ]
  },
  {
   "cell_type": "code",
   "execution_count": 18,
   "id": "484f9b9b",
   "metadata": {},
   "outputs": [],
   "source": [
    "# View unique values in Category column\n",
    "\n",
    "unique_values_c = df['Category'].unique()"
   ]
  },
  {
   "cell_type": "code",
   "execution_count": 19,
   "id": "1398e822",
   "metadata": {},
   "outputs": [
    {
     "name": "stdout",
     "output_type": "stream",
     "text": [
      "['Jardiniere' 'Jardin' 'Murs vegetalises' 'Decoration' 'Talus'\n",
      " 'Espace Vert' 'Promenade' 'Jardin partage' 'Plate-bande' 'Square'\n",
      " 'Jardinet' 'Cimetière' 'Pelouse' 'Esplanade' \"Jardin d'immeubles\"\n",
      " 'Terrain de boules' 'Terre-plein' 'Mail' 'Parc' 'Arboretum' 'Bois' 'CA'\n",
      " 'Archipel' 'Ile']\n"
     ]
    }
   ],
   "source": [
    "print(unique_values_c)"
   ]
  },
  {
   "cell_type": "code",
   "execution_count": 20,
   "id": "9919f152",
   "metadata": {},
   "outputs": [],
   "source": [
    "# Renaming unique values in Category column\n",
    "\n",
    "df['Category'] = df['Category'].replace({\n",
    "    'Jardiniere': 'Planter',\n",
    "    'Jardin': 'Garden',\n",
    "    'Murs vegetalises': 'Green wall',\n",
    "    'Decoration': 'Decoration',\n",
    "    'Talus': 'Embankment',\n",
    "    'Espace Vert': 'Green space',\n",
    "    'Promenade': 'Promenade or Esplanade',\n",
    "    'Jardin partage': 'Garden',\n",
    "    'Plate-bande': 'Flowerbed',\n",
    "    'Jardinet': 'Garden',\n",
    "    'Cimetière': 'Cemetery',\n",
    "    'Pelouse': 'Lawn or Mall',\n",
    "    'Esplanade': 'Promenade or Esplanade',\n",
    "    'Jardin d\\'immeubles': 'Garden',\n",
    "    'Terrain de boules': 'Bocce court',\n",
    "    'Terre-plein': 'Median',\n",
    "    'Mail': 'Lawn or Mall',\n",
    "    'Parc': 'Park',\n",
    "    'Bois': 'Woods',\n",
    "    'CA': 'Green space',\n",
    "    'Archipel': 'Island',\n",
    "    'Ile': 'Island'\n",
    "})"
   ]
  },
  {
   "cell_type": "code",
   "execution_count": 21,
   "id": "c71a8cad",
   "metadata": {},
   "outputs": [
    {
     "data": {
      "image/png": "[encoded data removed]",
      "text/plain": [
       "<Figure size 1200x800 with 1 Axes>"
      ]
     },
     "metadata": {},
     "output_type": "display_data"
    }
   ],
   "source": [
    "# Creating a bar plot for the frequency of 'Category' with formatted names and arranged in ascending order\n",
    "\n",
    "formatted_cat_freq = df['Category'].value_counts().sort_values()\n",
    "plt.figure(figsize=(12, 8))\n",
    "sns.barplot(x=formatted_cat_freq.values, y=formatted_cat_freq.index)\n",
    "\n",
    "plt.title(\"Bar Plot of Frequency of Category (Formatted and Ascending Order)\")\n",
    "plt.xlabel('Frequency')\n",
    "plt.ylabel('Category')\n",
    "plt.show()\n"
   ]
  },
  {
   "cell_type": "markdown",
   "id": "94aa1b86",
   "metadata": {},
   "source": [
    "### 3. Geo Shape - Centroid"
   ]
  },
  {
   "cell_type": "markdown",
   "id": "f8a980b3",
   "metadata": {},
   "source": [
    "#### Extract the centroid of each GeoJSON shape to represent each space with a single point on the map."
   ]
  },
  {
   "cell_type": "code",
   "execution_count": 22,
   "id": "d1e6835b",
   "metadata": {},
   "outputs": [],
   "source": [
    "# Ensure 'Geo Shape' is a string and not missing\n",
    "\n",
    "df = df.dropna(subset=['Geo Shape'])\n",
    "df['Geo Shape'] = df['Geo Shape'].astype(str)"
   ]
  },
  {
   "cell_type": "code",
   "execution_count": 23,
   "id": "13342712",
   "metadata": {},
   "outputs": [],
   "source": [
    "# Extract latitude and longitude values from the GeoJSON data in the 'Geo Shape' column\n",
    "\n",
    "def extract_centroid(geojson_str):\n",
    "    # Check if geojson_str is not None, not empty, and starts with '{' (basic check for valid JSON)\n",
    "    if pd.notna(geojson_str) and isinstance(geojson_str, str) and geojson_str.strip().startswith('{'):\n",
    "        try:\n",
    "            # Load GeoJSON string into a Python dict\n",
    "            geojson = json.loads(geojson_str)\n",
    "            \n",
    "            # Create a shape from the GeoJSON\n",
    "            polygon = shape(geojson)\n",
    "            \n",
    "            # Return the centroid of the polygon\n",
    "            return polygon.centroid.x, polygon.centroid.y\n",
    "        except Exception as e:\n",
    "            # Print error message and return None in case of any error\n",
    "            print(f\"Error processing GeoJSON: {e}\")\n",
    "            return None, None\n",
    "    else:\n",
    "        # Return None if the input is not a valid string\n",
    "        return None, None\n"
   ]
  },
  {
   "cell_type": "code",
   "execution_count": 24,
   "id": "8cf58c07",
   "metadata": {},
   "outputs": [],
   "source": [
    "# Apply the function to each row in the DataFrame\n",
    "\n",
    "df['Longitude'], df['Latitude'] = zip(*df['Geo Shape'].apply(extract_centroid))"
   ]
  },
  {
   "cell_type": "code",
   "execution_count": 25,
   "id": "e00069ce",
   "metadata": {},
   "outputs": [
    {
     "data": {
      "text/html": [
       "<div>\n",
       "<style scoped>\n",
       "    .dataframe tbody tr th:only-of-type {\n",
       "        vertical-align: middle;\n",
       "    }\n",
       "\n",
       "    .dataframe tbody tr th {\n",
       "        vertical-align: top;\n",
       "    }\n",
       "\n",
       "    .dataframe thead th {\n",
       "        text-align: right;\n",
       "    }\n",
       "</style>\n",
       "<table border=\"1\" class=\"dataframe\">\n",
       "  <thead>\n",
       "    <tr style=\"text-align: right;\">\n",
       "      <th></th>\n",
       "      <th>ID</th>\n",
       "      <th>Name</th>\n",
       "      <th>Type</th>\n",
       "      <th>Category</th>\n",
       "      <th>Zip code</th>\n",
       "      <th>Calculated area</th>\n",
       "      <th>Actual total area</th>\n",
       "      <th>Horticultural area</th>\n",
       "      <th>Year opened</th>\n",
       "      <th>Year renovated</th>\n",
       "      <th>Geo Shape</th>\n",
       "      <th>Area category</th>\n",
       "      <th>Longitude</th>\n",
       "      <th>Latitude</th>\n",
       "    </tr>\n",
       "  </thead>\n",
       "  <tbody>\n",
       "    <tr>\n",
       "      <th>0</th>\n",
       "      <td>11255.0</td>\n",
       "      <td>JARDINIERES DU 39 QUAI DE LA SEINE</td>\n",
       "      <td>Decorations on public roads</td>\n",
       "      <td>Planter</td>\n",
       "      <td>75019</td>\n",
       "      <td>19.0</td>\n",
       "      <td>20.0</td>\n",
       "      <td>20.0</td>\n",
       "      <td>2011.0</td>\n",
       "      <td>NaN</td>\n",
       "      <td>{\"coordinates\": [[[[2.3733184661747395, 48.886...</td>\n",
       "      <td>Small size</td>\n",
       "      <td>2.373282</td>\n",
       "      <td>48.886146</td>\n",
       "    </tr>\n",
       "    <tr>\n",
       "      <th>1</th>\n",
       "      <td>10804.0</td>\n",
       "      <td>JARDINIERES DU PARVIS DE LA PLACE RAOUL DAUTRY</td>\n",
       "      <td>Decorations on public roads</td>\n",
       "      <td>Planter</td>\n",
       "      <td>75015</td>\n",
       "      <td>1312.0</td>\n",
       "      <td>1100.0</td>\n",
       "      <td>1100.0</td>\n",
       "      <td>NaN</td>\n",
       "      <td>NaN</td>\n",
       "      <td>{\"coordinates\": [[[[2.3216385869638, 48.841417...</td>\n",
       "      <td>Large size</td>\n",
       "      <td>2.321028</td>\n",
       "      <td>48.841626</td>\n",
       "    </tr>\n",
       "    <tr>\n",
       "      <th>2</th>\n",
       "      <td>10937.0</td>\n",
       "      <td>JARDINIERES ANGLE DES RUES DE TOLBIAC - BAUDRI...</td>\n",
       "      <td>Decorations on public roads</td>\n",
       "      <td>Planter</td>\n",
       "      <td>75013</td>\n",
       "      <td>58.0</td>\n",
       "      <td>56.0</td>\n",
       "      <td>56.0</td>\n",
       "      <td>2005.0</td>\n",
       "      <td>NaN</td>\n",
       "      <td>{\"coordinates\": [[[[2.363882470474931, 48.8265...</td>\n",
       "      <td>Small size</td>\n",
       "      <td>2.363678</td>\n",
       "      <td>48.826484</td>\n",
       "    </tr>\n",
       "    <tr>\n",
       "      <th>3</th>\n",
       "      <td>219.0</td>\n",
       "      <td>JARDIN FRANCOISE GIROUD</td>\n",
       "      <td>Open walks: parks, gardens, squares</td>\n",
       "      <td>Garden</td>\n",
       "      <td>75013</td>\n",
       "      <td>5386.0</td>\n",
       "      <td>5400.0</td>\n",
       "      <td>2796.0</td>\n",
       "      <td>1878.0</td>\n",
       "      <td>2019.0</td>\n",
       "      <td>{\"coordinates\": [[[2.356129760906164, 48.83152...</td>\n",
       "      <td>Very large size</td>\n",
       "      <td>2.355576</td>\n",
       "      <td>48.831435</td>\n",
       "    </tr>\n",
       "    <tr>\n",
       "      <th>4</th>\n",
       "      <td>10303.0</td>\n",
       "      <td>JARDINIERE DE LA PLACE FRANZ LISZT</td>\n",
       "      <td>Decorations on public roads</td>\n",
       "      <td>Planter</td>\n",
       "      <td>75010</td>\n",
       "      <td>172.0</td>\n",
       "      <td>85.0</td>\n",
       "      <td>85.0</td>\n",
       "      <td>NaN</td>\n",
       "      <td>NaN</td>\n",
       "      <td>{\"coordinates\": [[[2.351449405515269, 48.87773...</td>\n",
       "      <td>Small size</td>\n",
       "      <td>2.351592</td>\n",
       "      <td>48.877714</td>\n",
       "    </tr>\n",
       "  </tbody>\n",
       "</table>\n",
       "</div>"
      ],
      "text/plain": [
       "        ID                                               Name  \\\n",
       "0  11255.0                 JARDINIERES DU 39 QUAI DE LA SEINE   \n",
       "1  10804.0     JARDINIERES DU PARVIS DE LA PLACE RAOUL DAUTRY   \n",
       "2  10937.0  JARDINIERES ANGLE DES RUES DE TOLBIAC - BAUDRI...   \n",
       "3    219.0                            JARDIN FRANCOISE GIROUD   \n",
       "4  10303.0                 JARDINIERE DE LA PLACE FRANZ LISZT   \n",
       "\n",
       "                                  Type Category Zip code  Calculated area  \\\n",
       "0          Decorations on public roads  Planter    75019             19.0   \n",
       "1          Decorations on public roads  Planter    75015           1312.0   \n",
       "2          Decorations on public roads  Planter    75013             58.0   \n",
       "3  Open walks: parks, gardens, squares   Garden    75013           5386.0   \n",
       "4          Decorations on public roads  Planter    75010            172.0   \n",
       "\n",
       "   Actual total area  Horticultural area  Year opened  Year renovated  \\\n",
       "0               20.0                20.0       2011.0             NaN   \n",
       "1             1100.0              1100.0          NaN             NaN   \n",
       "2               56.0                56.0       2005.0             NaN   \n",
       "3             5400.0              2796.0       1878.0          2019.0   \n",
       "4               85.0                85.0          NaN             NaN   \n",
       "\n",
       "                                           Geo Shape    Area category  \\\n",
       "0  {\"coordinates\": [[[[2.3733184661747395, 48.886...       Small size   \n",
       "1  {\"coordinates\": [[[[2.3216385869638, 48.841417...       Large size   \n",
       "2  {\"coordinates\": [[[[2.363882470474931, 48.8265...       Small size   \n",
       "3  {\"coordinates\": [[[2.356129760906164, 48.83152...  Very large size   \n",
       "4  {\"coordinates\": [[[2.351449405515269, 48.87773...       Small size   \n",
       "\n",
       "   Longitude   Latitude  \n",
       "0   2.373282  48.886146  \n",
       "1   2.321028  48.841626  \n",
       "2   2.363678  48.826484  \n",
       "3   2.355576  48.831435  \n",
       "4   2.351592  48.877714  "
      ]
     },
     "execution_count": 25,
     "metadata": {},
     "output_type": "execute_result"
    }
   ],
   "source": [
    "df.head()"
   ]
  },
  {
   "cell_type": "code",
   "execution_count": 26,
   "id": "d791dbb1",
   "metadata": {},
   "outputs": [],
   "source": [
    "# Exporting updated 'Geo Shape' file\n",
    "\n",
    "df.to_csv(os.path.join(path, '02 Data','Prepared_Data', 'espaces_verts_geo_updated.csv'))"
   ]
  },
  {
   "cell_type": "markdown",
   "id": "efae4948",
   "metadata": {},
   "source": [
    "### 4. Year opened"
   ]
  },
  {
   "cell_type": "code",
   "execution_count": 27,
   "id": "56ca6aa3",
   "metadata": {},
   "outputs": [
    {
     "name": "stdout",
     "output_type": "stream",
     "text": [
      "725\n"
     ]
    }
   ],
   "source": [
    "# Check missing values for Year opened\n",
    "\n",
    "print(df['Year opened'].isnull().sum())"
   ]
  },
  {
   "cell_type": "code",
   "execution_count": 28,
   "id": "36997837",
   "metadata": {},
   "outputs": [
    {
     "name": "stdout",
     "output_type": "stream",
     "text": [
      "Years over 2025: [9999. 9998.]\n"
     ]
    }
   ],
   "source": [
    "# Filter and print years over 2025\n",
    "years_over_2025 = df[df['Year opened'] > 2025]['Year opened'].unique()\n",
    "\n",
    "print(\"Years over 2025:\", years_over_2025)"
   ]
  },
  {
   "cell_type": "code",
   "execution_count": 29,
   "id": "78187490",
   "metadata": {},
   "outputs": [],
   "source": [
    "# Convert 'Year' column to numeric if it's not already, handling non-numeric values as NaN\n",
    "\n",
    "df['Year opened'] = pd.to_numeric(df['Year opened'], errors='coerce')"
   ]
  },
  {
   "cell_type": "code",
   "execution_count": 30,
   "id": "62696659",
   "metadata": {},
   "outputs": [],
   "source": [
    "# Create a new DataFrame with only years 2024 and below\n",
    "\n",
    "year_opened = df[df['Year opened'] <= 2024]"
   ]
  },
  {
   "cell_type": "code",
   "execution_count": 31,
   "id": "eebc1a7d",
   "metadata": {},
   "outputs": [
    {
     "data": {
      "text/plain": [
       "(1444, 14)"
      ]
     },
     "execution_count": 31,
     "metadata": {},
     "output_type": "execute_result"
    }
   ],
   "source": [
    "year_opened.shape"
   ]
  },
  {
   "cell_type": "code",
   "execution_count": 32,
   "id": "c3628ca2",
   "metadata": {},
   "outputs": [
    {
     "name": "stdout",
     "output_type": "stream",
     "text": [
      "1364\n"
     ]
    }
   ],
   "source": [
    "# Check missing values for Year renovated\n",
    "\n",
    "print(year_opened['Year renovated'].isnull().sum())"
   ]
  },
  {
   "cell_type": "code",
   "execution_count": 33,
   "id": "0c7caf3c",
   "metadata": {},
   "outputs": [
    {
     "data": {
      "text/plain": [
       "count    1444.00000\n",
       "mean     1990.50277\n",
       "std        42.46085\n",
       "min      1688.00000\n",
       "25%      1982.00000\n",
       "50%      2008.00000\n",
       "75%      2016.00000\n",
       "max      2023.00000\n",
       "Name: Year opened, dtype: float64"
      ]
     },
     "execution_count": 33,
     "metadata": {},
     "output_type": "execute_result"
    }
   ],
   "source": [
    "year_opened['Year opened'].describe()"
   ]
  },
  {
   "cell_type": "code",
   "execution_count": 34,
   "id": "dc0dab80",
   "metadata": {},
   "outputs": [
    {
     "name": "stdout",
     "output_type": "stream",
     "text": [
      "0\n"
     ]
    }
   ],
   "source": [
    "print(year_opened['Year opened'].isnull().sum())"
   ]
  },
  {
   "cell_type": "code",
   "execution_count": 35,
   "id": "49e69d98",
   "metadata": {},
   "outputs": [
    {
     "data": {
      "text/plain": [
       "<Axes: xlabel='Year opened', ylabel='Count'>"
      ]
     },
     "execution_count": 35,
     "metadata": {},
     "output_type": "execute_result"
    },
    {
     "data": {
      "image/png": "[encoded data removed]",
      "text/plain": [
       "<Figure size 640x480 with 1 Axes>"
      ]
     },
     "metadata": {},
     "output_type": "display_data"
    }
   ],
   "source": [
    "sns.histplot(year_opened['Year opened'], bins = 50, kde = True)"
   ]
  },
  {
   "cell_type": "code",
   "execution_count": 36,
   "id": "2fac63f5",
   "metadata": {},
   "outputs": [
    {
     "data": {
      "image/png": "[encoded data removed]",
      "text/plain": [
       "<Figure size 1000x600 with 1 Axes>"
      ]
     },
     "metadata": {},
     "output_type": "display_data"
    }
   ],
   "source": [
    "# Scatterplot to visualize 'Year opened' by 'Calculated area'\n",
    "\n",
    "plt.figure(figsize=(10, 6))\n",
    "sns.scatterplot(data=year_opened, x='Calculated area', y='Year opened', alpha=0.6)\n",
    "\n",
    "plt.title('Scatterplot of Year opened by Calculated area')\n",
    "plt.xlabel('Calculated area')\n",
    "plt.ylabel('Year opened')\n",
    "plt.show()\n"
   ]
  },
  {
   "cell_type": "code",
   "execution_count": 37,
   "id": "35968975",
   "metadata": {},
   "outputs": [
    {
     "data": {
      "image/png": "[encoded data removed]",
      "text/plain": [
       "<Figure size 1000x600 with 1 Axes>"
      ]
     },
     "metadata": {},
     "output_type": "display_data"
    }
   ],
   "source": [
    "# Scatterplot to visualize 'Year opened' by 'Actual total area'\n",
    "\n",
    "plt.figure(figsize=(10, 6))\n",
    "sns.scatterplot(data=year_opened, x='Actual total area', y='Year opened', alpha=0.6)\n",
    "\n",
    "plt.title('Scatterplot of Year opened by Actual total area')\n",
    "plt.xlabel('Actual total area')\n",
    "plt.ylabel('Year opened')\n",
    "plt.show()\n"
   ]
  },
  {
   "cell_type": "code",
   "execution_count": 38,
   "id": "9a4b5775",
   "metadata": {},
   "outputs": [],
   "source": [
    "# Exporting 'Year opened' dataframe\n",
    "\n",
    "year_opened.to_csv(os.path.join(path, '02 Data','Prepared_Data', 'year_opened.csv'))"
   ]
  },
  {
   "cell_type": "markdown",
   "id": "fb155f45",
   "metadata": {},
   "source": [
    "### 5. Year renovated"
   ]
  },
  {
   "cell_type": "code",
   "execution_count": 39,
   "id": "61f31272",
   "metadata": {},
   "outputs": [
    {
     "name": "stdout",
     "output_type": "stream",
     "text": [
      "2187\n"
     ]
    }
   ],
   "source": [
    "# Check missing values for Year renovated\n",
    "\n",
    "print(df['Year renovated'].isnull().sum())"
   ]
  },
  {
   "cell_type": "code",
   "execution_count": 40,
   "id": "4b5feb6e",
   "metadata": {},
   "outputs": [
    {
     "data": {
      "text/plain": [
       "count      97.000000\n",
       "mean     2003.670103\n",
       "std        25.362259\n",
       "min      1801.000000\n",
       "25%      2001.000000\n",
       "50%      2010.000000\n",
       "75%      2018.000000\n",
       "max      2023.000000\n",
       "Name: Year renovated, dtype: float64"
      ]
     },
     "execution_count": 40,
     "metadata": {},
     "output_type": "execute_result"
    }
   ],
   "source": [
    "df['Year renovated'].describe()"
   ]
  },
  {
   "cell_type": "code",
   "execution_count": 41,
   "id": "0cdc2a5a",
   "metadata": {},
   "outputs": [],
   "source": [
    "year_renovated = df[df['Year renovated'] <= 2024]"
   ]
  },
  {
   "cell_type": "code",
   "execution_count": 42,
   "id": "cb84e9d6",
   "metadata": {},
   "outputs": [
    {
     "name": "stdout",
     "output_type": "stream",
     "text": [
      "0\n"
     ]
    }
   ],
   "source": [
    "print(year_renovated['Year renovated'].isnull().sum())"
   ]
  },
  {
   "cell_type": "code",
   "execution_count": 43,
   "id": "aa934840",
   "metadata": {},
   "outputs": [
    {
     "data": {
      "text/plain": [
       "(97, 14)"
      ]
     },
     "execution_count": 43,
     "metadata": {},
     "output_type": "execute_result"
    }
   ],
   "source": [
    "year_renovated.shape"
   ]
  },
  {
   "cell_type": "code",
   "execution_count": 44,
   "id": "c2d0502f",
   "metadata": {},
   "outputs": [
    {
     "data": {
      "text/plain": [
       "<Axes: xlabel='Year renovated', ylabel='Count'>"
      ]
     },
     "execution_count": 44,
     "metadata": {},
     "output_type": "execute_result"
    },
    {
     "data": {
      "image/png": "[encoded data removed]",
      "text/plain": [
       "<Figure size 640x480 with 1 Axes>"
      ]
     },
     "metadata": {},
     "output_type": "display_data"
    }
   ],
   "source": [
    "sns.histplot(year_renovated['Year renovated'], bins = 50, kde = True)"
   ]
  },
  {
   "cell_type": "code",
   "execution_count": 45,
   "id": "c035f459",
   "metadata": {},
   "outputs": [],
   "source": [
    "# Exporting 'Year renovated' dataframe\n",
    "\n",
    "year_renovated.to_csv(os.path.join(path, '02 Data','Prepared_Data', 'year_renovated.csv'))"
   ]
  }
 ],
 "metadata": {
  "kernelspec": {
   "display_name": "Python 3 (ipykernel)",
   "language": "python",
   "name": "python3"
  },
  "language_info": {
   "codemirror_mode": {
    "name": "ipython",
    "version": 3
   },
   "file_extension": ".py",
   "mimetype": "text/x-python",
   "name": "python",
   "nbconvert_exporter": "python",
   "pygments_lexer": "ipython3",
   "version": "3.11.4"
  }
 },
 "nbformat": 4,
 "nbformat_minor": 5
}
