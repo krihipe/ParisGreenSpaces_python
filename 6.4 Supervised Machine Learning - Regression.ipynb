{
 "cells": [
  {
   "cell_type": "markdown",
   "id": "6fe66a6c",
   "metadata": {},
   "source": [
    "# 6.4 Supervised Machine Learning - Regression "
   ]
  },
  {
   "cell_type": "markdown",
   "id": "2717a99c",
   "metadata": {},
   "source": [
    "### This script contains the following:\n",
    "#### 1. Import data and libraries\n",
    "#### 2. Data cleaning\n",
    "#### 3. Scatterplot to explore data visually\n",
    "#### 4. Hypothesis\n",
    "#### 5. NumPy arrays\n",
    "#### 6. Split data into two sets: a training set and a test set.\n",
    "#### 7. Linear Regression\n",
    "#### 8. Plot showing regression line\n",
    "#### 9. MSE and R2 score"
   ]
  },
  {
   "cell_type": "markdown",
   "id": "1f25b38a",
   "metadata": {},
   "source": [
    "### 1. Import data and libraries"
   ]
  },
  {
   "cell_type": "code",
   "execution_count": 1,
   "id": "cc5fa33c",
   "metadata": {},
   "outputs": [],
   "source": [
    "# Importing libraries\n",
    "\n",
    "import pandas as pd\n",
    "import numpy as np\n",
    "import seaborn as sns\n",
    "import matplotlib\n",
    "import matplotlib.pyplot as plt\n",
    "import os\n",
    "import sklearn\n",
    "from sklearn.model_selection import train_test_split\n",
    "from sklearn.linear_model import LinearRegression\n",
    "from sklearn.metrics import mean_squared_error, r2_score"
   ]
  },
  {
   "cell_type": "code",
   "execution_count": 2,
   "id": "6d6e9f0f",
   "metadata": {},
   "outputs": [],
   "source": [
    "# This option ensures that the graphs you create are displayed within the notebook without the need to \"call\" them specifically.\n",
    "\n",
    "%matplotlib inline"
   ]
  },
  {
   "cell_type": "code",
   "execution_count": 3,
   "id": "70655375",
   "metadata": {},
   "outputs": [],
   "source": [
    "# Importing data\n",
    "\n",
    "# Define path\n",
    "\n",
    "path = r'/Users/kristincpeterson/Desktop/DataAnalytics/Achievement_6/Final Project - Espaces Verts'"
   ]
  },
  {
   "cell_type": "code",
   "execution_count": 4,
   "id": "437c1578",
   "metadata": {},
   "outputs": [],
   "source": [
    "# Import Paris green spaces data\n",
    "\n",
    "df = pd.read_csv(os.path.join(path, '02 Data', 'Prepared_Data', 'espaces_verts_75_updated.csv'))"
   ]
  },
  {
   "cell_type": "code",
   "execution_count": 5,
   "id": "1f817404",
   "metadata": {},
   "outputs": [
    {
     "data": {
      "text/html": [
       "<div>\n",
       "<style scoped>\n",
       "    .dataframe tbody tr th:only-of-type {\n",
       "        vertical-align: middle;\n",
       "    }\n",
       "\n",
       "    .dataframe tbody tr th {\n",
       "        vertical-align: top;\n",
       "    }\n",
       "\n",
       "    .dataframe thead th {\n",
       "        text-align: right;\n",
       "    }\n",
       "</style>\n",
       "<table border=\"1\" class=\"dataframe\">\n",
       "  <thead>\n",
       "    <tr style=\"text-align: right;\">\n",
       "      <th></th>\n",
       "      <th>Unnamed: 0.1</th>\n",
       "      <th>Unnamed: 0</th>\n",
       "      <th>ID</th>\n",
       "      <th>Name</th>\n",
       "      <th>Type</th>\n",
       "      <th>Category</th>\n",
       "      <th>Street Number</th>\n",
       "      <th>Street Number Suffix</th>\n",
       "      <th>Street Type</th>\n",
       "      <th>Street Name</th>\n",
       "      <th>...</th>\n",
       "      <th>Perimeter</th>\n",
       "      <th>Year opened</th>\n",
       "      <th>Year renovated</th>\n",
       "      <th>Former name</th>\n",
       "      <th>Year name changed</th>\n",
       "      <th>Number of entities</th>\n",
       "      <th>Open 24hrs</th>\n",
       "      <th>Geo Shape</th>\n",
       "      <th>URL_PLAN</th>\n",
       "      <th>Area category</th>\n",
       "    </tr>\n",
       "  </thead>\n",
       "  <tbody>\n",
       "    <tr>\n",
       "      <th>0</th>\n",
       "      <td>0</td>\n",
       "      <td>0</td>\n",
       "      <td>11255.0</td>\n",
       "      <td>JARDINIERES DU 39 QUAI DE LA SEINE</td>\n",
       "      <td>Décorations sur la voie publique</td>\n",
       "      <td>Jardiniere</td>\n",
       "      <td>39.0</td>\n",
       "      <td>NaN</td>\n",
       "      <td>QUAI DE LA</td>\n",
       "      <td>SEINE</td>\n",
       "      <td>...</td>\n",
       "      <td>30.737389</td>\n",
       "      <td>2011.0</td>\n",
       "      <td>NaN</td>\n",
       "      <td>NaN</td>\n",
       "      <td>NaN</td>\n",
       "      <td>2.0</td>\n",
       "      <td>NaN</td>\n",
       "      <td>{\"coordinates\": [[[[2.3733184661747395, 48.886...</td>\n",
       "      <td>http://p70-planet.apps.paris.mdp/Advitium/Appe...</td>\n",
       "      <td>Small size</td>\n",
       "    </tr>\n",
       "    <tr>\n",
       "      <th>1</th>\n",
       "      <td>1</td>\n",
       "      <td>1</td>\n",
       "      <td>10804.0</td>\n",
       "      <td>JARDINIERES DU PARVIS DE LA PLACE RAOUL DAUTRY</td>\n",
       "      <td>Décorations sur la voie publique</td>\n",
       "      <td>Jardiniere</td>\n",
       "      <td>6.0</td>\n",
       "      <td>S</td>\n",
       "      <td>PLACE</td>\n",
       "      <td>RAOUL DAUTRY</td>\n",
       "      <td>...</td>\n",
       "      <td>312.718568</td>\n",
       "      <td>NaN</td>\n",
       "      <td>NaN</td>\n",
       "      <td>NaN</td>\n",
       "      <td>NaN</td>\n",
       "      <td>4.0</td>\n",
       "      <td>NaN</td>\n",
       "      <td>{\"coordinates\": [[[[2.3216385869638, 48.841417...</td>\n",
       "      <td>http://p70-planet.apps.paris.mdp/Advitium/Appe...</td>\n",
       "      <td>Large size</td>\n",
       "    </tr>\n",
       "    <tr>\n",
       "      <th>2</th>\n",
       "      <td>2</td>\n",
       "      <td>2</td>\n",
       "      <td>10937.0</td>\n",
       "      <td>JARDINIERES ANGLE DES RUES DE TOLBIAC - BAUDRI...</td>\n",
       "      <td>Décorations sur la voie publique</td>\n",
       "      <td>Jardiniere</td>\n",
       "      <td>47.0</td>\n",
       "      <td>NaN</td>\n",
       "      <td>RUE</td>\n",
       "      <td>BAUDRICOURT</td>\n",
       "      <td>...</td>\n",
       "      <td>80.353023</td>\n",
       "      <td>2005.0</td>\n",
       "      <td>NaN</td>\n",
       "      <td>NaN</td>\n",
       "      <td>NaN</td>\n",
       "      <td>2.0</td>\n",
       "      <td>NaN</td>\n",
       "      <td>{\"coordinates\": [[[[2.363882470474931, 48.8265...</td>\n",
       "      <td>http://p70-planet.apps.paris.mdp/Advitium/Appe...</td>\n",
       "      <td>Small size</td>\n",
       "    </tr>\n",
       "    <tr>\n",
       "      <th>3</th>\n",
       "      <td>3</td>\n",
       "      <td>3</td>\n",
       "      <td>219.0</td>\n",
       "      <td>JARDIN FRANCOISE GIROUD</td>\n",
       "      <td>Promenades ouvertes</td>\n",
       "      <td>Jardin</td>\n",
       "      <td>4.0</td>\n",
       "      <td>V</td>\n",
       "      <td>PLACE D</td>\n",
       "      <td>ITALIE</td>\n",
       "      <td>...</td>\n",
       "      <td>245.468867</td>\n",
       "      <td>1878.0</td>\n",
       "      <td>2019.0</td>\n",
       "      <td>SQUARE DE LA PLACE D'ITALIE</td>\n",
       "      <td>2013.0</td>\n",
       "      <td>1.0</td>\n",
       "      <td>Oui</td>\n",
       "      <td>{\"coordinates\": [[[2.356129760906164, 48.83152...</td>\n",
       "      <td>http://p70-planet.apps.paris.mdp/Advitium/Appe...</td>\n",
       "      <td>Very large size</td>\n",
       "    </tr>\n",
       "    <tr>\n",
       "      <th>4</th>\n",
       "      <td>4</td>\n",
       "      <td>4</td>\n",
       "      <td>10303.0</td>\n",
       "      <td>JARDINIERE DE LA PLACE FRANZ LISZT</td>\n",
       "      <td>Décorations sur la voie publique</td>\n",
       "      <td>Jardiniere</td>\n",
       "      <td>2.0</td>\n",
       "      <td>BIS V</td>\n",
       "      <td>PLACE</td>\n",
       "      <td>FRANZ LISTZ</td>\n",
       "      <td>...</td>\n",
       "      <td>52.677758</td>\n",
       "      <td>NaN</td>\n",
       "      <td>NaN</td>\n",
       "      <td>NaN</td>\n",
       "      <td>NaN</td>\n",
       "      <td>1.0</td>\n",
       "      <td>NaN</td>\n",
       "      <td>{\"coordinates\": [[[2.351449405515269, 48.87773...</td>\n",
       "      <td>http://p70-planet.apps.paris.mdp/Advitium/Appe...</td>\n",
       "      <td>Small size</td>\n",
       "    </tr>\n",
       "  </tbody>\n",
       "</table>\n",
       "<p>5 rows × 25 columns</p>\n",
       "</div>"
      ],
      "text/plain": [
       "   Unnamed: 0.1  Unnamed: 0       ID  \\\n",
       "0             0           0  11255.0   \n",
       "1             1           1  10804.0   \n",
       "2             2           2  10937.0   \n",
       "3             3           3    219.0   \n",
       "4             4           4  10303.0   \n",
       "\n",
       "                                                Name  \\\n",
       "0                 JARDINIERES DU 39 QUAI DE LA SEINE   \n",
       "1     JARDINIERES DU PARVIS DE LA PLACE RAOUL DAUTRY   \n",
       "2  JARDINIERES ANGLE DES RUES DE TOLBIAC - BAUDRI...   \n",
       "3                            JARDIN FRANCOISE GIROUD   \n",
       "4                 JARDINIERE DE LA PLACE FRANZ LISZT   \n",
       "\n",
       "                               Type    Category  Street Number  \\\n",
       "0  Décorations sur la voie publique  Jardiniere           39.0   \n",
       "1  Décorations sur la voie publique  Jardiniere            6.0   \n",
       "2  Décorations sur la voie publique  Jardiniere           47.0   \n",
       "3               Promenades ouvertes      Jardin            4.0   \n",
       "4  Décorations sur la voie publique  Jardiniere            2.0   \n",
       "\n",
       "  Street Number Suffix Street Type   Street Name  ...   Perimeter  \\\n",
       "0                  NaN  QUAI DE LA         SEINE  ...   30.737389   \n",
       "1                    S       PLACE  RAOUL DAUTRY  ...  312.718568   \n",
       "2                  NaN         RUE   BAUDRICOURT  ...   80.353023   \n",
       "3                    V     PLACE D        ITALIE  ...  245.468867   \n",
       "4                BIS V       PLACE   FRANZ LISTZ  ...   52.677758   \n",
       "\n",
       "   Year opened  Year renovated                  Former name Year name changed  \\\n",
       "0       2011.0             NaN                          NaN               NaN   \n",
       "1          NaN             NaN                          NaN               NaN   \n",
       "2       2005.0             NaN                          NaN               NaN   \n",
       "3       1878.0          2019.0  SQUARE DE LA PLACE D'ITALIE            2013.0   \n",
       "4          NaN             NaN                          NaN               NaN   \n",
       "\n",
       "   Number of entities  Open 24hrs  \\\n",
       "0                 2.0         NaN   \n",
       "1                 4.0         NaN   \n",
       "2                 2.0         NaN   \n",
       "3                 1.0         Oui   \n",
       "4                 1.0         NaN   \n",
       "\n",
       "                                           Geo Shape  \\\n",
       "0  {\"coordinates\": [[[[2.3733184661747395, 48.886...   \n",
       "1  {\"coordinates\": [[[[2.3216385869638, 48.841417...   \n",
       "2  {\"coordinates\": [[[[2.363882470474931, 48.8265...   \n",
       "3  {\"coordinates\": [[[2.356129760906164, 48.83152...   \n",
       "4  {\"coordinates\": [[[2.351449405515269, 48.87773...   \n",
       "\n",
       "                                            URL_PLAN    Area category  \n",
       "0  http://p70-planet.apps.paris.mdp/Advitium/Appe...       Small size  \n",
       "1  http://p70-planet.apps.paris.mdp/Advitium/Appe...       Large size  \n",
       "2  http://p70-planet.apps.paris.mdp/Advitium/Appe...       Small size  \n",
       "3  http://p70-planet.apps.paris.mdp/Advitium/Appe...  Very large size  \n",
       "4  http://p70-planet.apps.paris.mdp/Advitium/Appe...       Small size  \n",
       "\n",
       "[5 rows x 25 columns]"
      ]
     },
     "execution_count": 5,
     "metadata": {},
     "output_type": "execute_result"
    }
   ],
   "source": [
    "df.head()"
   ]
  },
  {
   "cell_type": "code",
   "execution_count": 6,
   "id": "ebc98847",
   "metadata": {},
   "outputs": [
    {
     "data": {
      "text/plain": [
       "(2286, 25)"
      ]
     },
     "execution_count": 6,
     "metadata": {},
     "output_type": "execute_result"
    }
   ],
   "source": [
    "df.shape"
   ]
  },
  {
   "cell_type": "markdown",
   "id": "b3722108",
   "metadata": {},
   "source": [
    "### 2. Data cleaning"
   ]
  },
  {
   "cell_type": "code",
   "execution_count": 7,
   "id": "bc7cebb3",
   "metadata": {},
   "outputs": [],
   "source": [
    "# Remove Unnamed columns\n",
    "\n",
    "df.drop(columns=['Unnamed: 0', 'Unnamed: 0.1'], inplace=True)"
   ]
  },
  {
   "cell_type": "code",
   "execution_count": 8,
   "id": "99ed32f1",
   "metadata": {},
   "outputs": [
    {
     "data": {
      "text/plain": [
       "Index(['ID', 'Name', 'Type', 'Category', 'Street Number',\n",
       "       'Street Number Suffix', 'Street Type', 'Street Name', 'Zip code',\n",
       "       'Calculated area', 'Actual total area', 'Horticultural area',\n",
       "       'Enclosure', 'Perimeter', 'Year opened', 'Year renovated',\n",
       "       'Former name', 'Year name changed', 'Number of entities', 'Open 24hrs',\n",
       "       'Geo Shape', 'URL_PLAN', 'Area category'],\n",
       "      dtype='object')"
      ]
     },
     "execution_count": 8,
     "metadata": {},
     "output_type": "execute_result"
    }
   ],
   "source": [
    "df.columns"
   ]
  },
  {
   "cell_type": "code",
   "execution_count": 9,
   "id": "d8045e9c",
   "metadata": {},
   "outputs": [
    {
     "name": "stdout",
     "output_type": "stream",
     "text": [
      "<class 'pandas.core.frame.DataFrame'>\n",
      "RangeIndex: 2286 entries, 0 to 2285\n",
      "Data columns (total 23 columns):\n",
      " #   Column                Non-Null Count  Dtype  \n",
      "---  ------                --------------  -----  \n",
      " 0   ID                    2223 non-null   float64\n",
      " 1   Name                  2286 non-null   object \n",
      " 2   Type                  2285 non-null   object \n",
      " 3   Category              2286 non-null   object \n",
      " 4   Street Number         2284 non-null   float64\n",
      " 5   Street Number Suffix  365 non-null    object \n",
      " 6   Street Type           2039 non-null   object \n",
      " 7   Street Name           2036 non-null   object \n",
      " 8   Zip code              2286 non-null   float64\n",
      " 9   Calculated area       1975 non-null   float64\n",
      " 10  Actual total area     1738 non-null   float64\n",
      " 11  Horticultural area    1693 non-null   float64\n",
      " 12  Enclosure             2237 non-null   object \n",
      " 13  Perimeter             1717 non-null   float64\n",
      " 14  Year opened           1560 non-null   float64\n",
      " 15  Year renovated        97 non-null     float64\n",
      " 16  Former name           505 non-null    object \n",
      " 17  Year name changed     283 non-null    float64\n",
      " 18  Number of entities    2208 non-null   float64\n",
      " 19  Open 24hrs            847 non-null    object \n",
      " 20  Geo Shape             2284 non-null   object \n",
      " 21  URL_PLAN              2223 non-null   object \n",
      " 22  Area category         1738 non-null   object \n",
      "dtypes: float64(11), object(12)\n",
      "memory usage: 410.9+ KB\n"
     ]
    }
   ],
   "source": [
    "df.info()"
   ]
  },
  {
   "cell_type": "code",
   "execution_count": 10,
   "id": "b1d3da71",
   "metadata": {},
   "outputs": [
    {
     "data": {
      "text/plain": [
       "Year renovated          95.756780\n",
       "Year name changed       87.620297\n",
       "Street Number Suffix    84.033246\n",
       "Former name             77.909011\n",
       "Open 24hrs              62.948381\n",
       "Year opened             31.758530\n",
       "Horticultural area      25.940507\n",
       "Perimeter               24.890639\n",
       "Actual total area       23.972003\n",
       "Area category           23.972003\n",
       "Calculated area         13.604549\n",
       "Street Name             10.936133\n",
       "Street Type             10.804899\n",
       "Number of entities       3.412073\n",
       "URL_PLAN                 2.755906\n",
       "ID                       2.755906\n",
       "Enclosure                2.143482\n",
       "Street Number            0.087489\n",
       "Geo Shape                0.087489\n",
       "Type                     0.043745\n",
       "Name                     0.000000\n",
       "Zip code                 0.000000\n",
       "Category                 0.000000\n",
       "dtype: float64"
      ]
     },
     "execution_count": 10,
     "metadata": {},
     "output_type": "execute_result"
    }
   ],
   "source": [
    "# Check missing values in the Paris green spaces cleaned dataset\n",
    "missing_values = df.isnull().sum()\n",
    "\n",
    "# Calculate the percentage of missing values for each column\n",
    "missing_percentage = (missing_values / len(df)) * 100\n",
    "\n",
    "# Display the percentage of missing values for each column\n",
    "missing_percentage.sort_values(ascending=False)"
   ]
  },
  {
   "cell_type": "markdown",
   "id": "27127b6e",
   "metadata": {},
   "source": [
    "#### Zip code = none missing\n",
    "##### Calculated area = 13.6% missing \n",
    "#### Actual total area = 24% missing \n",
    "#### Horticultural area = 26% missing\n",
    "\n",
    "    Cross check if missing Calculated and Actual total areas overlap?"
   ]
  },
  {
   "cell_type": "code",
   "execution_count": 11,
   "id": "c8e256b4",
   "metadata": {},
   "outputs": [
    {
     "name": "stdout",
     "output_type": "stream",
     "text": [
      "Number of overlapping missing values: 105\n"
     ]
    }
   ],
   "source": [
    "# Check for missing values in the Calculated area and Actual total area columns\n",
    "missing_actual = df['Actual total area'].isnull()\n",
    "missing_calculated = df['Calculated area'].isnull()\n",
    "\n",
    "# Find the overlap where both are missing\n",
    "overlap_missing = missing_actual & missing_calculated\n",
    "\n",
    "# Count the number of overlapping missing values\n",
    "num_overlap_missing = overlap_missing.sum()\n",
    "\n",
    "print(f\"Number of overlapping missing values: {num_overlap_missing}\")\n"
   ]
  },
  {
   "cell_type": "code",
   "execution_count": 12,
   "id": "a1953f78",
   "metadata": {},
   "outputs": [
    {
     "name": "stdout",
     "output_type": "stream",
     "text": [
      "Number of overlapping missing values: 105\n"
     ]
    }
   ],
   "source": [
    "# Check for missing values in the Calculated + Actual + Horticultural area columns\n",
    "missing_actual = df['Actual total area'].isnull()\n",
    "missing_calculated = df['Calculated area'].isnull()\n",
    "missing_horticultural = df['Horticultural area'].isnull()\n",
    "\n",
    "# Find the overlap where both are missing\n",
    "overlap_missing = missing_actual & missing_calculated & missing_horticultural\n",
    "\n",
    "# Count the number of overlapping missing values\n",
    "num_overlap_missing = overlap_missing.sum()\n",
    "\n",
    "print(f\"Number of overlapping missing values: {num_overlap_missing}\")\n"
   ]
  },
  {
   "cell_type": "code",
   "execution_count": 13,
   "id": "d78d4481",
   "metadata": {},
   "outputs": [
    {
     "name": "stdout",
     "output_type": "stream",
     "text": [
      "311\n"
     ]
    }
   ],
   "source": [
    "# Check missing values for Calculated area\n",
    "\n",
    "print(df['Calculated area'].isnull().sum())"
   ]
  },
  {
   "cell_type": "code",
   "execution_count": 14,
   "id": "99a70774",
   "metadata": {
    "scrolled": false
   },
   "outputs": [
    {
     "data": {
      "text/plain": [
       "count    1.975000e+03\n",
       "mean     1.266710e+04\n",
       "std      2.770511e+05\n",
       "min      0.000000e+00\n",
       "25%      9.200000e+01\n",
       "50%      4.800000e+02\n",
       "75%      2.106500e+03\n",
       "max      9.284926e+06\n",
       "Name: Calculated area, dtype: float64"
      ]
     },
     "execution_count": 14,
     "metadata": {},
     "output_type": "execute_result"
    }
   ],
   "source": [
    "df['Calculated area'].describe()"
   ]
  },
  {
   "cell_type": "markdown",
   "id": "a1892e0c",
   "metadata": {},
   "source": [
    "#### Max Calculated area value corresponds with the size of Bois de Vincennes (Paris' largest park)."
   ]
  },
  {
   "cell_type": "code",
   "execution_count": 15,
   "id": "fb1a8572",
   "metadata": {},
   "outputs": [
    {
     "data": {
      "text/plain": [
       "count      1738.000000\n",
       "mean       3891.250288\n",
       "std       19587.202995\n",
       "min           0.000000\n",
       "25%          92.000000\n",
       "50%         365.500000\n",
       "75%        1925.000000\n",
       "max      432000.000000\n",
       "Name: Actual total area, dtype: float64"
      ]
     },
     "execution_count": 15,
     "metadata": {},
     "output_type": "execute_result"
    }
   ],
   "source": [
    "df['Actual total area'].describe()"
   ]
  },
  {
   "cell_type": "markdown",
   "id": "c09523f4",
   "metadata": {},
   "source": [
    "#### 25% 1st quartile Actual matches Calculated area.\n",
    "#### Actual total area max is too small (5% of size compared to max Calculated area --> does not include Bois de Vincennes)."
   ]
  },
  {
   "cell_type": "code",
   "execution_count": 16,
   "id": "fd63275c",
   "metadata": {},
   "outputs": [
    {
     "name": "stdout",
     "output_type": "stream",
     "text": [
      "548\n"
     ]
    }
   ],
   "source": [
    "# Check number of missing values for Actual total area\n",
    "\n",
    "print(df['Actual total area'].isnull().sum())"
   ]
  },
  {
   "cell_type": "markdown",
   "id": "9eed13ec",
   "metadata": {},
   "source": [
    "#### Actual total area\n",
    "    missing more values (548)\n",
    "    max 432,000\n",
    "    could be helpful in painting a more granular picture since extreme outliers not included\n",
    "#### Calculated area\n",
    "    missing fewer values (311)\n",
    "    max 9,284,926\n",
    "    extreme outliers such as the Bois de Vincennes are present\n",
    "#### Overlapping missing values?\n",
    "    105"
   ]
  },
  {
   "cell_type": "code",
   "execution_count": 17,
   "id": "d6a8a7eb",
   "metadata": {},
   "outputs": [
    {
     "name": "stderr",
     "output_type": "stream",
     "text": [
      "/var/folders/vr/wfz6rp895dv8r1w0bh88q2vh0000gn/T/ipykernel_75234/2182803067.py:2: UserWarning: \n",
      "\n",
      "`distplot` is a deprecated function and will be removed in seaborn v0.14.0.\n",
      "\n",
      "Please adapt your code to use either `displot` (a figure-level function with\n",
      "similar flexibility) or `histplot` (an axes-level function for histograms).\n",
      "\n",
      "For a guide to updating your code to use the new functions, please see\n",
      "https://gist.github.com/mwaskom/de44147ed2974457ad6372750bbe5751\n",
      "\n",
      "  sns.distplot(df['Actual total area'], bins=125)\n"
     ]
    },
    {
     "data": {
      "text/plain": [
       "<Axes: xlabel='Actual total area', ylabel='Density'>"
      ]
     },
     "execution_count": 17,
     "metadata": {},
     "output_type": "execute_result"
    },
    {
     "data": {
      "image/png": "[encoded data removed]",
      "text/plain": [
       "<Figure size 640x480 with 1 Axes>"
      ]
     },
     "metadata": {},
     "output_type": "display_data"
    }
   ],
   "source": [
    "# Actual total area extreme values check\n",
    "sns.distplot(df['Actual total area'], bins=125)"
   ]
  },
  {
   "cell_type": "code",
   "execution_count": 18,
   "id": "a8930710",
   "metadata": {
    "scrolled": true
   },
   "outputs": [
    {
     "name": "stderr",
     "output_type": "stream",
     "text": [
      "/var/folders/vr/wfz6rp895dv8r1w0bh88q2vh0000gn/T/ipykernel_75234/1354598160.py:2: UserWarning: \n",
      "\n",
      "`distplot` is a deprecated function and will be removed in seaborn v0.14.0.\n",
      "\n",
      "Please adapt your code to use either `displot` (a figure-level function with\n",
      "similar flexibility) or `histplot` (an axes-level function for histograms).\n",
      "\n",
      "For a guide to updating your code to use the new functions, please see\n",
      "https://gist.github.com/mwaskom/de44147ed2974457ad6372750bbe5751\n",
      "\n",
      "  sns.distplot(df['Calculated area'], bins=125)\n"
     ]
    },
    {
     "data": {
      "text/plain": [
       "<Axes: xlabel='Calculated area', ylabel='Density'>"
      ]
     },
     "execution_count": 18,
     "metadata": {},
     "output_type": "execute_result"
    },
    {
     "data": {
      "image/png": "[encoded data removed]",
      "text/plain": [
       "<Figure size 640x480 with 1 Axes>"
      ]
     },
     "metadata": {},
     "output_type": "display_data"
    }
   ],
   "source": [
    "# Calculated area extreme values check\n",
    "sns.distplot(df['Calculated area'], bins=125)"
   ]
  },
  {
   "cell_type": "code",
   "execution_count": 19,
   "id": "f518982a",
   "metadata": {},
   "outputs": [],
   "source": [
    "# Creating a new dataset with missing values in Actual total area column removed\n",
    "df_cleaned1 = df.dropna(subset=['Actual total area'])"
   ]
  },
  {
   "cell_type": "code",
   "execution_count": 20,
   "id": "d6ea3095",
   "metadata": {},
   "outputs": [
    {
     "name": "stdout",
     "output_type": "stream",
     "text": [
      "0\n"
     ]
    }
   ],
   "source": [
    "print(df_cleaned1['Actual total area'].isnull().sum())"
   ]
  },
  {
   "cell_type": "markdown",
   "id": "c7aea314",
   "metadata": {},
   "source": [
    "### 3. Scatterplot to explore data visually"
   ]
  },
  {
   "cell_type": "code",
   "execution_count": 21,
   "id": "986c7dad",
   "metadata": {},
   "outputs": [
    {
     "data": {
      "text/plain": [
       "<seaborn.axisgrid.FacetGrid at 0x12b731890>"
      ]
     },
     "execution_count": 21,
     "metadata": {},
     "output_type": "execute_result"
    },
    {
     "data": {
      "image/png": "[encoded data removed]",
      "text/plain": [
       "<Figure size 500x500 with 1 Axes>"
      ]
     },
     "metadata": {},
     "output_type": "display_data"
    }
   ],
   "source": [
    "# Create a scatterplot for the \"Zip code\" and \"Actual total area\" columns in seaborn\n",
    "\n",
    "sns.lmplot(x = 'Actual total area', y = 'Zip code', data = df_cleaned1)"
   ]
  },
  {
   "cell_type": "code",
   "execution_count": 22,
   "id": "a2b145db",
   "metadata": {},
   "outputs": [
    {
     "data": {
      "text/plain": [
       "<seaborn.axisgrid.FacetGrid at 0x12b717e90>"
      ]
     },
     "execution_count": 22,
     "metadata": {},
     "output_type": "execute_result"
    },
    {
     "data": {
      "image/png": "[encoded data removed]",
      "text/plain": [
       "<Figure size 500x500 with 1 Axes>"
      ]
     },
     "metadata": {},
     "output_type": "display_data"
    }
   ],
   "source": [
    "# Scatterplot switching x and y axes \"Actual total area\" and \"Zip code\"\n",
    "\n",
    "sns.lmplot(x = 'Zip code', y = 'Actual total area', data = df_cleaned1)"
   ]
  },
  {
   "cell_type": "code",
   "execution_count": 23,
   "id": "29ffbded",
   "metadata": {},
   "outputs": [
    {
     "data": {
      "text/plain": [
       "<seaborn.axisgrid.FacetGrid at 0x12b80bfd0>"
      ]
     },
     "execution_count": 23,
     "metadata": {},
     "output_type": "execute_result"
    },
    {
     "data": {
      "image/png": "[encoded data removed]",
      "text/plain": [
       "<Figure size 500x500 with 1 Axes>"
      ]
     },
     "metadata": {},
     "output_type": "display_data"
    }
   ],
   "source": [
    "# Create a scatterplot for the \"Zip code\" and \"Calculated area\" \n",
    "\n",
    "sns.lmplot(x = 'Calculated area', y = 'Zip code', data = df)"
   ]
  },
  {
   "cell_type": "code",
   "execution_count": 24,
   "id": "e82ca37e",
   "metadata": {},
   "outputs": [
    {
     "data": {
      "text/plain": [
       "<seaborn.axisgrid.FacetGrid at 0x12b548cd0>"
      ]
     },
     "execution_count": 24,
     "metadata": {},
     "output_type": "execute_result"
    },
    {
     "data": {
      "image/png": "[encoded data removed]",
      "text/plain": [
       "<Figure size 500x500 with 1 Axes>"
      ]
     },
     "metadata": {},
     "output_type": "display_data"
    }
   ],
   "source": [
    "# Switching x and y axes \n",
    "\n",
    "sns.lmplot(x = 'Zip code', y = 'Calculated area', data = df)"
   ]
  },
  {
   "cell_type": "code",
   "execution_count": 25,
   "id": "46f32dbb",
   "metadata": {},
   "outputs": [
    {
     "data": {
      "text/plain": [
       "<seaborn.axisgrid.FacetGrid at 0x12b3cecd0>"
      ]
     },
     "execution_count": 25,
     "metadata": {},
     "output_type": "execute_result"
    },
    {
     "data": {
      "image/png": "[encoded data removed]",
      "text/plain": [
       "<Figure size 500x500 with 1 Axes>"
      ]
     },
     "metadata": {},
     "output_type": "display_data"
    }
   ],
   "source": [
    "# Create a scatterplot for \"Horticultural area\" and \"Actual total area\" \n",
    "\n",
    "sns.lmplot(x = 'Horticultural area', y = 'Actual total area', data = df)"
   ]
  },
  {
   "cell_type": "code",
   "execution_count": 26,
   "id": "01da670c",
   "metadata": {},
   "outputs": [
    {
     "data": {
      "text/plain": [
       "<seaborn.axisgrid.FacetGrid at 0x12b35fd90>"
      ]
     },
     "execution_count": 26,
     "metadata": {},
     "output_type": "execute_result"
    },
    {
     "data": {
      "image/png": "[encoded data removed]",
      "text/plain": [
       "<Figure size 500x500 with 1 Axes>"
      ]
     },
     "metadata": {},
     "output_type": "display_data"
    }
   ],
   "source": [
    "# Create a scatterplot for \"Calculated area\" and \"Actual total area\" \n",
    "\n",
    "sns.lmplot(x = 'Calculated area', y = 'Actual total area', data = df)"
   ]
  },
  {
   "cell_type": "markdown",
   "id": "6a862755",
   "metadata": {},
   "source": [
    "### 4. Hypothesis"
   ]
  },
  {
   "cell_type": "markdown",
   "id": "2ab0b3e1",
   "metadata": {},
   "source": [
    "#### a) More numerous and larger green spaces are found in the higher-numbered zip codes within Paris.\n",
    "    Paris neighborhoods are shaped like a nautilus, starting from the center (75001) and circling out.\n",
    "    Central neighborhoods tend to be geographically smaller and more dense with small historic streets.\n",
    "    Outer neighborhoods are geographically larger and tend to be more modern (newer, wider streets).\n",
    "    What is the ratio or percentage of green space compared to total geographic area within each zip code?\n",
    "    And how does this compare to population (number of inhabitants) within each zip code?\n",
    "#### b) Paris green spaces are predominantly comprised of horticultural area.\n",
    "    Horticultural and total areas are a near match for small to medium sized green spaces. \n",
    "    For the largest green spaces, as total area increases Horticultural area decreases.\n",
    "#### c) Calculated green space area closely matches the Actual total green space area."
   ]
  },
  {
   "cell_type": "markdown",
   "id": "00dd93c9",
   "metadata": {},
   "source": [
    "### 5. NumPy arrays"
   ]
  },
  {
   "cell_type": "code",
   "execution_count": 27,
   "id": "848302b1",
   "metadata": {},
   "outputs": [],
   "source": [
    "# Reshape the variables into numpy arrays and put them into separate objects\n",
    "\n",
    "X = df_cleaned1['Zip code'].values.reshape(-1,1)\n",
    "y = df_cleaned1['Actual total area'].values.reshape(-1,1)"
   ]
  },
  {
   "cell_type": "code",
   "execution_count": 28,
   "id": "027ca81d",
   "metadata": {},
   "outputs": [
    {
     "data": {
      "text/plain": [
       "array([[75019.],\n",
       "       [75015.],\n",
       "       [75013.],\n",
       "       ...,\n",
       "       [75012.],\n",
       "       [75020.],\n",
       "       [75020.]])"
      ]
     },
     "execution_count": 28,
     "metadata": {},
     "output_type": "execute_result"
    }
   ],
   "source": [
    "X"
   ]
  },
  {
   "cell_type": "code",
   "execution_count": 29,
   "id": "d967d69a",
   "metadata": {},
   "outputs": [
    {
     "data": {
      "text/plain": [
       "array([[  20.],\n",
       "       [1100.],\n",
       "       [  56.],\n",
       "       ...,\n",
       "       [ 458.],\n",
       "       [ 130.],\n",
       "       [ 194.]])"
      ]
     },
     "execution_count": 29,
     "metadata": {},
     "output_type": "execute_result"
    }
   ],
   "source": [
    "y"
   ]
  },
  {
   "cell_type": "markdown",
   "id": "a67eb533",
   "metadata": {},
   "source": [
    "### 6. Split data into two sets"
   ]
  },
  {
   "cell_type": "code",
   "execution_count": 30,
   "id": "933c52d0",
   "metadata": {},
   "outputs": [],
   "source": [
    "# Split data into train set and test set\n",
    "\n",
    "X_train, X_test, y_train, y_test = train_test_split(X, y, test_size=0.3, random_state=0)"
   ]
  },
  {
   "cell_type": "markdown",
   "id": "1fbee4c1",
   "metadata": {},
   "source": [
    "### 7. Linear Regression"
   ]
  },
  {
   "cell_type": "code",
   "execution_count": 31,
   "id": "d58c6059",
   "metadata": {},
   "outputs": [],
   "source": [
    "# Create a regression object\n",
    "\n",
    "regression = LinearRegression() # this is the regression object we will fit on the training set"
   ]
  },
  {
   "cell_type": "code",
   "execution_count": 32,
   "id": "eb958019",
   "metadata": {},
   "outputs": [
    {
     "data": {
      "text/html": [
       "<style>#sk-container-id-1 {color: black;}#sk-container-id-1 pre{padding: 0;}#sk-container-id-1 div.sk-toggleable {background-color: white;}#sk-container-id-1 label.sk-toggleable__label {cursor: pointer;display: block;width: 100%;margin-bottom: 0;padding: 0.3em;box-sizing: border-box;text-align: center;}#sk-container-id-1 label.sk-toggleable__label-arrow:before {content: \"▸\";float: left;margin-right: 0.25em;color: #696969;}#sk-container-id-1 label.sk-toggleable__label-arrow:hover:before {color: black;}#sk-container-id-1 div.sk-estimator:hover label.sk-toggleable__label-arrow:before {color: black;}#sk-container-id-1 div.sk-toggleable__content {max-height: 0;max-width: 0;overflow: hidden;text-align: left;background-color: #f0f8ff;}#sk-container-id-1 div.sk-toggleable__content pre {margin: 0.2em;color: black;border-radius: 0.25em;background-color: #f0f8ff;}#sk-container-id-1 input.sk-toggleable__control:checked~div.sk-toggleable__content {max-height: 200px;max-width: 100%;overflow: auto;}#sk-container-id-1 input.sk-toggleable__control:checked~label.sk-toggleable__label-arrow:before {content: \"▾\";}#sk-container-id-1 div.sk-estimator input.sk-toggleable__control:checked~label.sk-toggleable__label {background-color: #d4ebff;}#sk-container-id-1 div.sk-label input.sk-toggleable__control:checked~label.sk-toggleable__label {background-color: #d4ebff;}#sk-container-id-1 input.sk-hidden--visually {border: 0;clip: rect(1px 1px 1px 1px);clip: rect(1px, 1px, 1px, 1px);height: 1px;margin: -1px;overflow: hidden;padding: 0;position: absolute;width: 1px;}#sk-container-id-1 div.sk-estimator {font-family: monospace;background-color: #f0f8ff;border: 1px dotted black;border-radius: 0.25em;box-sizing: border-box;margin-bottom: 0.5em;}#sk-container-id-1 div.sk-estimator:hover {background-color: #d4ebff;}#sk-container-id-1 div.sk-parallel-item::after {content: \"\";width: 100%;border-bottom: 1px solid gray;flex-grow: 1;}#sk-container-id-1 div.sk-label:hover label.sk-toggleable__label {background-color: #d4ebff;}#sk-container-id-1 div.sk-serial::before {content: \"\";position: absolute;border-left: 1px solid gray;box-sizing: border-box;top: 0;bottom: 0;left: 50%;z-index: 0;}#sk-container-id-1 div.sk-serial {display: flex;flex-direction: column;align-items: center;background-color: white;padding-right: 0.2em;padding-left: 0.2em;position: relative;}#sk-container-id-1 div.sk-item {position: relative;z-index: 1;}#sk-container-id-1 div.sk-parallel {display: flex;align-items: stretch;justify-content: center;background-color: white;position: relative;}#sk-container-id-1 div.sk-item::before, #sk-container-id-1 div.sk-parallel-item::before {content: \"\";position: absolute;border-left: 1px solid gray;box-sizing: border-box;top: 0;bottom: 0;left: 50%;z-index: -1;}#sk-container-id-1 div.sk-parallel-item {display: flex;flex-direction: column;z-index: 1;position: relative;background-color: white;}#sk-container-id-1 div.sk-parallel-item:first-child::after {align-self: flex-end;width: 50%;}#sk-container-id-1 div.sk-parallel-item:last-child::after {align-self: flex-start;width: 50%;}#sk-container-id-1 div.sk-parallel-item:only-child::after {width: 0;}#sk-container-id-1 div.sk-dashed-wrapped {border: 1px dashed gray;margin: 0 0.4em 0.5em 0.4em;box-sizing: border-box;padding-bottom: 0.4em;background-color: white;}#sk-container-id-1 div.sk-label label {font-family: monospace;font-weight: bold;display: inline-block;line-height: 1.2em;}#sk-container-id-1 div.sk-label-container {text-align: center;}#sk-container-id-1 div.sk-container {/* jupyter's `normalize.less` sets `[hidden] { display: none; }` but bootstrap.min.css set `[hidden] { display: none !important; }` so we also need the `!important` here to be able to override the default hidden behavior on the sphinx rendered scikit-learn.org. See: https://github.com/scikit-learn/scikit-learn/issues/21755 */display: inline-block !important;position: relative;}#sk-container-id-1 div.sk-text-repr-fallback {display: none;}</style><div id=\"sk-container-id-1\" class=\"sk-top-container\"><div class=\"sk-text-repr-fallback\"><pre>LinearRegression()</pre><b>In a Jupyter environment, please rerun this cell to show the HTML representation or trust the notebook. <br />On GitHub, the HTML representation is unable to render, please try loading this page with nbviewer.org.</b></div><div class=\"sk-container\" hidden><div class=\"sk-item\"><div class=\"sk-estimator sk-toggleable\"><input class=\"sk-toggleable__control sk-hidden--visually\" id=\"sk-estimator-id-1\" type=\"checkbox\" checked><label for=\"sk-estimator-id-1\" class=\"sk-toggleable__label sk-toggleable__label-arrow\">LinearRegression</label><div class=\"sk-toggleable__content\"><pre>LinearRegression()</pre></div></div></div></div></div>"
      ],
      "text/plain": [
       "LinearRegression()"
      ]
     },
     "execution_count": 32,
     "metadata": {},
     "output_type": "execute_result"
    }
   ],
   "source": [
    "# Fit the regression to the train set\n",
    "\n",
    "regression.fit(X_train, y_train)"
   ]
  },
  {
   "cell_type": "code",
   "execution_count": 33,
   "id": "0ffa4bc3",
   "metadata": {},
   "outputs": [],
   "source": [
    "# Predict the values of y using X\n",
    "\n",
    "y_predicted = regression.predict(X_test)"
   ]
  },
  {
   "cell_type": "markdown",
   "id": "34cca8a4",
   "metadata": {},
   "source": [
    "### 8. Plot showing regression line"
   ]
  },
  {
   "cell_type": "code",
   "execution_count": 34,
   "id": "91c35918",
   "metadata": {},
   "outputs": [
    {
     "data": {
      "image/png": "[encoded data removed]",
      "text/plain": [
       "<Figure size 640x480 with 1 Axes>"
      ]
     },
     "metadata": {},
     "output_type": "display_data"
    }
   ],
   "source": [
    "# Create a plot that shows the regression line from the model on the test set\n",
    "\n",
    "plot_test = plt\n",
    "plot_test.scatter(X_test, y_test, color='gray', s = 15)\n",
    "plot_test.plot(X_test, y_predicted, color='red', linewidth =3)\n",
    "plot_test.title('Actual total area vs Zip code (Test set)')\n",
    "plot_test.xlabel('Zip code')\n",
    "plot_test.ylabel('Actual total area')\n",
    "plot_test.show()"
   ]
  },
  {
   "cell_type": "markdown",
   "id": "084da9b1",
   "metadata": {},
   "source": [
    "#### Here we have a straight line. Aside from a few notable outliers, it seems we can throw out the hypothesis that Paris green space size increases with higher numbered zip codes."
   ]
  },
  {
   "cell_type": "markdown",
   "id": "0bd61b7a",
   "metadata": {},
   "source": [
    "### 9. MSE and R2 score"
   ]
  },
  {
   "cell_type": "code",
   "execution_count": 35,
   "id": "2a420548",
   "metadata": {},
   "outputs": [],
   "source": [
    "# Create objects that contain the model summary statistics.\n",
    "\n",
    "rmse = mean_squared_error(y_test, y_predicted) # This is the mean squared error\n",
    "r2 = r2_score(y_test, y_predicted) # This is the R2 score"
   ]
  },
  {
   "cell_type": "code",
   "execution_count": 36,
   "id": "bc40a038",
   "metadata": {},
   "outputs": [
    {
     "name": "stdout",
     "output_type": "stream",
     "text": [
      "Slope: [[109.58271291]]\n",
      "Mean squared error:  707097767.9531056\n",
      "R2 score:  0.00014593175933375058\n"
     ]
    }
   ],
   "source": [
    "# Print the model summary statistics. This is where you evaluate the performance of the model.\n",
    "\n",
    "print('Slope:' ,regression.coef_)\n",
    "print('Mean squared error: ', rmse)\n",
    "print('R2 score: ', r2)"
   ]
  },
  {
   "cell_type": "code",
   "execution_count": 37,
   "id": "4114292a",
   "metadata": {},
   "outputs": [
    {
     "data": {
      "text/plain": [
       "array([[2388.75945409],\n",
       "       [2717.50759281],\n",
       "       [3813.33472186],\n",
       "       [4032.50014767],\n",
       "       [2827.09030571],\n",
       "       [3922.91743477],\n",
       "       [4142.08286058],\n",
       "       [2717.50759281],\n",
       "       [2607.9248799 ],\n",
       "       [3484.58658314],\n",
       "       [3484.58658314],\n",
       "       [3484.58658314],\n",
       "       [4032.50014767],\n",
       "       [2717.50759281],\n",
       "       [3484.58658314],\n",
       "       [2607.9248799 ],\n",
       "       [3594.16929605],\n",
       "       [3265.42115733],\n",
       "       [3375.00387024],\n",
       "       [4361.24828639],\n",
       "       [3922.91743477],\n",
       "       [3375.00387024],\n",
       "       [3155.83844443],\n",
       "       [4251.66557348],\n",
       "       [4032.50014767],\n",
       "       [4142.08286058],\n",
       "       [3922.91743477],\n",
       "       [3594.16929605],\n",
       "       [2827.09030571],\n",
       "       [3594.16929605],\n",
       "       [2498.34216699],\n",
       "       [3922.91743477],\n",
       "       [3813.33472186],\n",
       "       [4361.24828639],\n",
       "       [2936.67301862],\n",
       "       [3813.33472186],\n",
       "       [3813.33472186],\n",
       "       [3265.42115733],\n",
       "       [4032.50014767],\n",
       "       [3484.58658314],\n",
       "       [3265.42115733],\n",
       "       [2936.67301862],\n",
       "       [3813.33472186],\n",
       "       [2607.9248799 ],\n",
       "       [3703.75200895],\n",
       "       [4251.66557348],\n",
       "       [4032.50014767],\n",
       "       [3922.91743477],\n",
       "       [4142.08286058],\n",
       "       [4032.50014767],\n",
       "       [4251.66557348],\n",
       "       [3813.33472186],\n",
       "       [3703.75200895],\n",
       "       [4032.50014767],\n",
       "       [4361.24828639],\n",
       "       [4142.08286058],\n",
       "       [3375.00387024],\n",
       "       [2607.9248799 ],\n",
       "       [3594.16929605],\n",
       "       [2717.50759281],\n",
       "       [4251.66557348],\n",
       "       [4142.08286058],\n",
       "       [3813.33472186],\n",
       "       [3484.58658314],\n",
       "       [3265.42115733],\n",
       "       [3375.00387024],\n",
       "       [4361.24828639],\n",
       "       [2936.67301862],\n",
       "       [3265.42115733],\n",
       "       [3703.75200895],\n",
       "       [3703.75200895],\n",
       "       [3813.33472186],\n",
       "       [3594.16929605],\n",
       "       [4251.66557348],\n",
       "       [3594.16929605],\n",
       "       [4142.08286058],\n",
       "       [3703.75200895],\n",
       "       [3484.58658314],\n",
       "       [3594.16929605],\n",
       "       [3155.83844443],\n",
       "       [3375.00387024],\n",
       "       [4361.24828639],\n",
       "       [3922.91743477],\n",
       "       [4142.08286058],\n",
       "       [3922.91743477],\n",
       "       [3703.75200895],\n",
       "       [3813.33472186],\n",
       "       [3922.91743477],\n",
       "       [3813.33472186],\n",
       "       [3594.16929605],\n",
       "       [2936.67301862],\n",
       "       [2388.75945409],\n",
       "       [4251.66557348],\n",
       "       [4032.50014767],\n",
       "       [4251.66557348],\n",
       "       [2827.09030571],\n",
       "       [3703.75200895],\n",
       "       [3484.58658314],\n",
       "       [3813.33472186],\n",
       "       [3813.33472186],\n",
       "       [4142.08286058],\n",
       "       [4361.24828639],\n",
       "       [4251.66557348],\n",
       "       [4142.08286058],\n",
       "       [4361.24828639],\n",
       "       [2717.50759281],\n",
       "       [3594.16929605],\n",
       "       [3484.58658314],\n",
       "       [3594.16929605],\n",
       "       [3703.75200895],\n",
       "       [3594.16929605],\n",
       "       [3703.75200895],\n",
       "       [4361.24828639],\n",
       "       [3594.16929605],\n",
       "       [3375.00387024],\n",
       "       [2827.09030571],\n",
       "       [3375.00387024],\n",
       "       [2607.9248799 ],\n",
       "       [4251.66557348],\n",
       "       [4251.66557348],\n",
       "       [3594.16929605],\n",
       "       [3703.75200895],\n",
       "       [2717.50759281],\n",
       "       [3484.58658314],\n",
       "       [3813.33472186],\n",
       "       [4361.24828639],\n",
       "       [3703.75200895],\n",
       "       [4361.24828639],\n",
       "       [3703.75200895],\n",
       "       [2936.67301862],\n",
       "       [2607.9248799 ],\n",
       "       [3594.16929605],\n",
       "       [3265.42115733],\n",
       "       [3155.83844443],\n",
       "       [4032.50014767],\n",
       "       [3922.91743477],\n",
       "       [2717.50759281],\n",
       "       [3813.33472186],\n",
       "       [3594.16929605],\n",
       "       [2717.50759281],\n",
       "       [4251.66557348],\n",
       "       [3703.75200895],\n",
       "       [3703.75200895],\n",
       "       [2827.09030571],\n",
       "       [3813.33472186],\n",
       "       [4251.66557348],\n",
       "       [4142.08286058],\n",
       "       [3922.91743477],\n",
       "       [3813.33472186],\n",
       "       [3922.91743477],\n",
       "       [3155.83844443],\n",
       "       [4361.24828639],\n",
       "       [3594.16929605],\n",
       "       [4142.08286058],\n",
       "       [3594.16929605],\n",
       "       [2498.34216699],\n",
       "       [4142.08286058],\n",
       "       [3813.33472186],\n",
       "       [2827.09030571],\n",
       "       [2717.50759281],\n",
       "       [3594.16929605],\n",
       "       [3484.58658314],\n",
       "       [4032.50014767],\n",
       "       [2607.9248799 ],\n",
       "       [4361.24828639],\n",
       "       [4361.24828639],\n",
       "       [3484.58658314],\n",
       "       [3813.33472186],\n",
       "       [3813.33472186],\n",
       "       [2717.50759281],\n",
       "       [3922.91743477],\n",
       "       [3922.91743477],\n",
       "       [2607.9248799 ],\n",
       "       [3813.33472186],\n",
       "       [4142.08286058],\n",
       "       [3265.42115733],\n",
       "       [3484.58658314],\n",
       "       [4251.66557348],\n",
       "       [3265.42115733],\n",
       "       [4032.50014767],\n",
       "       [3703.75200895],\n",
       "       [3922.91743477],\n",
       "       [3375.00387024],\n",
       "       [4142.08286058],\n",
       "       [3813.33472186],\n",
       "       [3813.33472186],\n",
       "       [3813.33472186],\n",
       "       [4361.24828639],\n",
       "       [3594.16929605],\n",
       "       [3484.58658314],\n",
       "       [2717.50759281],\n",
       "       [3484.58658314],\n",
       "       [3155.83844443],\n",
       "       [3594.16929605],\n",
       "       [3594.16929605],\n",
       "       [3594.16929605],\n",
       "       [4361.24828639],\n",
       "       [2607.9248799 ],\n",
       "       [4251.66557348],\n",
       "       [3594.16929605],\n",
       "       [4142.08286058],\n",
       "       [2607.9248799 ],\n",
       "       [2717.50759281],\n",
       "       [2388.75945409],\n",
       "       [4361.24828639],\n",
       "       [4142.08286058],\n",
       "       [2936.67301862],\n",
       "       [4251.66557348],\n",
       "       [3703.75200895],\n",
       "       [3375.00387024],\n",
       "       [4361.24828639],\n",
       "       [3265.42115733],\n",
       "       [3484.58658314],\n",
       "       [2717.50759281],\n",
       "       [3594.16929605],\n",
       "       [4142.08286058],\n",
       "       [2717.50759281],\n",
       "       [4032.50014767],\n",
       "       [3375.00387024],\n",
       "       [3265.42115733],\n",
       "       [3484.58658314],\n",
       "       [3046.25573152],\n",
       "       [3594.16929605],\n",
       "       [4142.08286058],\n",
       "       [2717.50759281],\n",
       "       [4251.66557348],\n",
       "       [4251.66557348],\n",
       "       [4032.50014767],\n",
       "       [3484.58658314],\n",
       "       [4032.50014767],\n",
       "       [4032.50014767],\n",
       "       [3375.00387024],\n",
       "       [3594.16929605],\n",
       "       [3594.16929605],\n",
       "       [4032.50014767],\n",
       "       [4142.08286058],\n",
       "       [4361.24828639],\n",
       "       [3813.33472186],\n",
       "       [4032.50014767],\n",
       "       [3484.58658314],\n",
       "       [3703.75200895],\n",
       "       [2607.9248799 ],\n",
       "       [4361.24828639],\n",
       "       [3703.75200895],\n",
       "       [3484.58658314],\n",
       "       [3594.16929605],\n",
       "       [4142.08286058],\n",
       "       [3703.75200895],\n",
       "       [4251.66557348],\n",
       "       [3813.33472186],\n",
       "       [4361.24828639],\n",
       "       [3594.16929605],\n",
       "       [4142.08286058],\n",
       "       [4361.24828639],\n",
       "       [2717.50759281],\n",
       "       [3484.58658314],\n",
       "       [4032.50014767],\n",
       "       [4361.24828639],\n",
       "       [2827.09030571],\n",
       "       [3813.33472186],\n",
       "       [3594.16929605],\n",
       "       [3594.16929605],\n",
       "       [3594.16929605],\n",
       "       [3594.16929605],\n",
       "       [4142.08286058],\n",
       "       [3265.42115733],\n",
       "       [2827.09030571],\n",
       "       [4361.24828639],\n",
       "       [3594.16929605],\n",
       "       [3484.58658314],\n",
       "       [3265.42115733],\n",
       "       [2827.09030571],\n",
       "       [3594.16929605],\n",
       "       [3703.75200895],\n",
       "       [3594.16929605],\n",
       "       [4251.66557348],\n",
       "       [4032.50014767],\n",
       "       [4251.66557348],\n",
       "       [3703.75200895],\n",
       "       [2388.75945409],\n",
       "       [3922.91743477],\n",
       "       [3813.33472186],\n",
       "       [3813.33472186],\n",
       "       [3922.91743477],\n",
       "       [4251.66557348],\n",
       "       [4032.50014767],\n",
       "       [3703.75200895],\n",
       "       [3484.58658314],\n",
       "       [3703.75200895],\n",
       "       [2279.17674118],\n",
       "       [4142.08286058],\n",
       "       [2936.67301862],\n",
       "       [4361.24828639],\n",
       "       [4361.24828639],\n",
       "       [3813.33472186],\n",
       "       [3265.42115733],\n",
       "       [4251.66557348],\n",
       "       [2936.67301862],\n",
       "       [2827.09030571],\n",
       "       [4142.08286058],\n",
       "       [3375.00387024],\n",
       "       [4142.08286058],\n",
       "       [3265.42115733],\n",
       "       [4032.50014767],\n",
       "       [3594.16929605],\n",
       "       [3594.16929605],\n",
       "       [3594.16929605],\n",
       "       [3922.91743477],\n",
       "       [4142.08286058],\n",
       "       [3922.91743477],\n",
       "       [4251.66557348],\n",
       "       [3813.33472186],\n",
       "       [3703.75200895],\n",
       "       [3594.16929605],\n",
       "       [3265.42115733],\n",
       "       [4142.08286058],\n",
       "       [4251.66557348],\n",
       "       [3155.83844443],\n",
       "       [3594.16929605],\n",
       "       [3594.16929605],\n",
       "       [3703.75200895],\n",
       "       [2827.09030571],\n",
       "       [3155.83844443],\n",
       "       [3703.75200895],\n",
       "       [3046.25573152],\n",
       "       [2607.9248799 ],\n",
       "       [3594.16929605],\n",
       "       [3265.42115733],\n",
       "       [4361.24828639],\n",
       "       [3703.75200895],\n",
       "       [3375.00387024],\n",
       "       [2936.67301862],\n",
       "       [4142.08286058],\n",
       "       [2717.50759281],\n",
       "       [3922.91743477],\n",
       "       [3922.91743477],\n",
       "       [3703.75200895],\n",
       "       [4361.24828639],\n",
       "       [4032.50014767],\n",
       "       [4251.66557348],\n",
       "       [4142.08286058],\n",
       "       [3703.75200895],\n",
       "       [3703.75200895],\n",
       "       [4032.50014767],\n",
       "       [4142.08286058],\n",
       "       [4251.66557348],\n",
       "       [2717.50759281],\n",
       "       [4032.50014767],\n",
       "       [4032.50014767],\n",
       "       [4251.66557348],\n",
       "       [4032.50014767],\n",
       "       [3265.42115733],\n",
       "       [3813.33472186],\n",
       "       [3594.16929605],\n",
       "       [3046.25573152],\n",
       "       [4361.24828639],\n",
       "       [4361.24828639],\n",
       "       [3265.42115733],\n",
       "       [3813.33472186],\n",
       "       [4142.08286058],\n",
       "       [3484.58658314],\n",
       "       [3813.33472186],\n",
       "       [3484.58658314],\n",
       "       [4032.50014767],\n",
       "       [4142.08286058],\n",
       "       [3813.33472186],\n",
       "       [3813.33472186],\n",
       "       [3375.00387024],\n",
       "       [3594.16929605],\n",
       "       [3703.75200895],\n",
       "       [2388.75945409],\n",
       "       [3594.16929605],\n",
       "       [4142.08286058],\n",
       "       [3046.25573152],\n",
       "       [3922.91743477],\n",
       "       [4251.66557348],\n",
       "       [4251.66557348],\n",
       "       [3265.42115733],\n",
       "       [4251.66557348],\n",
       "       [4142.08286058],\n",
       "       [3813.33472186],\n",
       "       [4361.24828639],\n",
       "       [4361.24828639],\n",
       "       [3922.91743477],\n",
       "       [4251.66557348],\n",
       "       [4032.50014767],\n",
       "       [3484.58658314],\n",
       "       [3922.91743477],\n",
       "       [3813.33472186],\n",
       "       [3484.58658314],\n",
       "       [3484.58658314],\n",
       "       [3703.75200895],\n",
       "       [4251.66557348],\n",
       "       [3484.58658314],\n",
       "       [3046.25573152],\n",
       "       [2717.50759281],\n",
       "       [4032.50014767],\n",
       "       [3813.33472186],\n",
       "       [2388.75945409],\n",
       "       [2498.34216699],\n",
       "       [3375.00387024],\n",
       "       [2827.09030571],\n",
       "       [3594.16929605],\n",
       "       [3922.91743477],\n",
       "       [3703.75200895],\n",
       "       [3813.33472186],\n",
       "       [3046.25573152],\n",
       "       [4142.08286058],\n",
       "       [3484.58658314],\n",
       "       [4361.24828639],\n",
       "       [4142.08286058],\n",
       "       [3265.42115733],\n",
       "       [4142.08286058],\n",
       "       [2827.09030571],\n",
       "       [3594.16929605],\n",
       "       [4361.24828639],\n",
       "       [3922.91743477],\n",
       "       [2607.9248799 ],\n",
       "       [4032.50014767],\n",
       "       [3594.16929605],\n",
       "       [4251.66557348],\n",
       "       [2498.34216699],\n",
       "       [3265.42115733],\n",
       "       [3922.91743477],\n",
       "       [4032.50014767],\n",
       "       [3813.33472186],\n",
       "       [3922.91743477],\n",
       "       [4361.24828639],\n",
       "       [4032.50014767],\n",
       "       [3703.75200895],\n",
       "       [4032.50014767],\n",
       "       [3813.33472186],\n",
       "       [4361.24828639],\n",
       "       [4361.24828639],\n",
       "       [4032.50014767],\n",
       "       [4142.08286058],\n",
       "       [3813.33472186],\n",
       "       [3484.58658314],\n",
       "       [3594.16929605],\n",
       "       [3813.33472186],\n",
       "       [3484.58658314],\n",
       "       [4032.50014767],\n",
       "       [3703.75200895],\n",
       "       [3265.42115733],\n",
       "       [3375.00387024],\n",
       "       [2607.9248799 ],\n",
       "       [4251.66557348],\n",
       "       [3484.58658314],\n",
       "       [4251.66557348],\n",
       "       [4251.66557348],\n",
       "       [4032.50014767],\n",
       "       [3813.33472186],\n",
       "       [3046.25573152],\n",
       "       [4142.08286058],\n",
       "       [2498.34216699],\n",
       "       [3484.58658314],\n",
       "       [3813.33472186],\n",
       "       [3813.33472186],\n",
       "       [2607.9248799 ],\n",
       "       [4361.24828639],\n",
       "       [4251.66557348],\n",
       "       [3484.58658314],\n",
       "       [2936.67301862],\n",
       "       [3484.58658314],\n",
       "       [4251.66557348],\n",
       "       [2936.67301862],\n",
       "       [3703.75200895],\n",
       "       [3484.58658314],\n",
       "       [3375.00387024],\n",
       "       [3813.33472186],\n",
       "       [3922.91743477],\n",
       "       [3594.16929605],\n",
       "       [3813.33472186],\n",
       "       [3484.58658314],\n",
       "       [2717.50759281],\n",
       "       [4361.24828639],\n",
       "       [2827.09030571],\n",
       "       [4251.66557348],\n",
       "       [4032.50014767],\n",
       "       [4361.24828639],\n",
       "       [3484.58658314],\n",
       "       [3265.42115733],\n",
       "       [4032.50014767],\n",
       "       [3484.58658314],\n",
       "       [2279.17674118],\n",
       "       [3594.16929605],\n",
       "       [3813.33472186],\n",
       "       [4361.24828639],\n",
       "       [2279.17674118],\n",
       "       [4251.66557348],\n",
       "       [4251.66557348],\n",
       "       [3703.75200895],\n",
       "       [3922.91743477],\n",
       "       [3594.16929605],\n",
       "       [3922.91743477],\n",
       "       [4251.66557348],\n",
       "       [3594.16929605],\n",
       "       [4142.08286058],\n",
       "       [3375.00387024],\n",
       "       [3484.58658314],\n",
       "       [3155.83844443],\n",
       "       [3703.75200895],\n",
       "       [2607.9248799 ],\n",
       "       [2607.9248799 ],\n",
       "       [3703.75200895],\n",
       "       [2717.50759281],\n",
       "       [3594.16929605],\n",
       "       [3484.58658314],\n",
       "       [4251.66557348],\n",
       "       [4361.24828639],\n",
       "       [3922.91743477],\n",
       "       [4142.08286058],\n",
       "       [3375.00387024],\n",
       "       [3484.58658314],\n",
       "       [3813.33472186],\n",
       "       [4251.66557348],\n",
       "       [4361.24828639],\n",
       "       [3155.83844443],\n",
       "       [3594.16929605],\n",
       "       [3594.16929605],\n",
       "       [4142.08286058],\n",
       "       [4251.66557348]])"
      ]
     },
     "execution_count": 37,
     "metadata": {},
     "output_type": "execute_result"
    }
   ],
   "source": [
    "y_predicted"
   ]
  },
  {
   "cell_type": "code",
   "execution_count": 38,
   "id": "6c3d03b9",
   "metadata": {},
   "outputs": [
    {
     "data": {
      "text/html": [
       "<div>\n",
       "<style scoped>\n",
       "    .dataframe tbody tr th:only-of-type {\n",
       "        vertical-align: middle;\n",
       "    }\n",
       "\n",
       "    .dataframe tbody tr th {\n",
       "        vertical-align: top;\n",
       "    }\n",
       "\n",
       "    .dataframe thead th {\n",
       "        text-align: right;\n",
       "    }\n",
       "</style>\n",
       "<table border=\"1\" class=\"dataframe\">\n",
       "  <thead>\n",
       "    <tr style=\"text-align: right;\">\n",
       "      <th></th>\n",
       "      <th>Actual</th>\n",
       "      <th>Predicted</th>\n",
       "    </tr>\n",
       "  </thead>\n",
       "  <tbody>\n",
       "    <tr>\n",
       "      <th>0</th>\n",
       "      <td>32.0</td>\n",
       "      <td>2388.759454</td>\n",
       "    </tr>\n",
       "    <tr>\n",
       "      <th>1</th>\n",
       "      <td>581.0</td>\n",
       "      <td>2717.507593</td>\n",
       "    </tr>\n",
       "    <tr>\n",
       "      <th>2</th>\n",
       "      <td>6020.0</td>\n",
       "      <td>3813.334722</td>\n",
       "    </tr>\n",
       "    <tr>\n",
       "      <th>3</th>\n",
       "      <td>1048.0</td>\n",
       "      <td>4032.500148</td>\n",
       "    </tr>\n",
       "    <tr>\n",
       "      <th>4</th>\n",
       "      <td>30.0</td>\n",
       "      <td>2827.090306</td>\n",
       "    </tr>\n",
       "    <tr>\n",
       "      <th>5</th>\n",
       "      <td>1252.0</td>\n",
       "      <td>3922.917435</td>\n",
       "    </tr>\n",
       "    <tr>\n",
       "      <th>6</th>\n",
       "      <td>560.0</td>\n",
       "      <td>4142.082861</td>\n",
       "    </tr>\n",
       "    <tr>\n",
       "      <th>7</th>\n",
       "      <td>16.0</td>\n",
       "      <td>2717.507593</td>\n",
       "    </tr>\n",
       "    <tr>\n",
       "      <th>8</th>\n",
       "      <td>1410.0</td>\n",
       "      <td>2607.924880</td>\n",
       "    </tr>\n",
       "    <tr>\n",
       "      <th>9</th>\n",
       "      <td>450.0</td>\n",
       "      <td>3484.586583</td>\n",
       "    </tr>\n",
       "    <tr>\n",
       "      <th>10</th>\n",
       "      <td>995.0</td>\n",
       "      <td>3484.586583</td>\n",
       "    </tr>\n",
       "    <tr>\n",
       "      <th>11</th>\n",
       "      <td>1814.0</td>\n",
       "      <td>3484.586583</td>\n",
       "    </tr>\n",
       "    <tr>\n",
       "      <th>12</th>\n",
       "      <td>80.0</td>\n",
       "      <td>4032.500148</td>\n",
       "    </tr>\n",
       "    <tr>\n",
       "      <th>13</th>\n",
       "      <td>450.0</td>\n",
       "      <td>2717.507593</td>\n",
       "    </tr>\n",
       "    <tr>\n",
       "      <th>14</th>\n",
       "      <td>371602.0</td>\n",
       "      <td>3484.586583</td>\n",
       "    </tr>\n",
       "    <tr>\n",
       "      <th>15</th>\n",
       "      <td>387.0</td>\n",
       "      <td>2607.924880</td>\n",
       "    </tr>\n",
       "    <tr>\n",
       "      <th>16</th>\n",
       "      <td>4154.0</td>\n",
       "      <td>3594.169296</td>\n",
       "    </tr>\n",
       "    <tr>\n",
       "      <th>17</th>\n",
       "      <td>150.0</td>\n",
       "      <td>3265.421157</td>\n",
       "    </tr>\n",
       "    <tr>\n",
       "      <th>18</th>\n",
       "      <td>836.0</td>\n",
       "      <td>3375.003870</td>\n",
       "    </tr>\n",
       "    <tr>\n",
       "      <th>19</th>\n",
       "      <td>4167.0</td>\n",
       "      <td>4361.248286</td>\n",
       "    </tr>\n",
       "    <tr>\n",
       "      <th>20</th>\n",
       "      <td>242.0</td>\n",
       "      <td>3922.917435</td>\n",
       "    </tr>\n",
       "    <tr>\n",
       "      <th>21</th>\n",
       "      <td>1147.0</td>\n",
       "      <td>3375.003870</td>\n",
       "    </tr>\n",
       "    <tr>\n",
       "      <th>22</th>\n",
       "      <td>482.0</td>\n",
       "      <td>3155.838444</td>\n",
       "    </tr>\n",
       "    <tr>\n",
       "      <th>23</th>\n",
       "      <td>62.0</td>\n",
       "      <td>4251.665573</td>\n",
       "    </tr>\n",
       "    <tr>\n",
       "      <th>24</th>\n",
       "      <td>2210.0</td>\n",
       "      <td>4032.500148</td>\n",
       "    </tr>\n",
       "    <tr>\n",
       "      <th>25</th>\n",
       "      <td>56.0</td>\n",
       "      <td>4142.082861</td>\n",
       "    </tr>\n",
       "    <tr>\n",
       "      <th>26</th>\n",
       "      <td>34506.0</td>\n",
       "      <td>3922.917435</td>\n",
       "    </tr>\n",
       "    <tr>\n",
       "      <th>27</th>\n",
       "      <td>407.0</td>\n",
       "      <td>3594.169296</td>\n",
       "    </tr>\n",
       "    <tr>\n",
       "      <th>28</th>\n",
       "      <td>10903.0</td>\n",
       "      <td>2827.090306</td>\n",
       "    </tr>\n",
       "    <tr>\n",
       "      <th>29</th>\n",
       "      <td>2900.0</td>\n",
       "      <td>3594.169296</td>\n",
       "    </tr>\n",
       "  </tbody>\n",
       "</table>\n",
       "</div>"
      ],
      "text/plain": [
       "      Actual    Predicted\n",
       "0       32.0  2388.759454\n",
       "1      581.0  2717.507593\n",
       "2     6020.0  3813.334722\n",
       "3     1048.0  4032.500148\n",
       "4       30.0  2827.090306\n",
       "5     1252.0  3922.917435\n",
       "6      560.0  4142.082861\n",
       "7       16.0  2717.507593\n",
       "8     1410.0  2607.924880\n",
       "9      450.0  3484.586583\n",
       "10     995.0  3484.586583\n",
       "11    1814.0  3484.586583\n",
       "12      80.0  4032.500148\n",
       "13     450.0  2717.507593\n",
       "14  371602.0  3484.586583\n",
       "15     387.0  2607.924880\n",
       "16    4154.0  3594.169296\n",
       "17     150.0  3265.421157\n",
       "18     836.0  3375.003870\n",
       "19    4167.0  4361.248286\n",
       "20     242.0  3922.917435\n",
       "21    1147.0  3375.003870\n",
       "22     482.0  3155.838444\n",
       "23      62.0  4251.665573\n",
       "24    2210.0  4032.500148\n",
       "25      56.0  4142.082861\n",
       "26   34506.0  3922.917435\n",
       "27     407.0  3594.169296\n",
       "28   10903.0  2827.090306\n",
       "29    2900.0  3594.169296"
      ]
     },
     "execution_count": 38,
     "metadata": {},
     "output_type": "execute_result"
    }
   ],
   "source": [
    "# Create a dataframe comparing the actual and predicted values of y.\n",
    "\n",
    "data = pd.DataFrame({'Actual': y_test.flatten(), 'Predicted': y_predicted.flatten()})\n",
    "data.head(30)"
   ]
  },
  {
   "cell_type": "markdown",
   "id": "4b47eacf",
   "metadata": {},
   "source": [
    "##### Compare how the regression fits the training set"
   ]
  },
  {
   "cell_type": "code",
   "execution_count": 39,
   "id": "9c369ad7",
   "metadata": {},
   "outputs": [],
   "source": [
    "# Predict\n",
    "\n",
    "y_predicted_train = regression.predict(X_train) # This is predicting X_train!"
   ]
  },
  {
   "cell_type": "code",
   "execution_count": 40,
   "id": "d96565d8",
   "metadata": {},
   "outputs": [],
   "source": [
    "rmse = mean_squared_error(y_train, y_predicted_train)\n",
    "r2 = r2_score(y_train, y_predicted_train)"
   ]
  },
  {
   "cell_type": "code",
   "execution_count": 41,
   "id": "df9af85a",
   "metadata": {},
   "outputs": [
    {
     "name": "stdout",
     "output_type": "stream",
     "text": [
      "Slope: [[109.58271291]]\n",
      "Mean squared error:  243974009.82942984\n",
      "R2 score:  0.0012302565395376774\n"
     ]
    }
   ],
   "source": [
    "print('Slope:' ,regression.coef_)\n",
    "print('Mean squared error: ', rmse)\n",
    "print('R2 score: ', r2)"
   ]
  },
  {
   "cell_type": "code",
   "execution_count": 42,
   "id": "f6ed8428",
   "metadata": {},
   "outputs": [
    {
     "data": {
      "image/png": "[encoded data removed]",
      "text/plain": [
       "<Figure size 640x480 with 1 Axes>"
      ]
     },
     "metadata": {},
     "output_type": "display_data"
    }
   ],
   "source": [
    "# Visualizing the training set results.\n",
    "\n",
    "plot_test = plt\n",
    "plot_test.scatter(X_train, y_train, color='green', s = 15)\n",
    "plot_test.plot(X_train, y_predicted_train, color='red', linewidth =3)\n",
    "plot_test.title('Zip code vs Actual total area (Train set)')\n",
    "plot_test.xlabel('Zip code')\n",
    "plot_test.ylabel('Actual total area')\n",
    "plot_test.show()"
   ]
  },
  {
   "cell_type": "markdown",
   "id": "66994c97",
   "metadata": {},
   "source": [
    "### Bonus: performance improvement after removing outliers"
   ]
  },
  {
   "cell_type": "code",
   "execution_count": 43,
   "id": "4daba3c8",
   "metadata": {},
   "outputs": [],
   "source": [
    "# Clean the extreme values from the \"Actual total area\" variable observed during the consistency checks.\n",
    "\n",
    "df_test = df_cleaned1[df_cleaned1['Actual total area'] <=5000] "
   ]
  },
  {
   "cell_type": "code",
   "execution_count": 44,
   "id": "e49307ee",
   "metadata": {},
   "outputs": [
    {
     "data": {
      "image/png": "[encoded data removed]",
      "text/plain": [
       "<Figure size 640x480 with 1 Axes>"
      ]
     },
     "metadata": {},
     "output_type": "display_data"
    }
   ],
   "source": [
    "# See how the scatterplot looks without outliers.\n",
    "\n",
    "df_test.plot(x = 'Zip code', y='Actual total area', style='o')  \n",
    "plt.title('Zip code vs Actual total area')  \n",
    "plt.xlabel('Zip code')  \n",
    "plt.ylabel('Actual total area')  \n",
    "plt.show()"
   ]
  },
  {
   "cell_type": "code",
   "execution_count": 45,
   "id": "fcc81134",
   "metadata": {},
   "outputs": [],
   "source": [
    "# Reshape again.\n",
    "\n",
    "X_2 = df_test['Zip code'].values.reshape(-1,1)\n",
    "y_2 = df_test['Actual total area'].values.reshape(-1,1)"
   ]
  },
  {
   "cell_type": "code",
   "execution_count": 46,
   "id": "3e6482fb",
   "metadata": {},
   "outputs": [],
   "source": [
    "X_train_2, X_test_2, y_train_2, y_test_2 = train_test_split(X_2, y_2, test_size=0.3, random_state=0)"
   ]
  },
  {
   "cell_type": "code",
   "execution_count": 47,
   "id": "d0888582",
   "metadata": {},
   "outputs": [
    {
     "data": {
      "text/html": [
       "<style>#sk-container-id-2 {color: black;}#sk-container-id-2 pre{padding: 0;}#sk-container-id-2 div.sk-toggleable {background-color: white;}#sk-container-id-2 label.sk-toggleable__label {cursor: pointer;display: block;width: 100%;margin-bottom: 0;padding: 0.3em;box-sizing: border-box;text-align: center;}#sk-container-id-2 label.sk-toggleable__label-arrow:before {content: \"▸\";float: left;margin-right: 0.25em;color: #696969;}#sk-container-id-2 label.sk-toggleable__label-arrow:hover:before {color: black;}#sk-container-id-2 div.sk-estimator:hover label.sk-toggleable__label-arrow:before {color: black;}#sk-container-id-2 div.sk-toggleable__content {max-height: 0;max-width: 0;overflow: hidden;text-align: left;background-color: #f0f8ff;}#sk-container-id-2 div.sk-toggleable__content pre {margin: 0.2em;color: black;border-radius: 0.25em;background-color: #f0f8ff;}#sk-container-id-2 input.sk-toggleable__control:checked~div.sk-toggleable__content {max-height: 200px;max-width: 100%;overflow: auto;}#sk-container-id-2 input.sk-toggleable__control:checked~label.sk-toggleable__label-arrow:before {content: \"▾\";}#sk-container-id-2 div.sk-estimator input.sk-toggleable__control:checked~label.sk-toggleable__label {background-color: #d4ebff;}#sk-container-id-2 div.sk-label input.sk-toggleable__control:checked~label.sk-toggleable__label {background-color: #d4ebff;}#sk-container-id-2 input.sk-hidden--visually {border: 0;clip: rect(1px 1px 1px 1px);clip: rect(1px, 1px, 1px, 1px);height: 1px;margin: -1px;overflow: hidden;padding: 0;position: absolute;width: 1px;}#sk-container-id-2 div.sk-estimator {font-family: monospace;background-color: #f0f8ff;border: 1px dotted black;border-radius: 0.25em;box-sizing: border-box;margin-bottom: 0.5em;}#sk-container-id-2 div.sk-estimator:hover {background-color: #d4ebff;}#sk-container-id-2 div.sk-parallel-item::after {content: \"\";width: 100%;border-bottom: 1px solid gray;flex-grow: 1;}#sk-container-id-2 div.sk-label:hover label.sk-toggleable__label {background-color: #d4ebff;}#sk-container-id-2 div.sk-serial::before {content: \"\";position: absolute;border-left: 1px solid gray;box-sizing: border-box;top: 0;bottom: 0;left: 50%;z-index: 0;}#sk-container-id-2 div.sk-serial {display: flex;flex-direction: column;align-items: center;background-color: white;padding-right: 0.2em;padding-left: 0.2em;position: relative;}#sk-container-id-2 div.sk-item {position: relative;z-index: 1;}#sk-container-id-2 div.sk-parallel {display: flex;align-items: stretch;justify-content: center;background-color: white;position: relative;}#sk-container-id-2 div.sk-item::before, #sk-container-id-2 div.sk-parallel-item::before {content: \"\";position: absolute;border-left: 1px solid gray;box-sizing: border-box;top: 0;bottom: 0;left: 50%;z-index: -1;}#sk-container-id-2 div.sk-parallel-item {display: flex;flex-direction: column;z-index: 1;position: relative;background-color: white;}#sk-container-id-2 div.sk-parallel-item:first-child::after {align-self: flex-end;width: 50%;}#sk-container-id-2 div.sk-parallel-item:last-child::after {align-self: flex-start;width: 50%;}#sk-container-id-2 div.sk-parallel-item:only-child::after {width: 0;}#sk-container-id-2 div.sk-dashed-wrapped {border: 1px dashed gray;margin: 0 0.4em 0.5em 0.4em;box-sizing: border-box;padding-bottom: 0.4em;background-color: white;}#sk-container-id-2 div.sk-label label {font-family: monospace;font-weight: bold;display: inline-block;line-height: 1.2em;}#sk-container-id-2 div.sk-label-container {text-align: center;}#sk-container-id-2 div.sk-container {/* jupyter's `normalize.less` sets `[hidden] { display: none; }` but bootstrap.min.css set `[hidden] { display: none !important; }` so we also need the `!important` here to be able to override the default hidden behavior on the sphinx rendered scikit-learn.org. See: https://github.com/scikit-learn/scikit-learn/issues/21755 */display: inline-block !important;position: relative;}#sk-container-id-2 div.sk-text-repr-fallback {display: none;}</style><div id=\"sk-container-id-2\" class=\"sk-top-container\"><div class=\"sk-text-repr-fallback\"><pre>LinearRegression()</pre><b>In a Jupyter environment, please rerun this cell to show the HTML representation or trust the notebook. <br />On GitHub, the HTML representation is unable to render, please try loading this page with nbviewer.org.</b></div><div class=\"sk-container\" hidden><div class=\"sk-item\"><div class=\"sk-estimator sk-toggleable\"><input class=\"sk-toggleable__control sk-hidden--visually\" id=\"sk-estimator-id-2\" type=\"checkbox\" checked><label for=\"sk-estimator-id-2\" class=\"sk-toggleable__label sk-toggleable__label-arrow\">LinearRegression</label><div class=\"sk-toggleable__content\"><pre>LinearRegression()</pre></div></div></div></div></div>"
      ],
      "text/plain": [
       "LinearRegression()"
      ]
     },
     "execution_count": 47,
     "metadata": {},
     "output_type": "execute_result"
    }
   ],
   "source": [
    "# Run and fit the regression.\n",
    "\n",
    "regression = LinearRegression()  \n",
    "regression.fit(X_train_2, y_train_2)"
   ]
  },
  {
   "cell_type": "code",
   "execution_count": 48,
   "id": "daaad788",
   "metadata": {},
   "outputs": [],
   "source": [
    "# Predict\n",
    "\n",
    "y_predicted_2 = regression.predict(X_test_2)"
   ]
  },
  {
   "cell_type": "code",
   "execution_count": 49,
   "id": "e6e6afc0",
   "metadata": {},
   "outputs": [],
   "source": [
    "rmse = mean_squared_error(y_test_2, y_predicted_2)\n",
    "r2 = r2_score(y_test_2, y_predicted_2)"
   ]
  },
  {
   "cell_type": "code",
   "execution_count": 50,
   "id": "17ecfd4a",
   "metadata": {},
   "outputs": [
    {
     "name": "stdout",
     "output_type": "stream",
     "text": [
      "Slope: [[20.21095129]]\n",
      "Mean squared error:  1161665.3510820977\n",
      "R2 score:  -0.0001323595660107646\n"
     ]
    }
   ],
   "source": [
    "print('Slope:' ,regression.coef_)\n",
    "print('Mean squared error: ', rmse)\n",
    "print('R2 score: ', r2)"
   ]
  },
  {
   "cell_type": "code",
   "execution_count": 51,
   "id": "1821190a",
   "metadata": {},
   "outputs": [
    {
     "data": {
      "image/png": "[encoded data removed]",
      "text/plain": [
       "<Figure size 640x480 with 1 Axes>"
      ]
     },
     "metadata": {},
     "output_type": "display_data"
    }
   ],
   "source": [
    "# Visualizing the test set results.\n",
    "plot_test = plt\n",
    "plot_test.scatter(X_test_2, y_test_2, color='gray', s = 15)\n",
    "plot_test.plot(X_test_2, y_predicted_2, color='red', linewidth =3)\n",
    "plot_test.title('Zip code vs Actual total area (Test set)')\n",
    "plot_test.xlabel('Zip code')\n",
    "plot_test.ylabel('Actual total area')\n",
    "plot_test.show()"
   ]
  },
  {
   "cell_type": "code",
   "execution_count": 52,
   "id": "9d0af94e",
   "metadata": {},
   "outputs": [
    {
     "data": {
      "text/html": [
       "<div>\n",
       "<style scoped>\n",
       "    .dataframe tbody tr th:only-of-type {\n",
       "        vertical-align: middle;\n",
       "    }\n",
       "\n",
       "    .dataframe tbody tr th {\n",
       "        vertical-align: top;\n",
       "    }\n",
       "\n",
       "    .dataframe thead th {\n",
       "        text-align: right;\n",
       "    }\n",
       "</style>\n",
       "<table border=\"1\" class=\"dataframe\">\n",
       "  <thead>\n",
       "    <tr style=\"text-align: right;\">\n",
       "      <th></th>\n",
       "      <th>Actual</th>\n",
       "      <th>Predicted</th>\n",
       "    </tr>\n",
       "  </thead>\n",
       "  <tbody>\n",
       "    <tr>\n",
       "      <th>0</th>\n",
       "      <td>190.0</td>\n",
       "      <td>851.762566</td>\n",
       "    </tr>\n",
       "    <tr>\n",
       "      <th>1</th>\n",
       "      <td>473.0</td>\n",
       "      <td>791.129712</td>\n",
       "    </tr>\n",
       "    <tr>\n",
       "      <th>2</th>\n",
       "      <td>63.0</td>\n",
       "      <td>770.918761</td>\n",
       "    </tr>\n",
       "    <tr>\n",
       "      <th>3</th>\n",
       "      <td>174.0</td>\n",
       "      <td>952.817323</td>\n",
       "    </tr>\n",
       "    <tr>\n",
       "      <th>4</th>\n",
       "      <td>1255.0</td>\n",
       "      <td>791.129712</td>\n",
       "    </tr>\n",
       "    <tr>\n",
       "      <th>5</th>\n",
       "      <td>1100.0</td>\n",
       "      <td>912.395420</td>\n",
       "    </tr>\n",
       "    <tr>\n",
       "      <th>6</th>\n",
       "      <td>180.0</td>\n",
       "      <td>912.395420</td>\n",
       "    </tr>\n",
       "    <tr>\n",
       "      <th>7</th>\n",
       "      <td>969.0</td>\n",
       "      <td>629.442102</td>\n",
       "    </tr>\n",
       "    <tr>\n",
       "      <th>8</th>\n",
       "      <td>400.0</td>\n",
       "      <td>871.973517</td>\n",
       "    </tr>\n",
       "    <tr>\n",
       "      <th>9</th>\n",
       "      <td>6.0</td>\n",
       "      <td>629.442102</td>\n",
       "    </tr>\n",
       "    <tr>\n",
       "      <th>10</th>\n",
       "      <td>120.0</td>\n",
       "      <td>649.653053</td>\n",
       "    </tr>\n",
       "    <tr>\n",
       "      <th>11</th>\n",
       "      <td>994.0</td>\n",
       "      <td>932.606371</td>\n",
       "    </tr>\n",
       "    <tr>\n",
       "      <th>12</th>\n",
       "      <td>1450.0</td>\n",
       "      <td>750.707810</td>\n",
       "    </tr>\n",
       "    <tr>\n",
       "      <th>13</th>\n",
       "      <td>1050.0</td>\n",
       "      <td>932.606371</td>\n",
       "    </tr>\n",
       "    <tr>\n",
       "      <th>14</th>\n",
       "      <td>2150.0</td>\n",
       "      <td>811.340664</td>\n",
       "    </tr>\n",
       "    <tr>\n",
       "      <th>15</th>\n",
       "      <td>2000.0</td>\n",
       "      <td>770.918761</td>\n",
       "    </tr>\n",
       "    <tr>\n",
       "      <th>16</th>\n",
       "      <td>500.0</td>\n",
       "      <td>791.129712</td>\n",
       "    </tr>\n",
       "    <tr>\n",
       "      <th>17</th>\n",
       "      <td>312.0</td>\n",
       "      <td>952.817323</td>\n",
       "    </tr>\n",
       "    <tr>\n",
       "      <th>18</th>\n",
       "      <td>250.0</td>\n",
       "      <td>831.551615</td>\n",
       "    </tr>\n",
       "    <tr>\n",
       "      <th>19</th>\n",
       "      <td>12.0</td>\n",
       "      <td>649.653053</td>\n",
       "    </tr>\n",
       "    <tr>\n",
       "      <th>20</th>\n",
       "      <td>1980.0</td>\n",
       "      <td>750.707810</td>\n",
       "    </tr>\n",
       "    <tr>\n",
       "      <th>21</th>\n",
       "      <td>605.0</td>\n",
       "      <td>892.184469</td>\n",
       "    </tr>\n",
       "    <tr>\n",
       "      <th>22</th>\n",
       "      <td>250.0</td>\n",
       "      <td>871.973517</td>\n",
       "    </tr>\n",
       "    <tr>\n",
       "      <th>23</th>\n",
       "      <td>2282.0</td>\n",
       "      <td>871.973517</td>\n",
       "    </tr>\n",
       "    <tr>\n",
       "      <th>24</th>\n",
       "      <td>489.0</td>\n",
       "      <td>892.184469</td>\n",
       "    </tr>\n",
       "    <tr>\n",
       "      <th>25</th>\n",
       "      <td>500.0</td>\n",
       "      <td>811.340664</td>\n",
       "    </tr>\n",
       "    <tr>\n",
       "      <th>26</th>\n",
       "      <td>92.0</td>\n",
       "      <td>892.184469</td>\n",
       "    </tr>\n",
       "    <tr>\n",
       "      <th>27</th>\n",
       "      <td>5.0</td>\n",
       "      <td>912.395420</td>\n",
       "    </tr>\n",
       "    <tr>\n",
       "      <th>28</th>\n",
       "      <td>2484.0</td>\n",
       "      <td>912.395420</td>\n",
       "    </tr>\n",
       "    <tr>\n",
       "      <th>29</th>\n",
       "      <td>1100.0</td>\n",
       "      <td>811.340664</td>\n",
       "    </tr>\n",
       "  </tbody>\n",
       "</table>\n",
       "</div>"
      ],
      "text/plain": [
       "    Actual   Predicted\n",
       "0    190.0  851.762566\n",
       "1    473.0  791.129712\n",
       "2     63.0  770.918761\n",
       "3    174.0  952.817323\n",
       "4   1255.0  791.129712\n",
       "5   1100.0  912.395420\n",
       "6    180.0  912.395420\n",
       "7    969.0  629.442102\n",
       "8    400.0  871.973517\n",
       "9      6.0  629.442102\n",
       "10   120.0  649.653053\n",
       "11   994.0  932.606371\n",
       "12  1450.0  750.707810\n",
       "13  1050.0  932.606371\n",
       "14  2150.0  811.340664\n",
       "15  2000.0  770.918761\n",
       "16   500.0  791.129712\n",
       "17   312.0  952.817323\n",
       "18   250.0  831.551615\n",
       "19    12.0  649.653053\n",
       "20  1980.0  750.707810\n",
       "21   605.0  892.184469\n",
       "22   250.0  871.973517\n",
       "23  2282.0  871.973517\n",
       "24   489.0  892.184469\n",
       "25   500.0  811.340664\n",
       "26    92.0  892.184469\n",
       "27     5.0  912.395420\n",
       "28  2484.0  912.395420\n",
       "29  1100.0  811.340664"
      ]
     },
     "execution_count": 52,
     "metadata": {},
     "output_type": "execute_result"
    }
   ],
   "source": [
    "data = pd.DataFrame({'Actual': y_test_2.flatten(), 'Predicted': y_predicted_2.flatten()})\n",
    "data.head(30)"
   ]
  },
  {
   "cell_type": "markdown",
   "id": "aca28467",
   "metadata": {},
   "source": [
    "### This dataset has too few observations (it does not have the recommended 5,000+ observations to conduct a predictive analysis).\n",
    "### Removing extreme values may have forced the model to perform better, and does not necessarily reflect reliable results.\n",
    "### Maybe the nautilus shape of Paris (with zip codes starting in the center and increasing as it spirals out) is not the best fit for this particular model due to its non-linear nature."
   ]
  }
 ],
 "metadata": {
  "kernelspec": {
   "display_name": "Python 3 (ipykernel)",
   "language": "python",
   "name": "python3"
  },
  "language_info": {
   "codemirror_mode": {
    "name": "ipython",
    "version": 3
   },
   "file_extension": ".py",
   "mimetype": "text/x-python",
   "name": "python",
   "nbconvert_exporter": "python",
   "pygments_lexer": "ipython3",
   "version": "3.11.4"
  }
 },
 "nbformat": 4,
 "nbformat_minor": 5
}
