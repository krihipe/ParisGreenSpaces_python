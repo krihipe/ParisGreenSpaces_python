{
 "cells": [
  {
   "cell_type": "markdown",
   "id": "c9c89787",
   "metadata": {},
   "source": [
    "# 6.7 Preprocessing Data for Tableau Dashboard: Geo Shape Polygons"
   ]
  },
  {
   "cell_type": "markdown",
   "id": "13b94e7f",
   "metadata": {},
   "source": [
    "### This script contains the following:\n",
    "#### 1. Import data and libraries\n",
    "#### 2. Geo Shape - Polygon"
   ]
  },
  {
   "cell_type": "markdown",
   "id": "b76928d0",
   "metadata": {},
   "source": [
    "### 1. Import data and libraries"
   ]
  },
  {
   "cell_type": "code",
   "execution_count": 1,
   "id": "476e7529",
   "metadata": {},
   "outputs": [],
   "source": [
    "import pandas as pd\n",
    "import numpy as np\n",
    "import seaborn as sns\n",
    "import matplotlib\n",
    "import os\n",
    "import folium\n",
    "import json\n",
    "from shapely.geometry import shape, Point"
   ]
  },
  {
   "cell_type": "code",
   "execution_count": 2,
   "id": "02ab1607",
   "metadata": {},
   "outputs": [],
   "source": [
    "# This command propts matplotlib visuals to appear in the notebook \n",
    "\n",
    "%matplotlib inline"
   ]
  },
  {
   "cell_type": "code",
   "execution_count": 3,
   "id": "cfb82ed1",
   "metadata": {},
   "outputs": [],
   "source": [
    "path = r'/Users/kristincpeterson/Desktop/DataAnalytics/Achievement_6/Final Project - Espaces Verts'"
   ]
  },
  {
   "cell_type": "code",
   "execution_count": 4,
   "id": "ca340db8",
   "metadata": {},
   "outputs": [],
   "source": [
    "df = pd.read_csv(os.path.join(path, '02 Data', 'Prepared_Data', 'espaces_verts_75_updated.csv'))"
   ]
  },
  {
   "cell_type": "code",
   "execution_count": 5,
   "id": "eeff602d",
   "metadata": {},
   "outputs": [
    {
     "data": {
      "text/plain": [
       "(2286, 25)"
      ]
     },
     "execution_count": 5,
     "metadata": {},
     "output_type": "execute_result"
    }
   ],
   "source": [
    "df.shape"
   ]
  },
  {
   "cell_type": "code",
   "execution_count": 6,
   "id": "04d89808",
   "metadata": {},
   "outputs": [
    {
     "data": {
      "text/html": [
       "<div>\n",
       "<style scoped>\n",
       "    .dataframe tbody tr th:only-of-type {\n",
       "        vertical-align: middle;\n",
       "    }\n",
       "\n",
       "    .dataframe tbody tr th {\n",
       "        vertical-align: top;\n",
       "    }\n",
       "\n",
       "    .dataframe thead th {\n",
       "        text-align: right;\n",
       "    }\n",
       "</style>\n",
       "<table border=\"1\" class=\"dataframe\">\n",
       "  <thead>\n",
       "    <tr style=\"text-align: right;\">\n",
       "      <th></th>\n",
       "      <th>Unnamed: 0.1</th>\n",
       "      <th>Unnamed: 0</th>\n",
       "      <th>ID</th>\n",
       "      <th>Name</th>\n",
       "      <th>Type</th>\n",
       "      <th>Category</th>\n",
       "      <th>Street Number</th>\n",
       "      <th>Street Number Suffix</th>\n",
       "      <th>Street Type</th>\n",
       "      <th>Street Name</th>\n",
       "      <th>...</th>\n",
       "      <th>Perimeter</th>\n",
       "      <th>Year opened</th>\n",
       "      <th>Year renovated</th>\n",
       "      <th>Former name</th>\n",
       "      <th>Year name changed</th>\n",
       "      <th>Number of entities</th>\n",
       "      <th>Open 24hrs</th>\n",
       "      <th>Geo Shape</th>\n",
       "      <th>URL_PLAN</th>\n",
       "      <th>Area category</th>\n",
       "    </tr>\n",
       "  </thead>\n",
       "  <tbody>\n",
       "    <tr>\n",
       "      <th>0</th>\n",
       "      <td>0</td>\n",
       "      <td>0</td>\n",
       "      <td>11255.0</td>\n",
       "      <td>JARDINIERES DU 39 QUAI DE LA SEINE</td>\n",
       "      <td>Décorations sur la voie publique</td>\n",
       "      <td>Jardiniere</td>\n",
       "      <td>39.0</td>\n",
       "      <td>NaN</td>\n",
       "      <td>QUAI DE LA</td>\n",
       "      <td>SEINE</td>\n",
       "      <td>...</td>\n",
       "      <td>30.737389</td>\n",
       "      <td>2011.0</td>\n",
       "      <td>NaN</td>\n",
       "      <td>NaN</td>\n",
       "      <td>NaN</td>\n",
       "      <td>2.0</td>\n",
       "      <td>NaN</td>\n",
       "      <td>{\"coordinates\": [[[[2.3733184661747395, 48.886...</td>\n",
       "      <td>http://p70-planet.apps.paris.mdp/Advitium/Appe...</td>\n",
       "      <td>Small size</td>\n",
       "    </tr>\n",
       "    <tr>\n",
       "      <th>1</th>\n",
       "      <td>1</td>\n",
       "      <td>1</td>\n",
       "      <td>10804.0</td>\n",
       "      <td>JARDINIERES DU PARVIS DE LA PLACE RAOUL DAUTRY</td>\n",
       "      <td>Décorations sur la voie publique</td>\n",
       "      <td>Jardiniere</td>\n",
       "      <td>6.0</td>\n",
       "      <td>S</td>\n",
       "      <td>PLACE</td>\n",
       "      <td>RAOUL DAUTRY</td>\n",
       "      <td>...</td>\n",
       "      <td>312.718568</td>\n",
       "      <td>NaN</td>\n",
       "      <td>NaN</td>\n",
       "      <td>NaN</td>\n",
       "      <td>NaN</td>\n",
       "      <td>4.0</td>\n",
       "      <td>NaN</td>\n",
       "      <td>{\"coordinates\": [[[[2.3216385869638, 48.841417...</td>\n",
       "      <td>http://p70-planet.apps.paris.mdp/Advitium/Appe...</td>\n",
       "      <td>Large size</td>\n",
       "    </tr>\n",
       "    <tr>\n",
       "      <th>2</th>\n",
       "      <td>2</td>\n",
       "      <td>2</td>\n",
       "      <td>10937.0</td>\n",
       "      <td>JARDINIERES ANGLE DES RUES DE TOLBIAC - BAUDRI...</td>\n",
       "      <td>Décorations sur la voie publique</td>\n",
       "      <td>Jardiniere</td>\n",
       "      <td>47.0</td>\n",
       "      <td>NaN</td>\n",
       "      <td>RUE</td>\n",
       "      <td>BAUDRICOURT</td>\n",
       "      <td>...</td>\n",
       "      <td>80.353023</td>\n",
       "      <td>2005.0</td>\n",
       "      <td>NaN</td>\n",
       "      <td>NaN</td>\n",
       "      <td>NaN</td>\n",
       "      <td>2.0</td>\n",
       "      <td>NaN</td>\n",
       "      <td>{\"coordinates\": [[[[2.363882470474931, 48.8265...</td>\n",
       "      <td>http://p70-planet.apps.paris.mdp/Advitium/Appe...</td>\n",
       "      <td>Small size</td>\n",
       "    </tr>\n",
       "    <tr>\n",
       "      <th>3</th>\n",
       "      <td>3</td>\n",
       "      <td>3</td>\n",
       "      <td>219.0</td>\n",
       "      <td>JARDIN FRANCOISE GIROUD</td>\n",
       "      <td>Promenades ouvertes</td>\n",
       "      <td>Jardin</td>\n",
       "      <td>4.0</td>\n",
       "      <td>V</td>\n",
       "      <td>PLACE D</td>\n",
       "      <td>ITALIE</td>\n",
       "      <td>...</td>\n",
       "      <td>245.468867</td>\n",
       "      <td>1878.0</td>\n",
       "      <td>2019.0</td>\n",
       "      <td>SQUARE DE LA PLACE D'ITALIE</td>\n",
       "      <td>2013.0</td>\n",
       "      <td>1.0</td>\n",
       "      <td>Oui</td>\n",
       "      <td>{\"coordinates\": [[[2.356129760906164, 48.83152...</td>\n",
       "      <td>http://p70-planet.apps.paris.mdp/Advitium/Appe...</td>\n",
       "      <td>Very large size</td>\n",
       "    </tr>\n",
       "    <tr>\n",
       "      <th>4</th>\n",
       "      <td>4</td>\n",
       "      <td>4</td>\n",
       "      <td>10303.0</td>\n",
       "      <td>JARDINIERE DE LA PLACE FRANZ LISZT</td>\n",
       "      <td>Décorations sur la voie publique</td>\n",
       "      <td>Jardiniere</td>\n",
       "      <td>2.0</td>\n",
       "      <td>BIS V</td>\n",
       "      <td>PLACE</td>\n",
       "      <td>FRANZ LISTZ</td>\n",
       "      <td>...</td>\n",
       "      <td>52.677758</td>\n",
       "      <td>NaN</td>\n",
       "      <td>NaN</td>\n",
       "      <td>NaN</td>\n",
       "      <td>NaN</td>\n",
       "      <td>1.0</td>\n",
       "      <td>NaN</td>\n",
       "      <td>{\"coordinates\": [[[2.351449405515269, 48.87773...</td>\n",
       "      <td>http://p70-planet.apps.paris.mdp/Advitium/Appe...</td>\n",
       "      <td>Small size</td>\n",
       "    </tr>\n",
       "  </tbody>\n",
       "</table>\n",
       "<p>5 rows × 25 columns</p>\n",
       "</div>"
      ],
      "text/plain": [
       "   Unnamed: 0.1  Unnamed: 0       ID  \\\n",
       "0             0           0  11255.0   \n",
       "1             1           1  10804.0   \n",
       "2             2           2  10937.0   \n",
       "3             3           3    219.0   \n",
       "4             4           4  10303.0   \n",
       "\n",
       "                                                Name  \\\n",
       "0                 JARDINIERES DU 39 QUAI DE LA SEINE   \n",
       "1     JARDINIERES DU PARVIS DE LA PLACE RAOUL DAUTRY   \n",
       "2  JARDINIERES ANGLE DES RUES DE TOLBIAC - BAUDRI...   \n",
       "3                            JARDIN FRANCOISE GIROUD   \n",
       "4                 JARDINIERE DE LA PLACE FRANZ LISZT   \n",
       "\n",
       "                               Type    Category  Street Number  \\\n",
       "0  Décorations sur la voie publique  Jardiniere           39.0   \n",
       "1  Décorations sur la voie publique  Jardiniere            6.0   \n",
       "2  Décorations sur la voie publique  Jardiniere           47.0   \n",
       "3               Promenades ouvertes      Jardin            4.0   \n",
       "4  Décorations sur la voie publique  Jardiniere            2.0   \n",
       "\n",
       "  Street Number Suffix Street Type   Street Name  ...   Perimeter  \\\n",
       "0                  NaN  QUAI DE LA         SEINE  ...   30.737389   \n",
       "1                    S       PLACE  RAOUL DAUTRY  ...  312.718568   \n",
       "2                  NaN         RUE   BAUDRICOURT  ...   80.353023   \n",
       "3                    V     PLACE D        ITALIE  ...  245.468867   \n",
       "4                BIS V       PLACE   FRANZ LISTZ  ...   52.677758   \n",
       "\n",
       "   Year opened  Year renovated                  Former name Year name changed  \\\n",
       "0       2011.0             NaN                          NaN               NaN   \n",
       "1          NaN             NaN                          NaN               NaN   \n",
       "2       2005.0             NaN                          NaN               NaN   \n",
       "3       1878.0          2019.0  SQUARE DE LA PLACE D'ITALIE            2013.0   \n",
       "4          NaN             NaN                          NaN               NaN   \n",
       "\n",
       "   Number of entities  Open 24hrs  \\\n",
       "0                 2.0         NaN   \n",
       "1                 4.0         NaN   \n",
       "2                 2.0         NaN   \n",
       "3                 1.0         Oui   \n",
       "4                 1.0         NaN   \n",
       "\n",
       "                                           Geo Shape  \\\n",
       "0  {\"coordinates\": [[[[2.3733184661747395, 48.886...   \n",
       "1  {\"coordinates\": [[[[2.3216385869638, 48.841417...   \n",
       "2  {\"coordinates\": [[[[2.363882470474931, 48.8265...   \n",
       "3  {\"coordinates\": [[[2.356129760906164, 48.83152...   \n",
       "4  {\"coordinates\": [[[2.351449405515269, 48.87773...   \n",
       "\n",
       "                                            URL_PLAN    Area category  \n",
       "0  http://p70-planet.apps.paris.mdp/Advitium/Appe...       Small size  \n",
       "1  http://p70-planet.apps.paris.mdp/Advitium/Appe...       Large size  \n",
       "2  http://p70-planet.apps.paris.mdp/Advitium/Appe...       Small size  \n",
       "3  http://p70-planet.apps.paris.mdp/Advitium/Appe...  Very large size  \n",
       "4  http://p70-planet.apps.paris.mdp/Advitium/Appe...       Small size  \n",
       "\n",
       "[5 rows x 25 columns]"
      ]
     },
     "execution_count": 6,
     "metadata": {},
     "output_type": "execute_result"
    }
   ],
   "source": [
    "df.head()"
   ]
  },
  {
   "cell_type": "code",
   "execution_count": 7,
   "id": "6c929e08",
   "metadata": {},
   "outputs": [],
   "source": [
    "# Remove Unnamed columns\n",
    "\n",
    "df.drop(columns=['Unnamed: 0', 'Unnamed: 0.1'], inplace=True)"
   ]
  },
  {
   "cell_type": "code",
   "execution_count": 8,
   "id": "cd6e7dad",
   "metadata": {},
   "outputs": [
    {
     "data": {
      "text/plain": [
       "Year renovated          95.756780\n",
       "Year name changed       87.620297\n",
       "Street Number Suffix    84.033246\n",
       "Former name             77.909011\n",
       "Open 24hrs              62.948381\n",
       "Year opened             31.758530\n",
       "Horticultural area      25.940507\n",
       "Perimeter               24.890639\n",
       "Actual total area       23.972003\n",
       "Area category           23.972003\n",
       "Calculated area         13.604549\n",
       "Street Name             10.936133\n",
       "Street Type             10.804899\n",
       "Number of entities       3.412073\n",
       "URL_PLAN                 2.755906\n",
       "ID                       2.755906\n",
       "Enclosure                2.143482\n",
       "Street Number            0.087489\n",
       "Geo Shape                0.087489\n",
       "Type                     0.043745\n",
       "Name                     0.000000\n",
       "Zip code                 0.000000\n",
       "Category                 0.000000\n",
       "dtype: float64"
      ]
     },
     "execution_count": 8,
     "metadata": {},
     "output_type": "execute_result"
    }
   ],
   "source": [
    "# Check missing values \n",
    "missing_values = df.isnull().sum()\n",
    "\n",
    "# Calculate the percentage of missing values for each column\n",
    "missing_percentage = (missing_values / len(df)) * 100\n",
    "\n",
    "# Display the percentage of missing values for each column\n",
    "missing_percentage.sort_values(ascending=False)"
   ]
  },
  {
   "cell_type": "code",
   "execution_count": 9,
   "id": "98a95da8",
   "metadata": {},
   "outputs": [
    {
     "data": {
      "text/plain": [
       "ID                      float64\n",
       "Name                     object\n",
       "Type                     object\n",
       "Category                 object\n",
       "Street Number           float64\n",
       "Street Number Suffix     object\n",
       "Street Type              object\n",
       "Street Name              object\n",
       "Zip code                float64\n",
       "Calculated area         float64\n",
       "Actual total area       float64\n",
       "Horticultural area      float64\n",
       "Enclosure                object\n",
       "Perimeter               float64\n",
       "Year opened             float64\n",
       "Year renovated          float64\n",
       "Former name              object\n",
       "Year name changed       float64\n",
       "Number of entities      float64\n",
       "Open 24hrs               object\n",
       "Geo Shape                object\n",
       "URL_PLAN                 object\n",
       "Area category            object\n",
       "dtype: object"
      ]
     },
     "execution_count": 9,
     "metadata": {},
     "output_type": "execute_result"
    }
   ],
   "source": [
    "df.dtypes"
   ]
  },
  {
   "cell_type": "markdown",
   "id": "7e310102",
   "metadata": {},
   "source": [
    "### 2. Geo Shape - Polygon"
   ]
  },
  {
   "cell_type": "markdown",
   "id": "83ce4cac",
   "metadata": {},
   "source": [
    "#### Prepare data to visualize complex shapes like polygons or lines from GeoJSON data in Tableau. \n",
    "#### The goal here is to convert each GeoJSON shape into a series of points that Tableau can understand and then use these points to draw the shapes."
   ]
  },
  {
   "cell_type": "code",
   "execution_count": 10,
   "id": "8ce75793",
   "metadata": {},
   "outputs": [],
   "source": [
    "# Ensure 'Geo Shape' is a string and not missing\n",
    "\n",
    "df = df.dropna(subset=['Geo Shape'])\n",
    "df['Geo Shape'] = df['Geo Shape'].astype(str)"
   ]
  },
  {
   "cell_type": "code",
   "execution_count": 13,
   "id": "4ac3acdc",
   "metadata": {},
   "outputs": [],
   "source": [
    "# Convert GeoJSON shapes to latitude and longitude points\n",
    "\n",
    "def extract_points(geojson_str):\n",
    "    \"\"\"\n",
    "    Extracts all points from a GeoJSON polygon and returns them as a list of tuples\n",
    "    (longitude, latitude, order).\n",
    "    \"\"\"\n",
    "    points = []\n",
    "    try:\n",
    "        # Convert the GeoJSON string into a Python dictionary\n",
    "        geojson = json.loads(geojson_str)\n",
    "        \n",
    "        # Use Shapely to create a shape\n",
    "        shp = shape(geojson)\n",
    "        \n",
    "        # Use geom_type instead of type\n",
    "        if shp.geom_type == 'Polygon':\n",
    "            exterior_coords = shp.exterior.coords\n",
    "            points += [(x, y, order) for order, (x, y) in enumerate(exterior_coords)]\n",
    "        \n",
    "        # Correct iteration over MultiPolygon\n",
    "        elif shp.geom_type == 'MultiPolygon':\n",
    "            for polygon in shp.geoms:\n",
    "                exterior_coords = polygon.exterior.coords\n",
    "                points += [(x, y, order) for order, (x, y) in enumerate(exterior_coords)]\n",
    "                \n",
    "    except Exception as e:\n",
    "        print(f\"Error processing GeoJSON: {e}\")\n",
    "    \n",
    "    return points\n",
    "\n",
    "# Apply the function to each row in the DataFrame and expand the list of points into rows\n",
    "all_points = []\n",
    "for index, row in df.iterrows():\n",
    "    points = extract_points(row['Geo Shape'])\n",
    "    for point in points:\n",
    "        all_points.append((row['ID'], *point))\n",
    "\n",
    "# Convert the list of points into a DataFrame\n",
    "points_df = pd.DataFrame(all_points, columns=['ID', 'Longitude', 'Latitude', 'Order'])\n"
   ]
  },
  {
   "cell_type": "code",
   "execution_count": 14,
   "id": "a4b3a618",
   "metadata": {},
   "outputs": [],
   "source": [
    "# Exporting the points for use in Tableau\n",
    "\n",
    "points_df.to_csv(os.path.join(path, '02 Data','Prepared_Data', 'processed_points.csv'))"
   ]
  },
  {
   "cell_type": "markdown",
   "id": "f4df475a",
   "metadata": {},
   "source": [
    "#### While this method technically worked, the polygon shapes that Tableau produced are not very pretty, and the map is harder to read. Unfortunately, Tableau does not seem to be the best tool to visualize these polygon shapes. Instead, we will use a single point on the map to represent each green space in Tableau."
   ]
  },
  {
   "cell_type": "code",
   "execution_count": null,
   "id": "a58c9c3a",
   "metadata": {},
   "outputs": [],
   "source": []
  }
 ],
 "metadata": {
  "kernelspec": {
   "display_name": "Python 3 (ipykernel)",
   "language": "python",
   "name": "python3"
  },
  "language_info": {
   "codemirror_mode": {
    "name": "ipython",
    "version": 3
   },
   "file_extension": ".py",
   "mimetype": "text/x-python",
   "name": "python",
   "nbconvert_exporter": "python",
   "pygments_lexer": "ipython3",
   "version": "3.11.4"
  }
 },
 "nbformat": 4,
 "nbformat_minor": 5
}
